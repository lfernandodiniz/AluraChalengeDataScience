{
  "nbformat": 4,
  "nbformat_minor": 0,
  "metadata": {
    "colab": {
      "name": "semana2.ipynb",
      "provenance": [],
      "collapsed_sections": [],
      "mount_file_id": "https://github.com/lfernandodiniz/alura_vox_challengedatascience/blob/master/semana2/semana2.ipynb",
      "authorship_tag": "ABX9TyP4tsty8cJRX9KD4XpCxZGC",
      "include_colab_link": true
    },
    "kernelspec": {
      "name": "python3",
      "display_name": "Python 3"
    },
    "language_info": {
      "name": "python"
    }
  },
  "cells": [
    {
      "cell_type": "markdown",
      "metadata": {
        "id": "view-in-github",
        "colab_type": "text"
      },
      "source": [
        "<a href=\"https://colab.research.google.com/github/lfernandodiniz/alura_vox_challengedatascience/blob/master/semana2/semana2.ipynb\" target=\"_parent\"><img src=\"https://colab.research.google.com/assets/colab-badge.svg\" alt=\"Open In Colab\"/></a>"
      ]
    },
    {
      "cell_type": "code",
      "source": [
        "!cp /content/drive/MyDrive/Colab_Notebooks/utils.py .\n",
        "import utils\n",
        "from utils import plot_countplot, heatmap_corr"
      ],
      "metadata": {
        "id": "9OLe45T_3Bsy"
      },
      "execution_count": 1,
      "outputs": []
    },
    {
      "cell_type": "code",
      "source": [
        "import sys\n",
        "sys.path.append('../')\n",
        "\n",
        "import pandas as pd\n",
        "import seaborn as sns\n",
        "import matplotlib.pyplot as plt\n",
        "\n",
        "from plotly.express import box\n",
        "#from utils.utils import plot_countplot, heatmap_corr"
      ],
      "metadata": {
        "id": "VoDyS_m73JCZ"
      },
      "execution_count": 2,
      "outputs": []
    },
    {
      "cell_type": "code",
      "execution_count": 3,
      "metadata": {
        "id": "c4foB-pvpX9Q"
      },
      "outputs": [],
      "source": [
        "#https://github.com/lfernandodiniz/alura_vox_challengedatascience/blob/master/Semana1/Data_Tratado_Churn.csv\n",
        "\n",
        "# Importando as bibliotecas necessárias\n",
        "#import pandas as pd,numpy as np, seaborn as sns"
      ]
    },
    {
      "cell_type": "code",
      "source": [
        "# Visualizando os dados\n",
        "df = pd.read_csv('/content/drive/MyDrive/Colab_Notebooks/semana2/Data_Tratado_Churn.csv')\n",
        "df"
      ],
      "metadata": {
        "colab": {
          "base_uri": "https://localhost:8080/",
          "height": 644
        },
        "id": "KeYa9nN05VEs",
        "outputId": "022d5995-dfb3-4d89-b0bc-c4456e62dd4d"
      },
      "execution_count": 4,
      "outputs": [
        {
          "output_type": "execute_result",
          "data": {
            "text/plain": [
              "      ID_Cliente Churn     Gênero Idoso Parceiro Dependentes  \\\n",
              "0     0002-ORFBO   Não   Feminino   Não      Sim         Sim   \n",
              "1     0003-MKNFE   Não  Masculino   Não      Não         Não   \n",
              "2     0004-TLHLJ   Sim  Masculino   Não      Não         Não   \n",
              "3     0011-IGKFF   Sim  Masculino   Sim      Sim         Não   \n",
              "4     0013-EXCHZ   Sim   Feminino   Sim      Sim         Não   \n",
              "...          ...   ...        ...   ...      ...         ...   \n",
              "7038  9987-LUTYD   Não   Feminino   Não      Não         Não   \n",
              "7039  9992-RRAMN   Sim  Masculino   Não      Sim         Não   \n",
              "7040  9992-UJOEL   Não  Masculino   Não      Não         Não   \n",
              "7041  9993-LHIEB   Não  Masculino   Não      Sim         Sim   \n",
              "7042  9995-HOTOH   Não  Masculino   Não      Sim         Sim   \n",
              "\n",
              "      Tempo_de_Contrato Serviço_Telefônico        Linhas_Múltiplas  \\\n",
              "0                     9                Sim                     Não   \n",
              "1                     9                Sim                     Sim   \n",
              "2                     4                Sim                     Não   \n",
              "3                    13                Sim                     Não   \n",
              "4                     3                Sim                     Não   \n",
              "...                 ...                ...                     ...   \n",
              "7038                 13                Sim                     Não   \n",
              "7039                 22                Sim                     Sim   \n",
              "7040                  2                Sim                     Não   \n",
              "7041                 67                Sim                     Não   \n",
              "7042                 63                Não  Sem serviço telefônico   \n",
              "\n",
              "     Serviço_Internet  ... Proteção_de_Dispositivo Suporte_Técnico  \\\n",
              "0                 DSL  ...                     Não             Sim   \n",
              "1                 DSL  ...                     Não             Não   \n",
              "2        Fibra óptica  ...                     Sim             Não   \n",
              "3        Fibra óptica  ...                     Sim             Não   \n",
              "4        Fibra óptica  ...                     Não             Sim   \n",
              "...               ...  ...                     ...             ...   \n",
              "7038              DSL  ...                     Não             Sim   \n",
              "7039     Fibra óptica  ...                     Não             Não   \n",
              "7040              DSL  ...                     Não             Não   \n",
              "7041              DSL  ...                     Sim             Sim   \n",
              "7042              DSL  ...                     Sim             Não   \n",
              "\n",
              "     Streaming_TV Streaming_de_Filmes   Contrato Cobrança_Digital  \\\n",
              "0             Sim                 Não      Anual              Sim   \n",
              "1             Não                 Sim     Mensal              Não   \n",
              "2             Não                 Não     Mensal              Sim   \n",
              "3             Sim                 Sim     Mensal              Sim   \n",
              "4             Sim                 Não     Mensal              Sim   \n",
              "...           ...                 ...        ...              ...   \n",
              "7038          Não                 Não      Anual              Não   \n",
              "7039          Não                 Sim     Mensal              Sim   \n",
              "7040          Não                 Não     Mensal              Sim   \n",
              "7041          Não                 Sim  Dois anos              Não   \n",
              "7042          Sim                 Sim  Dois anos              Não   \n",
              "\n",
              "     Método_de_Pagamento Cobrança_Mensal Cobrança_Total  Contas_Diárias  \n",
              "0         Cheque enviado           65.60         593.30            2.19  \n",
              "1         Cheque enviado           59.90         542.40            2.00  \n",
              "2      Cheque eletrônico           73.90         280.85            2.46  \n",
              "3      Cheque eletrônico           98.00        1237.85            3.27  \n",
              "4         Cheque enviado           83.90         267.40            2.80  \n",
              "...                  ...             ...            ...             ...  \n",
              "7038      Cheque enviado           55.15         742.90            1.84  \n",
              "7039   Cheque eletrônico           85.10        1873.70            2.84  \n",
              "7040      Cheque enviado           50.30          92.75            1.68  \n",
              "7041      Cheque enviado           67.85        4627.65            2.26  \n",
              "7042   Cheque eletrônico           59.00        3707.60            1.97  \n",
              "\n",
              "[7043 rows x 22 columns]"
            ],
            "text/html": [
              "\n",
              "  <div id=\"df-9a84e892-6c69-40c7-ab40-389fbf0149ff\">\n",
              "    <div class=\"colab-df-container\">\n",
              "      <div>\n",
              "<style scoped>\n",
              "    .dataframe tbody tr th:only-of-type {\n",
              "        vertical-align: middle;\n",
              "    }\n",
              "\n",
              "    .dataframe tbody tr th {\n",
              "        vertical-align: top;\n",
              "    }\n",
              "\n",
              "    .dataframe thead th {\n",
              "        text-align: right;\n",
              "    }\n",
              "</style>\n",
              "<table border=\"1\" class=\"dataframe\">\n",
              "  <thead>\n",
              "    <tr style=\"text-align: right;\">\n",
              "      <th></th>\n",
              "      <th>ID_Cliente</th>\n",
              "      <th>Churn</th>\n",
              "      <th>Gênero</th>\n",
              "      <th>Idoso</th>\n",
              "      <th>Parceiro</th>\n",
              "      <th>Dependentes</th>\n",
              "      <th>Tempo_de_Contrato</th>\n",
              "      <th>Serviço_Telefônico</th>\n",
              "      <th>Linhas_Múltiplas</th>\n",
              "      <th>Serviço_Internet</th>\n",
              "      <th>...</th>\n",
              "      <th>Proteção_de_Dispositivo</th>\n",
              "      <th>Suporte_Técnico</th>\n",
              "      <th>Streaming_TV</th>\n",
              "      <th>Streaming_de_Filmes</th>\n",
              "      <th>Contrato</th>\n",
              "      <th>Cobrança_Digital</th>\n",
              "      <th>Método_de_Pagamento</th>\n",
              "      <th>Cobrança_Mensal</th>\n",
              "      <th>Cobrança_Total</th>\n",
              "      <th>Contas_Diárias</th>\n",
              "    </tr>\n",
              "  </thead>\n",
              "  <tbody>\n",
              "    <tr>\n",
              "      <th>0</th>\n",
              "      <td>0002-ORFBO</td>\n",
              "      <td>Não</td>\n",
              "      <td>Feminino</td>\n",
              "      <td>Não</td>\n",
              "      <td>Sim</td>\n",
              "      <td>Sim</td>\n",
              "      <td>9</td>\n",
              "      <td>Sim</td>\n",
              "      <td>Não</td>\n",
              "      <td>DSL</td>\n",
              "      <td>...</td>\n",
              "      <td>Não</td>\n",
              "      <td>Sim</td>\n",
              "      <td>Sim</td>\n",
              "      <td>Não</td>\n",
              "      <td>Anual</td>\n",
              "      <td>Sim</td>\n",
              "      <td>Cheque enviado</td>\n",
              "      <td>65.60</td>\n",
              "      <td>593.30</td>\n",
              "      <td>2.19</td>\n",
              "    </tr>\n",
              "    <tr>\n",
              "      <th>1</th>\n",
              "      <td>0003-MKNFE</td>\n",
              "      <td>Não</td>\n",
              "      <td>Masculino</td>\n",
              "      <td>Não</td>\n",
              "      <td>Não</td>\n",
              "      <td>Não</td>\n",
              "      <td>9</td>\n",
              "      <td>Sim</td>\n",
              "      <td>Sim</td>\n",
              "      <td>DSL</td>\n",
              "      <td>...</td>\n",
              "      <td>Não</td>\n",
              "      <td>Não</td>\n",
              "      <td>Não</td>\n",
              "      <td>Sim</td>\n",
              "      <td>Mensal</td>\n",
              "      <td>Não</td>\n",
              "      <td>Cheque enviado</td>\n",
              "      <td>59.90</td>\n",
              "      <td>542.40</td>\n",
              "      <td>2.00</td>\n",
              "    </tr>\n",
              "    <tr>\n",
              "      <th>2</th>\n",
              "      <td>0004-TLHLJ</td>\n",
              "      <td>Sim</td>\n",
              "      <td>Masculino</td>\n",
              "      <td>Não</td>\n",
              "      <td>Não</td>\n",
              "      <td>Não</td>\n",
              "      <td>4</td>\n",
              "      <td>Sim</td>\n",
              "      <td>Não</td>\n",
              "      <td>Fibra óptica</td>\n",
              "      <td>...</td>\n",
              "      <td>Sim</td>\n",
              "      <td>Não</td>\n",
              "      <td>Não</td>\n",
              "      <td>Não</td>\n",
              "      <td>Mensal</td>\n",
              "      <td>Sim</td>\n",
              "      <td>Cheque eletrônico</td>\n",
              "      <td>73.90</td>\n",
              "      <td>280.85</td>\n",
              "      <td>2.46</td>\n",
              "    </tr>\n",
              "    <tr>\n",
              "      <th>3</th>\n",
              "      <td>0011-IGKFF</td>\n",
              "      <td>Sim</td>\n",
              "      <td>Masculino</td>\n",
              "      <td>Sim</td>\n",
              "      <td>Sim</td>\n",
              "      <td>Não</td>\n",
              "      <td>13</td>\n",
              "      <td>Sim</td>\n",
              "      <td>Não</td>\n",
              "      <td>Fibra óptica</td>\n",
              "      <td>...</td>\n",
              "      <td>Sim</td>\n",
              "      <td>Não</td>\n",
              "      <td>Sim</td>\n",
              "      <td>Sim</td>\n",
              "      <td>Mensal</td>\n",
              "      <td>Sim</td>\n",
              "      <td>Cheque eletrônico</td>\n",
              "      <td>98.00</td>\n",
              "      <td>1237.85</td>\n",
              "      <td>3.27</td>\n",
              "    </tr>\n",
              "    <tr>\n",
              "      <th>4</th>\n",
              "      <td>0013-EXCHZ</td>\n",
              "      <td>Sim</td>\n",
              "      <td>Feminino</td>\n",
              "      <td>Sim</td>\n",
              "      <td>Sim</td>\n",
              "      <td>Não</td>\n",
              "      <td>3</td>\n",
              "      <td>Sim</td>\n",
              "      <td>Não</td>\n",
              "      <td>Fibra óptica</td>\n",
              "      <td>...</td>\n",
              "      <td>Não</td>\n",
              "      <td>Sim</td>\n",
              "      <td>Sim</td>\n",
              "      <td>Não</td>\n",
              "      <td>Mensal</td>\n",
              "      <td>Sim</td>\n",
              "      <td>Cheque enviado</td>\n",
              "      <td>83.90</td>\n",
              "      <td>267.40</td>\n",
              "      <td>2.80</td>\n",
              "    </tr>\n",
              "    <tr>\n",
              "      <th>...</th>\n",
              "      <td>...</td>\n",
              "      <td>...</td>\n",
              "      <td>...</td>\n",
              "      <td>...</td>\n",
              "      <td>...</td>\n",
              "      <td>...</td>\n",
              "      <td>...</td>\n",
              "      <td>...</td>\n",
              "      <td>...</td>\n",
              "      <td>...</td>\n",
              "      <td>...</td>\n",
              "      <td>...</td>\n",
              "      <td>...</td>\n",
              "      <td>...</td>\n",
              "      <td>...</td>\n",
              "      <td>...</td>\n",
              "      <td>...</td>\n",
              "      <td>...</td>\n",
              "      <td>...</td>\n",
              "      <td>...</td>\n",
              "      <td>...</td>\n",
              "    </tr>\n",
              "    <tr>\n",
              "      <th>7038</th>\n",
              "      <td>9987-LUTYD</td>\n",
              "      <td>Não</td>\n",
              "      <td>Feminino</td>\n",
              "      <td>Não</td>\n",
              "      <td>Não</td>\n",
              "      <td>Não</td>\n",
              "      <td>13</td>\n",
              "      <td>Sim</td>\n",
              "      <td>Não</td>\n",
              "      <td>DSL</td>\n",
              "      <td>...</td>\n",
              "      <td>Não</td>\n",
              "      <td>Sim</td>\n",
              "      <td>Não</td>\n",
              "      <td>Não</td>\n",
              "      <td>Anual</td>\n",
              "      <td>Não</td>\n",
              "      <td>Cheque enviado</td>\n",
              "      <td>55.15</td>\n",
              "      <td>742.90</td>\n",
              "      <td>1.84</td>\n",
              "    </tr>\n",
              "    <tr>\n",
              "      <th>7039</th>\n",
              "      <td>9992-RRAMN</td>\n",
              "      <td>Sim</td>\n",
              "      <td>Masculino</td>\n",
              "      <td>Não</td>\n",
              "      <td>Sim</td>\n",
              "      <td>Não</td>\n",
              "      <td>22</td>\n",
              "      <td>Sim</td>\n",
              "      <td>Sim</td>\n",
              "      <td>Fibra óptica</td>\n",
              "      <td>...</td>\n",
              "      <td>Não</td>\n",
              "      <td>Não</td>\n",
              "      <td>Não</td>\n",
              "      <td>Sim</td>\n",
              "      <td>Mensal</td>\n",
              "      <td>Sim</td>\n",
              "      <td>Cheque eletrônico</td>\n",
              "      <td>85.10</td>\n",
              "      <td>1873.70</td>\n",
              "      <td>2.84</td>\n",
              "    </tr>\n",
              "    <tr>\n",
              "      <th>7040</th>\n",
              "      <td>9992-UJOEL</td>\n",
              "      <td>Não</td>\n",
              "      <td>Masculino</td>\n",
              "      <td>Não</td>\n",
              "      <td>Não</td>\n",
              "      <td>Não</td>\n",
              "      <td>2</td>\n",
              "      <td>Sim</td>\n",
              "      <td>Não</td>\n",
              "      <td>DSL</td>\n",
              "      <td>...</td>\n",
              "      <td>Não</td>\n",
              "      <td>Não</td>\n",
              "      <td>Não</td>\n",
              "      <td>Não</td>\n",
              "      <td>Mensal</td>\n",
              "      <td>Sim</td>\n",
              "      <td>Cheque enviado</td>\n",
              "      <td>50.30</td>\n",
              "      <td>92.75</td>\n",
              "      <td>1.68</td>\n",
              "    </tr>\n",
              "    <tr>\n",
              "      <th>7041</th>\n",
              "      <td>9993-LHIEB</td>\n",
              "      <td>Não</td>\n",
              "      <td>Masculino</td>\n",
              "      <td>Não</td>\n",
              "      <td>Sim</td>\n",
              "      <td>Sim</td>\n",
              "      <td>67</td>\n",
              "      <td>Sim</td>\n",
              "      <td>Não</td>\n",
              "      <td>DSL</td>\n",
              "      <td>...</td>\n",
              "      <td>Sim</td>\n",
              "      <td>Sim</td>\n",
              "      <td>Não</td>\n",
              "      <td>Sim</td>\n",
              "      <td>Dois anos</td>\n",
              "      <td>Não</td>\n",
              "      <td>Cheque enviado</td>\n",
              "      <td>67.85</td>\n",
              "      <td>4627.65</td>\n",
              "      <td>2.26</td>\n",
              "    </tr>\n",
              "    <tr>\n",
              "      <th>7042</th>\n",
              "      <td>9995-HOTOH</td>\n",
              "      <td>Não</td>\n",
              "      <td>Masculino</td>\n",
              "      <td>Não</td>\n",
              "      <td>Sim</td>\n",
              "      <td>Sim</td>\n",
              "      <td>63</td>\n",
              "      <td>Não</td>\n",
              "      <td>Sem serviço telefônico</td>\n",
              "      <td>DSL</td>\n",
              "      <td>...</td>\n",
              "      <td>Sim</td>\n",
              "      <td>Não</td>\n",
              "      <td>Sim</td>\n",
              "      <td>Sim</td>\n",
              "      <td>Dois anos</td>\n",
              "      <td>Não</td>\n",
              "      <td>Cheque eletrônico</td>\n",
              "      <td>59.00</td>\n",
              "      <td>3707.60</td>\n",
              "      <td>1.97</td>\n",
              "    </tr>\n",
              "  </tbody>\n",
              "</table>\n",
              "<p>7043 rows × 22 columns</p>\n",
              "</div>\n",
              "      <button class=\"colab-df-convert\" onclick=\"convertToInteractive('df-9a84e892-6c69-40c7-ab40-389fbf0149ff')\"\n",
              "              title=\"Convert this dataframe to an interactive table.\"\n",
              "              style=\"display:none;\">\n",
              "        \n",
              "  <svg xmlns=\"http://www.w3.org/2000/svg\" height=\"24px\"viewBox=\"0 0 24 24\"\n",
              "       width=\"24px\">\n",
              "    <path d=\"M0 0h24v24H0V0z\" fill=\"none\"/>\n",
              "    <path d=\"M18.56 5.44l.94 2.06.94-2.06 2.06-.94-2.06-.94-.94-2.06-.94 2.06-2.06.94zm-11 1L8.5 8.5l.94-2.06 2.06-.94-2.06-.94L8.5 2.5l-.94 2.06-2.06.94zm10 10l.94 2.06.94-2.06 2.06-.94-2.06-.94-.94-2.06-.94 2.06-2.06.94z\"/><path d=\"M17.41 7.96l-1.37-1.37c-.4-.4-.92-.59-1.43-.59-.52 0-1.04.2-1.43.59L10.3 9.45l-7.72 7.72c-.78.78-.78 2.05 0 2.83L4 21.41c.39.39.9.59 1.41.59.51 0 1.02-.2 1.41-.59l7.78-7.78 2.81-2.81c.8-.78.8-2.07 0-2.86zM5.41 20L4 18.59l7.72-7.72 1.47 1.35L5.41 20z\"/>\n",
              "  </svg>\n",
              "      </button>\n",
              "      \n",
              "  <style>\n",
              "    .colab-df-container {\n",
              "      display:flex;\n",
              "      flex-wrap:wrap;\n",
              "      gap: 12px;\n",
              "    }\n",
              "\n",
              "    .colab-df-convert {\n",
              "      background-color: #E8F0FE;\n",
              "      border: none;\n",
              "      border-radius: 50%;\n",
              "      cursor: pointer;\n",
              "      display: none;\n",
              "      fill: #1967D2;\n",
              "      height: 32px;\n",
              "      padding: 0 0 0 0;\n",
              "      width: 32px;\n",
              "    }\n",
              "\n",
              "    .colab-df-convert:hover {\n",
              "      background-color: #E2EBFA;\n",
              "      box-shadow: 0px 1px 2px rgba(60, 64, 67, 0.3), 0px 1px 3px 1px rgba(60, 64, 67, 0.15);\n",
              "      fill: #174EA6;\n",
              "    }\n",
              "\n",
              "    [theme=dark] .colab-df-convert {\n",
              "      background-color: #3B4455;\n",
              "      fill: #D2E3FC;\n",
              "    }\n",
              "\n",
              "    [theme=dark] .colab-df-convert:hover {\n",
              "      background-color: #434B5C;\n",
              "      box-shadow: 0px 1px 3px 1px rgba(0, 0, 0, 0.15);\n",
              "      filter: drop-shadow(0px 1px 2px rgba(0, 0, 0, 0.3));\n",
              "      fill: #FFFFFF;\n",
              "    }\n",
              "  </style>\n",
              "\n",
              "      <script>\n",
              "        const buttonEl =\n",
              "          document.querySelector('#df-9a84e892-6c69-40c7-ab40-389fbf0149ff button.colab-df-convert');\n",
              "        buttonEl.style.display =\n",
              "          google.colab.kernel.accessAllowed ? 'block' : 'none';\n",
              "\n",
              "        async function convertToInteractive(key) {\n",
              "          const element = document.querySelector('#df-9a84e892-6c69-40c7-ab40-389fbf0149ff');\n",
              "          const dataTable =\n",
              "            await google.colab.kernel.invokeFunction('convertToInteractive',\n",
              "                                                     [key], {});\n",
              "          if (!dataTable) return;\n",
              "\n",
              "          const docLinkHtml = 'Like what you see? Visit the ' +\n",
              "            '<a target=\"_blank\" href=https://colab.research.google.com/notebooks/data_table.ipynb>data table notebook</a>'\n",
              "            + ' to learn more about interactive tables.';\n",
              "          element.innerHTML = '';\n",
              "          dataTable['output_type'] = 'display_data';\n",
              "          await google.colab.output.renderOutput(dataTable, element);\n",
              "          const docLink = document.createElement('div');\n",
              "          docLink.innerHTML = docLinkHtml;\n",
              "          element.appendChild(docLink);\n",
              "        }\n",
              "      </script>\n",
              "    </div>\n",
              "  </div>\n",
              "  "
            ]
          },
          "metadata": {},
          "execution_count": 4
        }
      ]
    },
    {
      "cell_type": "markdown",
      "source": [
        "Para começar a analisar, vamos utilizar o método `.describe()` para entender alguns métodos estatísticos que temos dentro da base de dados.\n",
        "\n",
        "O método describe() fornece as informações sobre:\n",
        "\n",
        "* `count` - Conta a quantidade de número de valores não vazios. Com esses valores podemos entender melhor o tamanho da amostra.\n",
        "\n",
        "* `mean` - O valor médio, em média aritmética. Como ele faz uma média aritmética nem sempre mostra a realidade da maior parte dos casos do banco de dados.\n",
        "\n",
        "* `std` - O desvio padrão. É a medida de como os dados se dispersam em relação à média, ou seja, o quanto eles estão espalhados.\n",
        "\n",
        "* `min` e `max` - Valores que auxiliam a identificar a amplitude da amostra, entre o valor mínimo e máximo.\n",
        "\n",
        "* `quartis` - Valores que nos mostram de que forma os dados foram distribuídos, por exemplo em 50% é a mediana e metade dos valores são inferiores a X valor, a outra metade é superior àquele valor.\n",
        "\n",
        "Para saber mais sobre esse método, acesse o artigo [Ampliando a análise com o Describe](https://www.alura.com.br/artigos/ampliando-a-analise-com-describe)."
      ],
      "metadata": {
        "id": "23cqt7t86OwZ"
      }
    },
    {
      "cell_type": "code",
      "source": [
        "# Tem somente 3 variáveis pois são as únicas numericas e as outras são categóricas\n",
        "\n",
        "df.describe()"
      ],
      "metadata": {
        "colab": {
          "base_uri": "https://localhost:8080/",
          "height": 300
        },
        "id": "d2uR12I36NO0",
        "outputId": "c684eead-3a5d-4f46-c4da-73555278fe5e"
      },
      "execution_count": 6,
      "outputs": [
        {
          "output_type": "execute_result",
          "data": {
            "text/plain": [
              "       Tempo_de_Contrato  Cobrança_Mensal  Cobrança_Total  Contas_Diárias\n",
              "count        7043.000000      7043.000000     7032.000000     7043.000000\n",
              "mean           32.371149        64.761692     2283.300441        2.158675\n",
              "std            24.559481        30.090047     2266.771362        1.003088\n",
              "min             0.000000        18.250000       18.800000        0.610000\n",
              "25%             9.000000        35.500000      401.450000        1.180000\n",
              "50%            29.000000        70.350000     1397.475000        2.340000\n",
              "75%            55.000000        89.850000     3794.737500        2.990000\n",
              "max            72.000000       118.750000     8684.800000        3.960000"
            ],
            "text/html": [
              "\n",
              "  <div id=\"df-fc476892-0ce0-4e52-b1ff-9839b97aad2c\">\n",
              "    <div class=\"colab-df-container\">\n",
              "      <div>\n",
              "<style scoped>\n",
              "    .dataframe tbody tr th:only-of-type {\n",
              "        vertical-align: middle;\n",
              "    }\n",
              "\n",
              "    .dataframe tbody tr th {\n",
              "        vertical-align: top;\n",
              "    }\n",
              "\n",
              "    .dataframe thead th {\n",
              "        text-align: right;\n",
              "    }\n",
              "</style>\n",
              "<table border=\"1\" class=\"dataframe\">\n",
              "  <thead>\n",
              "    <tr style=\"text-align: right;\">\n",
              "      <th></th>\n",
              "      <th>Tempo_de_Contrato</th>\n",
              "      <th>Cobrança_Mensal</th>\n",
              "      <th>Cobrança_Total</th>\n",
              "      <th>Contas_Diárias</th>\n",
              "    </tr>\n",
              "  </thead>\n",
              "  <tbody>\n",
              "    <tr>\n",
              "      <th>count</th>\n",
              "      <td>7043.000000</td>\n",
              "      <td>7043.000000</td>\n",
              "      <td>7032.000000</td>\n",
              "      <td>7043.000000</td>\n",
              "    </tr>\n",
              "    <tr>\n",
              "      <th>mean</th>\n",
              "      <td>32.371149</td>\n",
              "      <td>64.761692</td>\n",
              "      <td>2283.300441</td>\n",
              "      <td>2.158675</td>\n",
              "    </tr>\n",
              "    <tr>\n",
              "      <th>std</th>\n",
              "      <td>24.559481</td>\n",
              "      <td>30.090047</td>\n",
              "      <td>2266.771362</td>\n",
              "      <td>1.003088</td>\n",
              "    </tr>\n",
              "    <tr>\n",
              "      <th>min</th>\n",
              "      <td>0.000000</td>\n",
              "      <td>18.250000</td>\n",
              "      <td>18.800000</td>\n",
              "      <td>0.610000</td>\n",
              "    </tr>\n",
              "    <tr>\n",
              "      <th>25%</th>\n",
              "      <td>9.000000</td>\n",
              "      <td>35.500000</td>\n",
              "      <td>401.450000</td>\n",
              "      <td>1.180000</td>\n",
              "    </tr>\n",
              "    <tr>\n",
              "      <th>50%</th>\n",
              "      <td>29.000000</td>\n",
              "      <td>70.350000</td>\n",
              "      <td>1397.475000</td>\n",
              "      <td>2.340000</td>\n",
              "    </tr>\n",
              "    <tr>\n",
              "      <th>75%</th>\n",
              "      <td>55.000000</td>\n",
              "      <td>89.850000</td>\n",
              "      <td>3794.737500</td>\n",
              "      <td>2.990000</td>\n",
              "    </tr>\n",
              "    <tr>\n",
              "      <th>max</th>\n",
              "      <td>72.000000</td>\n",
              "      <td>118.750000</td>\n",
              "      <td>8684.800000</td>\n",
              "      <td>3.960000</td>\n",
              "    </tr>\n",
              "  </tbody>\n",
              "</table>\n",
              "</div>\n",
              "      <button class=\"colab-df-convert\" onclick=\"convertToInteractive('df-fc476892-0ce0-4e52-b1ff-9839b97aad2c')\"\n",
              "              title=\"Convert this dataframe to an interactive table.\"\n",
              "              style=\"display:none;\">\n",
              "        \n",
              "  <svg xmlns=\"http://www.w3.org/2000/svg\" height=\"24px\"viewBox=\"0 0 24 24\"\n",
              "       width=\"24px\">\n",
              "    <path d=\"M0 0h24v24H0V0z\" fill=\"none\"/>\n",
              "    <path d=\"M18.56 5.44l.94 2.06.94-2.06 2.06-.94-2.06-.94-.94-2.06-.94 2.06-2.06.94zm-11 1L8.5 8.5l.94-2.06 2.06-.94-2.06-.94L8.5 2.5l-.94 2.06-2.06.94zm10 10l.94 2.06.94-2.06 2.06-.94-2.06-.94-.94-2.06-.94 2.06-2.06.94z\"/><path d=\"M17.41 7.96l-1.37-1.37c-.4-.4-.92-.59-1.43-.59-.52 0-1.04.2-1.43.59L10.3 9.45l-7.72 7.72c-.78.78-.78 2.05 0 2.83L4 21.41c.39.39.9.59 1.41.59.51 0 1.02-.2 1.41-.59l7.78-7.78 2.81-2.81c.8-.78.8-2.07 0-2.86zM5.41 20L4 18.59l7.72-7.72 1.47 1.35L5.41 20z\"/>\n",
              "  </svg>\n",
              "      </button>\n",
              "      \n",
              "  <style>\n",
              "    .colab-df-container {\n",
              "      display:flex;\n",
              "      flex-wrap:wrap;\n",
              "      gap: 12px;\n",
              "    }\n",
              "\n",
              "    .colab-df-convert {\n",
              "      background-color: #E8F0FE;\n",
              "      border: none;\n",
              "      border-radius: 50%;\n",
              "      cursor: pointer;\n",
              "      display: none;\n",
              "      fill: #1967D2;\n",
              "      height: 32px;\n",
              "      padding: 0 0 0 0;\n",
              "      width: 32px;\n",
              "    }\n",
              "\n",
              "    .colab-df-convert:hover {\n",
              "      background-color: #E2EBFA;\n",
              "      box-shadow: 0px 1px 2px rgba(60, 64, 67, 0.3), 0px 1px 3px 1px rgba(60, 64, 67, 0.15);\n",
              "      fill: #174EA6;\n",
              "    }\n",
              "\n",
              "    [theme=dark] .colab-df-convert {\n",
              "      background-color: #3B4455;\n",
              "      fill: #D2E3FC;\n",
              "    }\n",
              "\n",
              "    [theme=dark] .colab-df-convert:hover {\n",
              "      background-color: #434B5C;\n",
              "      box-shadow: 0px 1px 3px 1px rgba(0, 0, 0, 0.15);\n",
              "      filter: drop-shadow(0px 1px 2px rgba(0, 0, 0, 0.3));\n",
              "      fill: #FFFFFF;\n",
              "    }\n",
              "  </style>\n",
              "\n",
              "      <script>\n",
              "        const buttonEl =\n",
              "          document.querySelector('#df-fc476892-0ce0-4e52-b1ff-9839b97aad2c button.colab-df-convert');\n",
              "        buttonEl.style.display =\n",
              "          google.colab.kernel.accessAllowed ? 'block' : 'none';\n",
              "\n",
              "        async function convertToInteractive(key) {\n",
              "          const element = document.querySelector('#df-fc476892-0ce0-4e52-b1ff-9839b97aad2c');\n",
              "          const dataTable =\n",
              "            await google.colab.kernel.invokeFunction('convertToInteractive',\n",
              "                                                     [key], {});\n",
              "          if (!dataTable) return;\n",
              "\n",
              "          const docLinkHtml = 'Like what you see? Visit the ' +\n",
              "            '<a target=\"_blank\" href=https://colab.research.google.com/notebooks/data_table.ipynb>data table notebook</a>'\n",
              "            + ' to learn more about interactive tables.';\n",
              "          element.innerHTML = '';\n",
              "          dataTable['output_type'] = 'display_data';\n",
              "          await google.colab.output.renderOutput(dataTable, element);\n",
              "          const docLink = document.createElement('div');\n",
              "          docLink.innerHTML = docLinkHtml;\n",
              "          element.appendChild(docLink);\n",
              "        }\n",
              "      </script>\n",
              "    </div>\n",
              "  </div>\n",
              "  "
            ]
          },
          "metadata": {},
          "execution_count": 6
        }
      ]
    },
    {
      "cell_type": "markdown",
      "source": [
        "Podemos observar que apenas 4 colunas podem ser analisadas com o método `.describe()`, então vamos utilizar o `.dtypes` para entender quais são os tipos de dados que temos dentro da nossa base de dados."
      ],
      "metadata": {
        "id": "t9cK9gSa6iFz"
      }
    },
    {
      "cell_type": "code",
      "source": [
        "df.dtypes"
      ],
      "metadata": {
        "colab": {
          "base_uri": "https://localhost:8080/"
        },
        "id": "5MVh0hwQ6s7t",
        "outputId": "ceaec9f1-d4d4-4513-ba05-28a49e039294"
      },
      "execution_count": 7,
      "outputs": [
        {
          "output_type": "execute_result",
          "data": {
            "text/plain": [
              "ID_Cliente                  object\n",
              "Churn                       object\n",
              "Gênero                      object\n",
              "Idoso                       object\n",
              "Parceiro                    object\n",
              "Dependentes                 object\n",
              "Tempo_de_Contrato            int64\n",
              "Serviço_Telefônico          object\n",
              "Linhas_Múltiplas            object\n",
              "Serviço_Internet            object\n",
              "Segurança_Online            object\n",
              "Backup_Online               object\n",
              "Proteção_de_Dispositivo     object\n",
              "Suporte_Técnico             object\n",
              "Streaming_TV                object\n",
              "Streaming_de_Filmes         object\n",
              "Contrato                    object\n",
              "Cobrança_Digital            object\n",
              "Método_de_Pagamento         object\n",
              "Cobrança_Mensal            float64\n",
              "Cobrança_Total             float64\n",
              "Contas_Diárias             float64\n",
              "dtype: object"
            ]
          },
          "metadata": {},
          "execution_count": 7
        }
      ]
    },
    {
      "cell_type": "markdown",
      "source": [
        "Como podemos observar, a maior parte dos dados que temos é **object**, e o método não consegue trabalhar com variáveis categóricas **a não ser que** seja passado um parâmetro permitindo essa inclusão, porém algumas das nossas análises do método `.describe()` podem ser perdidas."
      ],
      "metadata": {
        "id": "QA1piJ928RRI"
      }
    },
    {
      "cell_type": "code",
      "source": [
        "# Para analisar as features que são categóricas, podemos usar include\n",
        "\n",
        "df.describe(include=[object])"
      ],
      "metadata": {
        "colab": {
          "base_uri": "https://localhost:8080/",
          "height": 256
        },
        "id": "8DfjZqeI9fSh",
        "outputId": "e7c3c02d-6693-41dc-a3f7-aadeb8906c66"
      },
      "execution_count": 8,
      "outputs": [
        {
          "output_type": "execute_result",
          "data": {
            "text/plain": [
              "        ID_Cliente Churn     Gênero Idoso Parceiro Dependentes  \\\n",
              "count         7043  7043       7043  7043     7043        7043   \n",
              "unique        7043     2          2     2        2           2   \n",
              "top     0002-ORFBO   Não  Masculino   Não      Não         Não   \n",
              "freq             1  5174       3555  5901     3641        4933   \n",
              "\n",
              "       Serviço_Telefônico Linhas_Múltiplas Serviço_Internet Segurança_Online  \\\n",
              "count                7043             7043             7043             7043   \n",
              "unique                  2                3                3                3   \n",
              "top                   Sim              Não     Fibra óptica               No   \n",
              "freq                 6361             3390             3096             3498   \n",
              "\n",
              "       Backup_Online Proteção_de_Dispositivo Suporte_Técnico Streaming_TV  \\\n",
              "count           7043                    7043            7043         7043   \n",
              "unique             3                       3               3            3   \n",
              "top              Não                     Não             Não          Não   \n",
              "freq            3088                    3095            3473         2810   \n",
              "\n",
              "       Streaming_de_Filmes Contrato Cobrança_Digital Método_de_Pagamento  \n",
              "count                 7043     7043             7043                7043  \n",
              "unique                   3        3                2                   4  \n",
              "top                    Não   Mensal              Sim   Cheque eletrônico  \n",
              "freq                  2785     3875             4171                2365  "
            ],
            "text/html": [
              "\n",
              "  <div id=\"df-57f986a4-cee8-4bde-bab2-0c70233b31cd\">\n",
              "    <div class=\"colab-df-container\">\n",
              "      <div>\n",
              "<style scoped>\n",
              "    .dataframe tbody tr th:only-of-type {\n",
              "        vertical-align: middle;\n",
              "    }\n",
              "\n",
              "    .dataframe tbody tr th {\n",
              "        vertical-align: top;\n",
              "    }\n",
              "\n",
              "    .dataframe thead th {\n",
              "        text-align: right;\n",
              "    }\n",
              "</style>\n",
              "<table border=\"1\" class=\"dataframe\">\n",
              "  <thead>\n",
              "    <tr style=\"text-align: right;\">\n",
              "      <th></th>\n",
              "      <th>ID_Cliente</th>\n",
              "      <th>Churn</th>\n",
              "      <th>Gênero</th>\n",
              "      <th>Idoso</th>\n",
              "      <th>Parceiro</th>\n",
              "      <th>Dependentes</th>\n",
              "      <th>Serviço_Telefônico</th>\n",
              "      <th>Linhas_Múltiplas</th>\n",
              "      <th>Serviço_Internet</th>\n",
              "      <th>Segurança_Online</th>\n",
              "      <th>Backup_Online</th>\n",
              "      <th>Proteção_de_Dispositivo</th>\n",
              "      <th>Suporte_Técnico</th>\n",
              "      <th>Streaming_TV</th>\n",
              "      <th>Streaming_de_Filmes</th>\n",
              "      <th>Contrato</th>\n",
              "      <th>Cobrança_Digital</th>\n",
              "      <th>Método_de_Pagamento</th>\n",
              "    </tr>\n",
              "  </thead>\n",
              "  <tbody>\n",
              "    <tr>\n",
              "      <th>count</th>\n",
              "      <td>7043</td>\n",
              "      <td>7043</td>\n",
              "      <td>7043</td>\n",
              "      <td>7043</td>\n",
              "      <td>7043</td>\n",
              "      <td>7043</td>\n",
              "      <td>7043</td>\n",
              "      <td>7043</td>\n",
              "      <td>7043</td>\n",
              "      <td>7043</td>\n",
              "      <td>7043</td>\n",
              "      <td>7043</td>\n",
              "      <td>7043</td>\n",
              "      <td>7043</td>\n",
              "      <td>7043</td>\n",
              "      <td>7043</td>\n",
              "      <td>7043</td>\n",
              "      <td>7043</td>\n",
              "    </tr>\n",
              "    <tr>\n",
              "      <th>unique</th>\n",
              "      <td>7043</td>\n",
              "      <td>2</td>\n",
              "      <td>2</td>\n",
              "      <td>2</td>\n",
              "      <td>2</td>\n",
              "      <td>2</td>\n",
              "      <td>2</td>\n",
              "      <td>3</td>\n",
              "      <td>3</td>\n",
              "      <td>3</td>\n",
              "      <td>3</td>\n",
              "      <td>3</td>\n",
              "      <td>3</td>\n",
              "      <td>3</td>\n",
              "      <td>3</td>\n",
              "      <td>3</td>\n",
              "      <td>2</td>\n",
              "      <td>4</td>\n",
              "    </tr>\n",
              "    <tr>\n",
              "      <th>top</th>\n",
              "      <td>0002-ORFBO</td>\n",
              "      <td>Não</td>\n",
              "      <td>Masculino</td>\n",
              "      <td>Não</td>\n",
              "      <td>Não</td>\n",
              "      <td>Não</td>\n",
              "      <td>Sim</td>\n",
              "      <td>Não</td>\n",
              "      <td>Fibra óptica</td>\n",
              "      <td>No</td>\n",
              "      <td>Não</td>\n",
              "      <td>Não</td>\n",
              "      <td>Não</td>\n",
              "      <td>Não</td>\n",
              "      <td>Não</td>\n",
              "      <td>Mensal</td>\n",
              "      <td>Sim</td>\n",
              "      <td>Cheque eletrônico</td>\n",
              "    </tr>\n",
              "    <tr>\n",
              "      <th>freq</th>\n",
              "      <td>1</td>\n",
              "      <td>5174</td>\n",
              "      <td>3555</td>\n",
              "      <td>5901</td>\n",
              "      <td>3641</td>\n",
              "      <td>4933</td>\n",
              "      <td>6361</td>\n",
              "      <td>3390</td>\n",
              "      <td>3096</td>\n",
              "      <td>3498</td>\n",
              "      <td>3088</td>\n",
              "      <td>3095</td>\n",
              "      <td>3473</td>\n",
              "      <td>2810</td>\n",
              "      <td>2785</td>\n",
              "      <td>3875</td>\n",
              "      <td>4171</td>\n",
              "      <td>2365</td>\n",
              "    </tr>\n",
              "  </tbody>\n",
              "</table>\n",
              "</div>\n",
              "      <button class=\"colab-df-convert\" onclick=\"convertToInteractive('df-57f986a4-cee8-4bde-bab2-0c70233b31cd')\"\n",
              "              title=\"Convert this dataframe to an interactive table.\"\n",
              "              style=\"display:none;\">\n",
              "        \n",
              "  <svg xmlns=\"http://www.w3.org/2000/svg\" height=\"24px\"viewBox=\"0 0 24 24\"\n",
              "       width=\"24px\">\n",
              "    <path d=\"M0 0h24v24H0V0z\" fill=\"none\"/>\n",
              "    <path d=\"M18.56 5.44l.94 2.06.94-2.06 2.06-.94-2.06-.94-.94-2.06-.94 2.06-2.06.94zm-11 1L8.5 8.5l.94-2.06 2.06-.94-2.06-.94L8.5 2.5l-.94 2.06-2.06.94zm10 10l.94 2.06.94-2.06 2.06-.94-2.06-.94-.94-2.06-.94 2.06-2.06.94z\"/><path d=\"M17.41 7.96l-1.37-1.37c-.4-.4-.92-.59-1.43-.59-.52 0-1.04.2-1.43.59L10.3 9.45l-7.72 7.72c-.78.78-.78 2.05 0 2.83L4 21.41c.39.39.9.59 1.41.59.51 0 1.02-.2 1.41-.59l7.78-7.78 2.81-2.81c.8-.78.8-2.07 0-2.86zM5.41 20L4 18.59l7.72-7.72 1.47 1.35L5.41 20z\"/>\n",
              "  </svg>\n",
              "      </button>\n",
              "      \n",
              "  <style>\n",
              "    .colab-df-container {\n",
              "      display:flex;\n",
              "      flex-wrap:wrap;\n",
              "      gap: 12px;\n",
              "    }\n",
              "\n",
              "    .colab-df-convert {\n",
              "      background-color: #E8F0FE;\n",
              "      border: none;\n",
              "      border-radius: 50%;\n",
              "      cursor: pointer;\n",
              "      display: none;\n",
              "      fill: #1967D2;\n",
              "      height: 32px;\n",
              "      padding: 0 0 0 0;\n",
              "      width: 32px;\n",
              "    }\n",
              "\n",
              "    .colab-df-convert:hover {\n",
              "      background-color: #E2EBFA;\n",
              "      box-shadow: 0px 1px 2px rgba(60, 64, 67, 0.3), 0px 1px 3px 1px rgba(60, 64, 67, 0.15);\n",
              "      fill: #174EA6;\n",
              "    }\n",
              "\n",
              "    [theme=dark] .colab-df-convert {\n",
              "      background-color: #3B4455;\n",
              "      fill: #D2E3FC;\n",
              "    }\n",
              "\n",
              "    [theme=dark] .colab-df-convert:hover {\n",
              "      background-color: #434B5C;\n",
              "      box-shadow: 0px 1px 3px 1px rgba(0, 0, 0, 0.15);\n",
              "      filter: drop-shadow(0px 1px 2px rgba(0, 0, 0, 0.3));\n",
              "      fill: #FFFFFF;\n",
              "    }\n",
              "  </style>\n",
              "\n",
              "      <script>\n",
              "        const buttonEl =\n",
              "          document.querySelector('#df-57f986a4-cee8-4bde-bab2-0c70233b31cd button.colab-df-convert');\n",
              "        buttonEl.style.display =\n",
              "          google.colab.kernel.accessAllowed ? 'block' : 'none';\n",
              "\n",
              "        async function convertToInteractive(key) {\n",
              "          const element = document.querySelector('#df-57f986a4-cee8-4bde-bab2-0c70233b31cd');\n",
              "          const dataTable =\n",
              "            await google.colab.kernel.invokeFunction('convertToInteractive',\n",
              "                                                     [key], {});\n",
              "          if (!dataTable) return;\n",
              "\n",
              "          const docLinkHtml = 'Like what you see? Visit the ' +\n",
              "            '<a target=\"_blank\" href=https://colab.research.google.com/notebooks/data_table.ipynb>data table notebook</a>'\n",
              "            + ' to learn more about interactive tables.';\n",
              "          element.innerHTML = '';\n",
              "          dataTable['output_type'] = 'display_data';\n",
              "          await google.colab.output.renderOutput(dataTable, element);\n",
              "          const docLink = document.createElement('div');\n",
              "          docLink.innerHTML = docLinkHtml;\n",
              "          element.appendChild(docLink);\n",
              "        }\n",
              "      </script>\n",
              "    </div>\n",
              "  </div>\n",
              "  "
            ]
          },
          "metadata": {},
          "execution_count": 8
        }
      ]
    },
    {
      "cell_type": "markdown",
      "source": [
        "O nosso método `.describe()` retornou 3 linhas diferentes das que já conheciamos:\n",
        "\n",
        "* `unique` é a quantidade de valores únicos\n",
        "* `top` é o valor mais comum \n",
        "* `freq` é a frequência do valor mais comum\n",
        "\n",
        "Mas mesmo com esses valores, ainda fica complicado de obtermos respostas e de passarmos algo concreto para o time do comercial avaliar, principalmente para formular alguma hipótese sobre o churn, por isso agora vamos passar para a parte gráfica."
      ],
      "metadata": {
        "id": "6EGbt4XK_QN1"
      }
    },
    {
      "cell_type": "markdown",
      "source": [
        "Analises Graficas"
      ],
      "metadata": {
        "id": "-yved9G7AHnP"
      }
    },
    {
      "cell_type": "markdown",
      "source": [
        "Nesta parte é interessante focar em quais visualizações serão melhores para apresentar para nossos companheiros de equipe, e para isso podemos ver o vídeo [Data Visualization: tipos de visualização](https://cursos.alura.com.br/extra/alura-mais/data-visualization-tipos-de-visualizacao-c1409). Os gráficos podem ser feitos usando o Matplotlib, Seaborn ou alguma outra biblioteca gráfica da sua escolha.\n",
        "\n",
        "A primeira análise a ser feita é da distribuição da variável target, Churn, para entender quantos casos nós temos de pessoas que cancelaram contrato e quantas ainda estão com o contrato ativo. \n",
        "Para isso, vamos utilizar a função `plot_countplot` do arquivo **utils**, que utiliza o `countplot` da biblioteca Seaborn e você pode conferir mais sobre ele no curso [Data Visualization: explorando com Seaborn](https://cursos.alura.com.br/course/data-visualization-com-seaborn) e para saber específicamente sobre a função, pode conferir pela [documentação](https://seaborn.pydata.org/generated/seaborn.countplot.html)."
      ],
      "metadata": {
        "id": "S6SlRx0jA02E"
      }
    },
    {
      "cell_type": "code",
      "source": [
        "plot_countplot(dados=df, \n",
        "               x='Churn', \n",
        "               titulo=\"Distribuição da variável Churn\",\n",
        "               label_x='Churn!', \n",
        "    )"
      ],
      "metadata": {
        "colab": {
          "base_uri": "https://localhost:8080/",
          "height": 695
        },
        "id": "EYvFa_fSBn2M",
        "outputId": "6bf0edaa-3cfe-4669-aa13-d94ae584c6e6"
      },
      "execution_count": 7,
      "outputs": [
        {
          "output_type": "error",
          "ename": "AttributeError",
          "evalue": "ignored",
          "traceback": [
            "\u001b[0;31m---------------------------------------------------------------------------\u001b[0m",
            "\u001b[0;31mAttributeError\u001b[0m                            Traceback (most recent call last)",
            "\u001b[0;32m<ipython-input-7-999b380ee266>\u001b[0m in \u001b[0;36m<module>\u001b[0;34m()\u001b[0m\n\u001b[1;32m      2\u001b[0m                \u001b[0mx\u001b[0m\u001b[0;34m=\u001b[0m\u001b[0;34m'Churn'\u001b[0m\u001b[0;34m,\u001b[0m\u001b[0;34m\u001b[0m\u001b[0;34m\u001b[0m\u001b[0m\n\u001b[1;32m      3\u001b[0m                \u001b[0mtitulo\u001b[0m\u001b[0;34m=\u001b[0m\u001b[0;34m\"Distribuição da variável Churn\"\u001b[0m\u001b[0;34m,\u001b[0m\u001b[0;34m\u001b[0m\u001b[0;34m\u001b[0m\u001b[0m\n\u001b[0;32m----> 4\u001b[0;31m                \u001b[0mlabel_x\u001b[0m\u001b[0;34m=\u001b[0m\u001b[0;34m'Churn!'\u001b[0m\u001b[0;34m,\u001b[0m\u001b[0;34m\u001b[0m\u001b[0;34m\u001b[0m\u001b[0m\n\u001b[0m\u001b[1;32m      5\u001b[0m     )\n",
            "\u001b[0;32m/content/utils.py\u001b[0m in \u001b[0;36mplot_countplot\u001b[0;34m(dados, x, titulo, label_x, figsize, hue, small)\u001b[0m\n\u001b[1;32m     24\u001b[0m             \u001b[0max\u001b[0m\u001b[0;34m.\u001b[0m\u001b[0mbar_label\u001b[0m\u001b[0;34m(\u001b[0m\u001b[0mcontainer\u001b[0m\u001b[0;34m,\u001b[0m \u001b[0mfontsize\u001b[0m\u001b[0;34m=\u001b[0m\u001b[0;36m15\u001b[0m\u001b[0;34m)\u001b[0m\u001b[0;34m\u001b[0m\u001b[0;34m\u001b[0m\u001b[0m\n\u001b[1;32m     25\u001b[0m         \u001b[0;32melse\u001b[0m\u001b[0;34m:\u001b[0m\u001b[0;34m\u001b[0m\u001b[0;34m\u001b[0m\u001b[0m\n\u001b[0;32m---> 26\u001b[0;31m             \u001b[0max\u001b[0m\u001b[0;34m.\u001b[0m\u001b[0mbar_label\u001b[0m\u001b[0;34m(\u001b[0m\u001b[0mcontainer\u001b[0m\u001b[0;34m,\u001b[0m \u001b[0mfontsize\u001b[0m\u001b[0;34m=\u001b[0m\u001b[0;36m15\u001b[0m\u001b[0;34m,\u001b[0m \u001b[0mpadding\u001b[0m\u001b[0;34m=\u001b[0m\u001b[0;34m-\u001b[0m\u001b[0;36m17\u001b[0m\u001b[0;34m,\u001b[0m \u001b[0mcolor\u001b[0m\u001b[0;34m=\u001b[0m\u001b[0;34m'white'\u001b[0m\u001b[0;34m)\u001b[0m\u001b[0;34m\u001b[0m\u001b[0;34m\u001b[0m\u001b[0m\n\u001b[0m\u001b[1;32m     27\u001b[0m \u001b[0;34m\u001b[0m\u001b[0m\n\u001b[1;32m     28\u001b[0m     \u001b[0mplt\u001b[0m\u001b[0;34m.\u001b[0m\u001b[0mshow\u001b[0m\u001b[0;34m(\u001b[0m\u001b[0;34m)\u001b[0m\u001b[0;34m\u001b[0m\u001b[0;34m\u001b[0m\u001b[0m\n",
            "\u001b[0;31mAttributeError\u001b[0m: 'AxesSubplot' object has no attribute 'bar_label'"
          ]
        },
        {
          "output_type": "display_data",
          "data": {
            "text/plain": [
              "<Figure size 576x360 with 1 Axes>"
            ],
            "image/png": "[encoded data removed]"
          },
          "metadata": {
            "needs_background": "light"
          }
        }
      ]
    },
    {
      "cell_type": "markdown",
      "source": [
        "Podemos analisar também por variável de gênero para ver se existe algum impacto a pessoa ser, nesse caso, do gênero masculino ou feminino"
      ],
      "metadata": {
        "id": "dasgYqoaJNg3"
      }
    },
    {
      "cell_type": "code",
      "source": [
        "from sklearn.metrics import confusion_matrix, accuracy_score, precision_score, recall_score, f1_score\n"
      ],
      "metadata": {
        "id": "hAsHrVf2jIXO"
      },
      "execution_count": 9,
      "outputs": []
    },
    {
      "cell_type": "code",
      "source": [
        "# Plotando o gráfico de Gênero\n",
        "\n",
        "plot_countplot(dados=df, \n",
        "               x='Gênero', \n",
        "               titulo=\"Distribuição da variável gênero por Churn\",\n",
        "               label_x='Gênero', \n",
        "               hue='Churn'\n",
        "    )"
      ],
      "metadata": {
        "colab": {
          "base_uri": "https://localhost:8080/",
          "height": 695
        },
        "id": "ERXgZ6VKJqoY",
        "outputId": "3979ba12-e5d3-40e3-d2ab-70dcb40a0529"
      },
      "execution_count": 10,
      "outputs": [
        {
          "output_type": "error",
          "ename": "AttributeError",
          "evalue": "ignored",
          "traceback": [
            "\u001b[0;31m---------------------------------------------------------------------------\u001b[0m",
            "\u001b[0;31mAttributeError\u001b[0m                            Traceback (most recent call last)",
            "\u001b[0;32m<ipython-input-10-64fe4df5d5a4>\u001b[0m in \u001b[0;36m<module>\u001b[0;34m()\u001b[0m\n\u001b[1;32m      5\u001b[0m                \u001b[0mtitulo\u001b[0m\u001b[0;34m=\u001b[0m\u001b[0;34m\"Distribuição da variável gênero por Churn\"\u001b[0m\u001b[0;34m,\u001b[0m\u001b[0;34m\u001b[0m\u001b[0;34m\u001b[0m\u001b[0m\n\u001b[1;32m      6\u001b[0m                \u001b[0mlabel_x\u001b[0m\u001b[0;34m=\u001b[0m\u001b[0;34m'Gênero'\u001b[0m\u001b[0;34m,\u001b[0m\u001b[0;34m\u001b[0m\u001b[0;34m\u001b[0m\u001b[0m\n\u001b[0;32m----> 7\u001b[0;31m                \u001b[0mhue\u001b[0m\u001b[0;34m=\u001b[0m\u001b[0;34m'Churn'\u001b[0m\u001b[0;34m\u001b[0m\u001b[0;34m\u001b[0m\u001b[0m\n\u001b[0m\u001b[1;32m      8\u001b[0m     )\n",
            "\u001b[0;32m/content/utils.py\u001b[0m in \u001b[0;36mplot_countplot\u001b[0;34m(dados, x, titulo, label_x, figsize, hue, small)\u001b[0m\n\u001b[1;32m     24\u001b[0m             \u001b[0max\u001b[0m\u001b[0;34m.\u001b[0m\u001b[0mbar_label\u001b[0m\u001b[0;34m(\u001b[0m\u001b[0mcontainer\u001b[0m\u001b[0;34m,\u001b[0m \u001b[0mfontsize\u001b[0m\u001b[0;34m=\u001b[0m\u001b[0;36m15\u001b[0m\u001b[0;34m)\u001b[0m\u001b[0;34m\u001b[0m\u001b[0;34m\u001b[0m\u001b[0m\n\u001b[1;32m     25\u001b[0m         \u001b[0;32melse\u001b[0m\u001b[0;34m:\u001b[0m\u001b[0;34m\u001b[0m\u001b[0;34m\u001b[0m\u001b[0m\n\u001b[0;32m---> 26\u001b[0;31m             \u001b[0max\u001b[0m\u001b[0;34m.\u001b[0m\u001b[0mbar_label\u001b[0m\u001b[0;34m(\u001b[0m\u001b[0mcontainer\u001b[0m\u001b[0;34m,\u001b[0m \u001b[0mfontsize\u001b[0m\u001b[0;34m=\u001b[0m\u001b[0;36m15\u001b[0m\u001b[0;34m,\u001b[0m \u001b[0mpadding\u001b[0m\u001b[0;34m=\u001b[0m\u001b[0;34m-\u001b[0m\u001b[0;36m17\u001b[0m\u001b[0;34m,\u001b[0m \u001b[0mcolor\u001b[0m\u001b[0;34m=\u001b[0m\u001b[0;34m'white'\u001b[0m\u001b[0;34m)\u001b[0m\u001b[0;34m\u001b[0m\u001b[0;34m\u001b[0m\u001b[0m\n\u001b[0m\u001b[1;32m     27\u001b[0m \u001b[0;34m\u001b[0m\u001b[0m\n\u001b[1;32m     28\u001b[0m     \u001b[0mplt\u001b[0m\u001b[0;34m.\u001b[0m\u001b[0mshow\u001b[0m\u001b[0;34m(\u001b[0m\u001b[0;34m)\u001b[0m\u001b[0;34m\u001b[0m\u001b[0;34m\u001b[0m\u001b[0m\n",
            "\u001b[0;31mAttributeError\u001b[0m: 'AxesSubplot' object has no attribute 'bar_label'"
          ]
        },
        {
          "output_type": "display_data",
          "data": {
            "text/plain": [
              "<Figure size 576x360 with 1 Axes>"
            ],
            "image/png": "[encoded data removed]"
          },
          "metadata": {}
        }
      ]
    },
    {
      "cell_type": "markdown",
      "source": [
        "Podemos identificar que a variável \"gender\" **não possui impacto no churn**, uma vez que a proporção de pessoas que cancelaram o serviço entre os genêros é a mesma. \n",
        "\n",
        "Vamos plotar os gráficos para os serviços de internet:"
      ],
      "metadata": {
        "id": "75H57mRiJNdg"
      }
    },
    {
      "cell_type": "code",
      "source": [
        "# Plotando o gráfico do serviço de internet\n",
        "\n",
        "plot_countplot(dados=df, \n",
        "               x='Serviço_Internet', \n",
        "               titulo=\"Distribuição da variável Serviço_Internet por Churn\",\n",
        "               label_x='Serviço_Internet', \n",
        "               hue='Churn'\n",
        "    )"
      ],
      "metadata": {
        "colab": {
          "base_uri": "https://localhost:8080/",
          "height": 696
        },
        "id": "geZrb1LLmE4V",
        "outputId": "2c2634c3-ca3e-434b-ca2d-39c2db3456c2"
      },
      "execution_count": 11,
      "outputs": [
        {
          "output_type": "error",
          "ename": "AttributeError",
          "evalue": "ignored",
          "traceback": [
            "\u001b[0;31m---------------------------------------------------------------------------\u001b[0m",
            "\u001b[0;31mAttributeError\u001b[0m                            Traceback (most recent call last)",
            "\u001b[0;32m<ipython-input-11-55dc40a066ef>\u001b[0m in \u001b[0;36m<module>\u001b[0;34m()\u001b[0m\n\u001b[1;32m      5\u001b[0m                \u001b[0mtitulo\u001b[0m\u001b[0;34m=\u001b[0m\u001b[0;34m\"Distribuição da variável Serviço_Internet por Churn\"\u001b[0m\u001b[0;34m,\u001b[0m\u001b[0;34m\u001b[0m\u001b[0;34m\u001b[0m\u001b[0m\n\u001b[1;32m      6\u001b[0m                \u001b[0mlabel_x\u001b[0m\u001b[0;34m=\u001b[0m\u001b[0;34m'Serviço_Internet'\u001b[0m\u001b[0;34m,\u001b[0m\u001b[0;34m\u001b[0m\u001b[0;34m\u001b[0m\u001b[0m\n\u001b[0;32m----> 7\u001b[0;31m                \u001b[0mhue\u001b[0m\u001b[0;34m=\u001b[0m\u001b[0;34m'Churn'\u001b[0m\u001b[0;34m\u001b[0m\u001b[0;34m\u001b[0m\u001b[0m\n\u001b[0m\u001b[1;32m      8\u001b[0m     )\n",
            "\u001b[0;32m/content/utils.py\u001b[0m in \u001b[0;36mplot_countplot\u001b[0;34m(dados, x, titulo, label_x, figsize, hue, small)\u001b[0m\n\u001b[1;32m     24\u001b[0m             \u001b[0max\u001b[0m\u001b[0;34m.\u001b[0m\u001b[0mbar_label\u001b[0m\u001b[0;34m(\u001b[0m\u001b[0mcontainer\u001b[0m\u001b[0;34m,\u001b[0m \u001b[0mfontsize\u001b[0m\u001b[0;34m=\u001b[0m\u001b[0;36m15\u001b[0m\u001b[0;34m)\u001b[0m\u001b[0;34m\u001b[0m\u001b[0;34m\u001b[0m\u001b[0m\n\u001b[1;32m     25\u001b[0m         \u001b[0;32melse\u001b[0m\u001b[0;34m:\u001b[0m\u001b[0;34m\u001b[0m\u001b[0;34m\u001b[0m\u001b[0m\n\u001b[0;32m---> 26\u001b[0;31m             \u001b[0max\u001b[0m\u001b[0;34m.\u001b[0m\u001b[0mbar_label\u001b[0m\u001b[0;34m(\u001b[0m\u001b[0mcontainer\u001b[0m\u001b[0;34m,\u001b[0m \u001b[0mfontsize\u001b[0m\u001b[0;34m=\u001b[0m\u001b[0;36m15\u001b[0m\u001b[0;34m,\u001b[0m \u001b[0mpadding\u001b[0m\u001b[0;34m=\u001b[0m\u001b[0;34m-\u001b[0m\u001b[0;36m17\u001b[0m\u001b[0;34m,\u001b[0m \u001b[0mcolor\u001b[0m\u001b[0;34m=\u001b[0m\u001b[0;34m'white'\u001b[0m\u001b[0;34m)\u001b[0m\u001b[0;34m\u001b[0m\u001b[0;34m\u001b[0m\u001b[0m\n\u001b[0m\u001b[1;32m     27\u001b[0m \u001b[0;34m\u001b[0m\u001b[0m\n\u001b[1;32m     28\u001b[0m     \u001b[0mplt\u001b[0m\u001b[0;34m.\u001b[0m\u001b[0mshow\u001b[0m\u001b[0;34m(\u001b[0m\u001b[0;34m)\u001b[0m\u001b[0;34m\u001b[0m\u001b[0;34m\u001b[0m\u001b[0m\n",
            "\u001b[0;31mAttributeError\u001b[0m: 'AxesSubplot' object has no attribute 'bar_label'"
          ]
        },
        {
          "output_type": "display_data",
          "data": {
            "text/plain": [
              "<Figure size 576x360 with 1 Axes>"
            ],
            "image/png": "[encoded data removed]"
          },
          "metadata": {}
        }
      ]
    },
    {
      "cell_type": "markdown",
      "source": [
        "Percebe-se analisando o gráfico acima que os clientes que utilizam fibra ótica como serviço de internet possuem uma taxa de churn proporcionalmente maior que os demais. A Alura Voz poderia oferecer mais o tipo de serviço DSL já que possui uma evasão menor, ou identificar quais problemas que está acontecendo com o serviço de fibra ótica e melhorá-lo"
      ],
      "metadata": {
        "id": "XHMB2CeYJNXK"
      }
    },
    {
      "cell_type": "code",
      "source": [
        "# Plotando o gráfico referente a se o cliente possui segurança online ou não\n",
        "\n",
        "plot_countplot(dados=df, \n",
        "               x='Segurança_Online', \n",
        "               titulo=\"Distribuição da variável OnlineSecurity por Churn\",\n",
        "               label_x='Segurança_Online', \n",
        "               hue='Churn'\n",
        "    )\n",
        "\n"
      ],
      "metadata": {
        "colab": {
          "base_uri": "https://localhost:8080/",
          "height": 712
        },
        "id": "OseNgbQQ2sSE",
        "outputId": "a85ac3e4-cd0d-43c4-dc9e-f2623cf9916c"
      },
      "execution_count": 18,
      "outputs": [
        {
          "output_type": "error",
          "ename": "AttributeError",
          "evalue": "ignored",
          "traceback": [
            "\u001b[0;31m---------------------------------------------------------------------------\u001b[0m",
            "\u001b[0;31mAttributeError\u001b[0m                            Traceback (most recent call last)",
            "\u001b[0;32m<ipython-input-18-af001f899ae8>\u001b[0m in \u001b[0;36m<module>\u001b[0;34m()\u001b[0m\n\u001b[1;32m      5\u001b[0m                \u001b[0mtitulo\u001b[0m\u001b[0;34m=\u001b[0m\u001b[0;34m\"Distribuição da variável OnlineSecurity por Churn\"\u001b[0m\u001b[0;34m,\u001b[0m\u001b[0;34m\u001b[0m\u001b[0;34m\u001b[0m\u001b[0m\n\u001b[1;32m      6\u001b[0m                \u001b[0mlabel_x\u001b[0m\u001b[0;34m=\u001b[0m\u001b[0;34m'Segurança_Online'\u001b[0m\u001b[0;34m,\u001b[0m\u001b[0;34m\u001b[0m\u001b[0;34m\u001b[0m\u001b[0m\n\u001b[0;32m----> 7\u001b[0;31m                \u001b[0mhue\u001b[0m\u001b[0;34m=\u001b[0m\u001b[0;34m'Churn'\u001b[0m\u001b[0;34m\u001b[0m\u001b[0;34m\u001b[0m\u001b[0m\n\u001b[0m\u001b[1;32m      8\u001b[0m     )\n\u001b[1;32m      9\u001b[0m \u001b[0;34m\u001b[0m\u001b[0m\n",
            "\u001b[0;32m/content/utils.py\u001b[0m in \u001b[0;36mplot_countplot\u001b[0;34m(dados, x, titulo, label_x, figsize, hue, small)\u001b[0m\n\u001b[1;32m     24\u001b[0m             \u001b[0max\u001b[0m\u001b[0;34m.\u001b[0m\u001b[0mbar_label\u001b[0m\u001b[0;34m(\u001b[0m\u001b[0mcontainer\u001b[0m\u001b[0;34m,\u001b[0m \u001b[0mfontsize\u001b[0m\u001b[0;34m=\u001b[0m\u001b[0;36m15\u001b[0m\u001b[0;34m)\u001b[0m\u001b[0;34m\u001b[0m\u001b[0;34m\u001b[0m\u001b[0m\n\u001b[1;32m     25\u001b[0m         \u001b[0;32melse\u001b[0m\u001b[0;34m:\u001b[0m\u001b[0;34m\u001b[0m\u001b[0;34m\u001b[0m\u001b[0m\n\u001b[0;32m---> 26\u001b[0;31m             \u001b[0max\u001b[0m\u001b[0;34m.\u001b[0m\u001b[0mbar_label\u001b[0m\u001b[0;34m(\u001b[0m\u001b[0mcontainer\u001b[0m\u001b[0;34m,\u001b[0m \u001b[0mfontsize\u001b[0m\u001b[0;34m=\u001b[0m\u001b[0;36m15\u001b[0m\u001b[0;34m,\u001b[0m \u001b[0mpadding\u001b[0m\u001b[0;34m=\u001b[0m\u001b[0;34m-\u001b[0m\u001b[0;36m17\u001b[0m\u001b[0;34m,\u001b[0m \u001b[0mcolor\u001b[0m\u001b[0;34m=\u001b[0m\u001b[0;34m'white'\u001b[0m\u001b[0;34m)\u001b[0m\u001b[0;34m\u001b[0m\u001b[0;34m\u001b[0m\u001b[0m\n\u001b[0m\u001b[1;32m     27\u001b[0m \u001b[0;34m\u001b[0m\u001b[0m\n\u001b[1;32m     28\u001b[0m     \u001b[0mplt\u001b[0m\u001b[0;34m.\u001b[0m\u001b[0mshow\u001b[0m\u001b[0;34m(\u001b[0m\u001b[0;34m)\u001b[0m\u001b[0;34m\u001b[0m\u001b[0;34m\u001b[0m\u001b[0m\n",
            "\u001b[0;31mAttributeError\u001b[0m: 'AxesSubplot' object has no attribute 'bar_label'"
          ]
        },
        {
          "output_type": "display_data",
          "data": {
            "text/plain": [
              "<Figure size 576x360 with 1 Axes>"
            ],
            "image/png": "[encoded data removed]"
          },
          "metadata": {}
        }
      ]
    },
    {
      "cell_type": "code",
      "source": [
        "# Plotando o gráfico referente a se o cliente possui ou não um backup online\n",
        "\n",
        "plot_countplot(dados=df, \n",
        "               x='Backup_Online', \n",
        "               titulo=\"Distribuição da variável OnlineBackup por Churn\",\n",
        "               label_x='Backup_Online', \n",
        "               hue='Churn'\n",
        "    )"
      ],
      "metadata": {
        "colab": {
          "base_uri": "https://localhost:8080/",
          "height": 695
        },
        "id": "R8bv4_pr4YUg",
        "outputId": "ee553a05-664e-45a5-e7d7-bad441584a32"
      },
      "execution_count": 19,
      "outputs": [
        {
          "output_type": "error",
          "ename": "AttributeError",
          "evalue": "ignored",
          "traceback": [
            "\u001b[0;31m---------------------------------------------------------------------------\u001b[0m",
            "\u001b[0;31mAttributeError\u001b[0m                            Traceback (most recent call last)",
            "\u001b[0;32m<ipython-input-19-a760d2de7fc9>\u001b[0m in \u001b[0;36m<module>\u001b[0;34m()\u001b[0m\n\u001b[1;32m      5\u001b[0m                \u001b[0mtitulo\u001b[0m\u001b[0;34m=\u001b[0m\u001b[0;34m\"Distribuição da variável OnlineBackup por Churn\"\u001b[0m\u001b[0;34m,\u001b[0m\u001b[0;34m\u001b[0m\u001b[0;34m\u001b[0m\u001b[0m\n\u001b[1;32m      6\u001b[0m                \u001b[0mlabel_x\u001b[0m\u001b[0;34m=\u001b[0m\u001b[0;34m'Backup_Online'\u001b[0m\u001b[0;34m,\u001b[0m\u001b[0;34m\u001b[0m\u001b[0;34m\u001b[0m\u001b[0m\n\u001b[0;32m----> 7\u001b[0;31m                \u001b[0mhue\u001b[0m\u001b[0;34m=\u001b[0m\u001b[0;34m'Churn'\u001b[0m\u001b[0;34m\u001b[0m\u001b[0;34m\u001b[0m\u001b[0m\n\u001b[0m\u001b[1;32m      8\u001b[0m     )\n",
            "\u001b[0;32m/content/utils.py\u001b[0m in \u001b[0;36mplot_countplot\u001b[0;34m(dados, x, titulo, label_x, figsize, hue, small)\u001b[0m\n\u001b[1;32m     24\u001b[0m             \u001b[0max\u001b[0m\u001b[0;34m.\u001b[0m\u001b[0mbar_label\u001b[0m\u001b[0;34m(\u001b[0m\u001b[0mcontainer\u001b[0m\u001b[0;34m,\u001b[0m \u001b[0mfontsize\u001b[0m\u001b[0;34m=\u001b[0m\u001b[0;36m15\u001b[0m\u001b[0;34m)\u001b[0m\u001b[0;34m\u001b[0m\u001b[0;34m\u001b[0m\u001b[0m\n\u001b[1;32m     25\u001b[0m         \u001b[0;32melse\u001b[0m\u001b[0;34m:\u001b[0m\u001b[0;34m\u001b[0m\u001b[0;34m\u001b[0m\u001b[0m\n\u001b[0;32m---> 26\u001b[0;31m             \u001b[0max\u001b[0m\u001b[0;34m.\u001b[0m\u001b[0mbar_label\u001b[0m\u001b[0;34m(\u001b[0m\u001b[0mcontainer\u001b[0m\u001b[0;34m,\u001b[0m \u001b[0mfontsize\u001b[0m\u001b[0;34m=\u001b[0m\u001b[0;36m15\u001b[0m\u001b[0;34m,\u001b[0m \u001b[0mpadding\u001b[0m\u001b[0;34m=\u001b[0m\u001b[0;34m-\u001b[0m\u001b[0;36m17\u001b[0m\u001b[0;34m,\u001b[0m \u001b[0mcolor\u001b[0m\u001b[0;34m=\u001b[0m\u001b[0;34m'white'\u001b[0m\u001b[0;34m)\u001b[0m\u001b[0;34m\u001b[0m\u001b[0;34m\u001b[0m\u001b[0m\n\u001b[0m\u001b[1;32m     27\u001b[0m \u001b[0;34m\u001b[0m\u001b[0m\n\u001b[1;32m     28\u001b[0m     \u001b[0mplt\u001b[0m\u001b[0;34m.\u001b[0m\u001b[0mshow\u001b[0m\u001b[0;34m(\u001b[0m\u001b[0;34m)\u001b[0m\u001b[0;34m\u001b[0m\u001b[0;34m\u001b[0m\u001b[0m\n",
            "\u001b[0;31mAttributeError\u001b[0m: 'AxesSubplot' object has no attribute 'bar_label'"
          ]
        },
        {
          "output_type": "display_data",
          "data": {
            "text/plain": [
              "<Figure size 576x360 with 1 Axes>"
            ],
            "image/png": "[encoded data removed]"
          },
          "metadata": {}
        }
      ]
    },
    {
      "cell_type": "markdown",
      "source": [
        "Do gráfico acima temos que os clientes que não assinam a segurança online e também não possuem backup online tendem a deixar de utilizar os serviços da Alura Voz. Oferecer um serviço de segurança online e backup online seria uma uma boa opção para reduzir a taxa de cancelamentos."
      ],
      "metadata": {
        "id": "0TKjpy6-4bqa"
      }
    },
    {
      "cell_type": "code",
      "source": [
        "# Plotando o gráfico referente a se o cliente possui proteção do dispositivo ou não\n",
        "\n",
        "plot_countplot(dados=df, \n",
        "               x='Proteção_de_Dispositivo', \n",
        "               titulo=\"Distribuição da variável DeviceProtection por Churn\",\n",
        "               label_x='Proteção_de_Dispositivo', \n",
        "               hue='Churn'\n",
        "    ) "
      ],
      "metadata": {
        "colab": {
          "base_uri": "https://localhost:8080/",
          "height": 695
        },
        "id": "fBhLuuJH430D",
        "outputId": "d91e9cbb-cbd0-4da1-b144-d267702dd44c"
      },
      "execution_count": 21,
      "outputs": [
        {
          "output_type": "error",
          "ename": "AttributeError",
          "evalue": "ignored",
          "traceback": [
            "\u001b[0;31m---------------------------------------------------------------------------\u001b[0m",
            "\u001b[0;31mAttributeError\u001b[0m                            Traceback (most recent call last)",
            "\u001b[0;32m<ipython-input-21-b5f9c7c150a2>\u001b[0m in \u001b[0;36m<module>\u001b[0;34m()\u001b[0m\n\u001b[1;32m      5\u001b[0m                \u001b[0mtitulo\u001b[0m\u001b[0;34m=\u001b[0m\u001b[0;34m\"Distribuição da variável DeviceProtection por Churn\"\u001b[0m\u001b[0;34m,\u001b[0m\u001b[0;34m\u001b[0m\u001b[0;34m\u001b[0m\u001b[0m\n\u001b[1;32m      6\u001b[0m                \u001b[0mlabel_x\u001b[0m\u001b[0;34m=\u001b[0m\u001b[0;34m'Proteção_de_Dispositivo'\u001b[0m\u001b[0;34m,\u001b[0m\u001b[0;34m\u001b[0m\u001b[0;34m\u001b[0m\u001b[0m\n\u001b[0;32m----> 7\u001b[0;31m                \u001b[0mhue\u001b[0m\u001b[0;34m=\u001b[0m\u001b[0;34m'Churn'\u001b[0m\u001b[0;34m\u001b[0m\u001b[0;34m\u001b[0m\u001b[0m\n\u001b[0m\u001b[1;32m      8\u001b[0m     ) \n",
            "\u001b[0;32m/content/utils.py\u001b[0m in \u001b[0;36mplot_countplot\u001b[0;34m(dados, x, titulo, label_x, figsize, hue, small)\u001b[0m\n\u001b[1;32m     24\u001b[0m             \u001b[0max\u001b[0m\u001b[0;34m.\u001b[0m\u001b[0mbar_label\u001b[0m\u001b[0;34m(\u001b[0m\u001b[0mcontainer\u001b[0m\u001b[0;34m,\u001b[0m \u001b[0mfontsize\u001b[0m\u001b[0;34m=\u001b[0m\u001b[0;36m15\u001b[0m\u001b[0;34m)\u001b[0m\u001b[0;34m\u001b[0m\u001b[0;34m\u001b[0m\u001b[0m\n\u001b[1;32m     25\u001b[0m         \u001b[0;32melse\u001b[0m\u001b[0;34m:\u001b[0m\u001b[0;34m\u001b[0m\u001b[0;34m\u001b[0m\u001b[0m\n\u001b[0;32m---> 26\u001b[0;31m             \u001b[0max\u001b[0m\u001b[0;34m.\u001b[0m\u001b[0mbar_label\u001b[0m\u001b[0;34m(\u001b[0m\u001b[0mcontainer\u001b[0m\u001b[0;34m,\u001b[0m \u001b[0mfontsize\u001b[0m\u001b[0;34m=\u001b[0m\u001b[0;36m15\u001b[0m\u001b[0;34m,\u001b[0m \u001b[0mpadding\u001b[0m\u001b[0;34m=\u001b[0m\u001b[0;34m-\u001b[0m\u001b[0;36m17\u001b[0m\u001b[0;34m,\u001b[0m \u001b[0mcolor\u001b[0m\u001b[0;34m=\u001b[0m\u001b[0;34m'white'\u001b[0m\u001b[0;34m)\u001b[0m\u001b[0;34m\u001b[0m\u001b[0;34m\u001b[0m\u001b[0m\n\u001b[0m\u001b[1;32m     27\u001b[0m \u001b[0;34m\u001b[0m\u001b[0m\n\u001b[1;32m     28\u001b[0m     \u001b[0mplt\u001b[0m\u001b[0;34m.\u001b[0m\u001b[0mshow\u001b[0m\u001b[0;34m(\u001b[0m\u001b[0;34m)\u001b[0m\u001b[0;34m\u001b[0m\u001b[0;34m\u001b[0m\u001b[0m\n",
            "\u001b[0;31mAttributeError\u001b[0m: 'AxesSubplot' object has no attribute 'bar_label'"
          ]
        },
        {
          "output_type": "display_data",
          "data": {
            "text/plain": [
              "<Figure size 576x360 with 1 Axes>"
            ],
            "image/png": "[encoded data removed]"
          },
          "metadata": {}
        }
      ]
    },
    {
      "cell_type": "markdown",
      "source": [
        "Do gráfico acima temos que os clientes que não possuem a proteção do dispositivo tendem a deixar de utilizar os serviços da Alura Voz. Oferecer um serviço de proteção é uma boa opção para reduzir a taxa de cancelamento."
      ],
      "metadata": {
        "id": "ocjIzrnD5UyB"
      }
    },
    {
      "cell_type": "code",
      "source": [
        "# Plotando o gráfico referente a se o cliente tem suporte técnico ou não.\n",
        "\n",
        "plot_countplot(dados=df, \n",
        "               x='Suporte_Técnico', \n",
        "               titulo=\"Distribuição da variável TechSupport por Churn\",\n",
        "               label_x='Suporte_Técnico', \n",
        "               hue='Churn'\n",
        "    ) "
      ],
      "metadata": {
        "colab": {
          "base_uri": "https://localhost:8080/",
          "height": 695
        },
        "id": "xzP_ov_u5rA0",
        "outputId": "3218d080-1661-45fd-f966-ce0b5fb555c5"
      },
      "execution_count": 23,
      "outputs": [
        {
          "output_type": "error",
          "ename": "AttributeError",
          "evalue": "ignored",
          "traceback": [
            "\u001b[0;31m---------------------------------------------------------------------------\u001b[0m",
            "\u001b[0;31mAttributeError\u001b[0m                            Traceback (most recent call last)",
            "\u001b[0;32m<ipython-input-23-b41943d7fd67>\u001b[0m in \u001b[0;36m<module>\u001b[0;34m()\u001b[0m\n\u001b[1;32m      5\u001b[0m                \u001b[0mtitulo\u001b[0m\u001b[0;34m=\u001b[0m\u001b[0;34m\"Distribuição da variável TechSupport por Churn\"\u001b[0m\u001b[0;34m,\u001b[0m\u001b[0;34m\u001b[0m\u001b[0;34m\u001b[0m\u001b[0m\n\u001b[1;32m      6\u001b[0m                \u001b[0mlabel_x\u001b[0m\u001b[0;34m=\u001b[0m\u001b[0;34m'Suporte_Técnico'\u001b[0m\u001b[0;34m,\u001b[0m\u001b[0;34m\u001b[0m\u001b[0;34m\u001b[0m\u001b[0m\n\u001b[0;32m----> 7\u001b[0;31m                \u001b[0mhue\u001b[0m\u001b[0;34m=\u001b[0m\u001b[0;34m'Churn'\u001b[0m\u001b[0;34m\u001b[0m\u001b[0;34m\u001b[0m\u001b[0m\n\u001b[0m\u001b[1;32m      8\u001b[0m     ) \n",
            "\u001b[0;32m/content/utils.py\u001b[0m in \u001b[0;36mplot_countplot\u001b[0;34m(dados, x, titulo, label_x, figsize, hue, small)\u001b[0m\n\u001b[1;32m     24\u001b[0m             \u001b[0max\u001b[0m\u001b[0;34m.\u001b[0m\u001b[0mbar_label\u001b[0m\u001b[0;34m(\u001b[0m\u001b[0mcontainer\u001b[0m\u001b[0;34m,\u001b[0m \u001b[0mfontsize\u001b[0m\u001b[0;34m=\u001b[0m\u001b[0;36m15\u001b[0m\u001b[0;34m)\u001b[0m\u001b[0;34m\u001b[0m\u001b[0;34m\u001b[0m\u001b[0m\n\u001b[1;32m     25\u001b[0m         \u001b[0;32melse\u001b[0m\u001b[0;34m:\u001b[0m\u001b[0;34m\u001b[0m\u001b[0;34m\u001b[0m\u001b[0m\n\u001b[0;32m---> 26\u001b[0;31m             \u001b[0max\u001b[0m\u001b[0;34m.\u001b[0m\u001b[0mbar_label\u001b[0m\u001b[0;34m(\u001b[0m\u001b[0mcontainer\u001b[0m\u001b[0;34m,\u001b[0m \u001b[0mfontsize\u001b[0m\u001b[0;34m=\u001b[0m\u001b[0;36m15\u001b[0m\u001b[0;34m,\u001b[0m \u001b[0mpadding\u001b[0m\u001b[0;34m=\u001b[0m\u001b[0;34m-\u001b[0m\u001b[0;36m17\u001b[0m\u001b[0;34m,\u001b[0m \u001b[0mcolor\u001b[0m\u001b[0;34m=\u001b[0m\u001b[0;34m'white'\u001b[0m\u001b[0;34m)\u001b[0m\u001b[0;34m\u001b[0m\u001b[0;34m\u001b[0m\u001b[0m\n\u001b[0m\u001b[1;32m     27\u001b[0m \u001b[0;34m\u001b[0m\u001b[0m\n\u001b[1;32m     28\u001b[0m     \u001b[0mplt\u001b[0m\u001b[0;34m.\u001b[0m\u001b[0mshow\u001b[0m\u001b[0;34m(\u001b[0m\u001b[0;34m)\u001b[0m\u001b[0;34m\u001b[0m\u001b[0;34m\u001b[0m\u001b[0m\n",
            "\u001b[0;31mAttributeError\u001b[0m: 'AxesSubplot' object has no attribute 'bar_label'"
          ]
        },
        {
          "output_type": "display_data",
          "data": {
            "text/plain": [
              "<Figure size 576x360 with 1 Axes>"
            ],
            "image/png": "[encoded data removed]"
          },
          "metadata": {}
        }
      ]
    },
    {
      "cell_type": "markdown",
      "source": [
        "Clientes que não possuem suporte técnico tendem a deixar de utilizar os serviços da Alura Voz. Oferecer um serviço de suporte técnico é uma boa opção para reduzir a taxa de cancelamentos.\n"
      ],
      "metadata": {
        "id": "teRnNeVk6OQ2"
      }
    },
    {
      "cell_type": "code",
      "source": [
        "# Plotando o gráfico referente ao prazo do contrato do cliente\n",
        "\n",
        "plot_countplot(dados=df, \n",
        "               x='Contrato', \n",
        "               titulo=\"Distribuição da variável Contrato por Churn\",\n",
        "               label_x='Contrato', \n",
        "               hue='Churn',\n",
        "               small=True\n",
        "    ) "
      ],
      "metadata": {
        "colab": {
          "base_uri": "https://localhost:8080/",
          "height": 695
        },
        "id": "KR7VbljR6YLE",
        "outputId": "bb4f0c77-8e0f-44e4-e71f-ebc5c9c04838"
      },
      "execution_count": 24,
      "outputs": [
        {
          "output_type": "error",
          "ename": "AttributeError",
          "evalue": "ignored",
          "traceback": [
            "\u001b[0;31m---------------------------------------------------------------------------\u001b[0m",
            "\u001b[0;31mAttributeError\u001b[0m                            Traceback (most recent call last)",
            "\u001b[0;32m<ipython-input-24-0ed652ee117f>\u001b[0m in \u001b[0;36m<module>\u001b[0;34m()\u001b[0m\n\u001b[1;32m      6\u001b[0m                \u001b[0mlabel_x\u001b[0m\u001b[0;34m=\u001b[0m\u001b[0;34m'Contrato'\u001b[0m\u001b[0;34m,\u001b[0m\u001b[0;34m\u001b[0m\u001b[0;34m\u001b[0m\u001b[0m\n\u001b[1;32m      7\u001b[0m                \u001b[0mhue\u001b[0m\u001b[0;34m=\u001b[0m\u001b[0;34m'Churn'\u001b[0m\u001b[0;34m,\u001b[0m\u001b[0;34m\u001b[0m\u001b[0;34m\u001b[0m\u001b[0m\n\u001b[0;32m----> 8\u001b[0;31m                \u001b[0msmall\u001b[0m\u001b[0;34m=\u001b[0m\u001b[0;32mTrue\u001b[0m\u001b[0;34m\u001b[0m\u001b[0;34m\u001b[0m\u001b[0m\n\u001b[0m\u001b[1;32m      9\u001b[0m     ) \n",
            "\u001b[0;32m/content/utils.py\u001b[0m in \u001b[0;36mplot_countplot\u001b[0;34m(dados, x, titulo, label_x, figsize, hue, small)\u001b[0m\n\u001b[1;32m     22\u001b[0m     \u001b[0;32mfor\u001b[0m \u001b[0mcontainer\u001b[0m \u001b[0;32min\u001b[0m \u001b[0max\u001b[0m\u001b[0;34m.\u001b[0m\u001b[0mcontainers\u001b[0m\u001b[0;34m:\u001b[0m\u001b[0;34m\u001b[0m\u001b[0;34m\u001b[0m\u001b[0m\n\u001b[1;32m     23\u001b[0m         \u001b[0;32mif\u001b[0m \u001b[0msmall\u001b[0m\u001b[0;34m:\u001b[0m\u001b[0;34m\u001b[0m\u001b[0;34m\u001b[0m\u001b[0m\n\u001b[0;32m---> 24\u001b[0;31m             \u001b[0max\u001b[0m\u001b[0;34m.\u001b[0m\u001b[0mbar_label\u001b[0m\u001b[0;34m(\u001b[0m\u001b[0mcontainer\u001b[0m\u001b[0;34m,\u001b[0m \u001b[0mfontsize\u001b[0m\u001b[0;34m=\u001b[0m\u001b[0;36m15\u001b[0m\u001b[0;34m)\u001b[0m\u001b[0;34m\u001b[0m\u001b[0;34m\u001b[0m\u001b[0m\n\u001b[0m\u001b[1;32m     25\u001b[0m         \u001b[0;32melse\u001b[0m\u001b[0;34m:\u001b[0m\u001b[0;34m\u001b[0m\u001b[0;34m\u001b[0m\u001b[0m\n\u001b[1;32m     26\u001b[0m             \u001b[0max\u001b[0m\u001b[0;34m.\u001b[0m\u001b[0mbar_label\u001b[0m\u001b[0;34m(\u001b[0m\u001b[0mcontainer\u001b[0m\u001b[0;34m,\u001b[0m \u001b[0mfontsize\u001b[0m\u001b[0;34m=\u001b[0m\u001b[0;36m15\u001b[0m\u001b[0;34m,\u001b[0m \u001b[0mpadding\u001b[0m\u001b[0;34m=\u001b[0m\u001b[0;34m-\u001b[0m\u001b[0;36m17\u001b[0m\u001b[0;34m,\u001b[0m \u001b[0mcolor\u001b[0m\u001b[0;34m=\u001b[0m\u001b[0;34m'white'\u001b[0m\u001b[0;34m)\u001b[0m\u001b[0;34m\u001b[0m\u001b[0;34m\u001b[0m\u001b[0m\n",
            "\u001b[0;31mAttributeError\u001b[0m: 'AxesSubplot' object has no attribute 'bar_label'"
          ]
        },
        {
          "output_type": "display_data",
          "data": {
            "text/plain": [
              "<Figure size 576x360 with 1 Axes>"
            ],
            "image/png": "[encoded data removed]"
          },
          "metadata": {}
        }
      ]
    },
    {
      "cell_type": "markdown",
      "source": [
        "Pelo gráfico acima temos que os clientes que possuem um contrato mensal são os que tendem a deixar de utilizar os serviços da Alura Voz. Oferecer um serviço de contrato anual ou de dois anos é uma boa opção para reduzir a taxa de cancelamentos. "
      ],
      "metadata": {
        "id": "UU1uEFoD83M5"
      }
    },
    {
      "cell_type": "code",
      "source": [
        "# Plotando o gráfico referente ao método de pagamento do cliente\n",
        "\n",
        "plot_countplot(dados=df, \n",
        "               x='Método_de_Pagamento', \n",
        "               titulo=\"Distribuição da variável Método_de_Pagamento por Churn\",\n",
        "               label_x='Método_de_Pagamento', \n",
        "               hue='Churn', \n",
        "               figsize=(22, 8)\n",
        "    ) "
      ],
      "metadata": {
        "colab": {
          "base_uri": "https://localhost:8080/",
          "height": 860
        },
        "id": "GZmCKjTm9Jss",
        "outputId": "69d11d34-07cc-4cec-b0bb-22c7af59565b"
      },
      "execution_count": 29,
      "outputs": [
        {
          "output_type": "error",
          "ename": "AttributeError",
          "evalue": "ignored",
          "traceback": [
            "\u001b[0;31m---------------------------------------------------------------------------\u001b[0m",
            "\u001b[0;31mAttributeError\u001b[0m                            Traceback (most recent call last)",
            "\u001b[0;32m<ipython-input-29-f256882ea279>\u001b[0m in \u001b[0;36m<module>\u001b[0;34m()\u001b[0m\n\u001b[1;32m      6\u001b[0m                \u001b[0mlabel_x\u001b[0m\u001b[0;34m=\u001b[0m\u001b[0;34m'Método_de_Pagamento'\u001b[0m\u001b[0;34m,\u001b[0m\u001b[0;34m\u001b[0m\u001b[0;34m\u001b[0m\u001b[0m\n\u001b[1;32m      7\u001b[0m                \u001b[0mhue\u001b[0m\u001b[0;34m=\u001b[0m\u001b[0;34m'Churn'\u001b[0m\u001b[0;34m,\u001b[0m\u001b[0;34m\u001b[0m\u001b[0;34m\u001b[0m\u001b[0m\n\u001b[0;32m----> 8\u001b[0;31m                \u001b[0mfigsize\u001b[0m\u001b[0;34m=\u001b[0m\u001b[0;34m(\u001b[0m\u001b[0;36m22\u001b[0m\u001b[0;34m,\u001b[0m \u001b[0;36m8\u001b[0m\u001b[0;34m)\u001b[0m\u001b[0;34m\u001b[0m\u001b[0;34m\u001b[0m\u001b[0m\n\u001b[0m\u001b[1;32m      9\u001b[0m     ) \n",
            "\u001b[0;32m/content/utils.py\u001b[0m in \u001b[0;36mplot_countplot\u001b[0;34m(dados, x, titulo, label_x, figsize, hue, small)\u001b[0m\n\u001b[1;32m     24\u001b[0m             \u001b[0max\u001b[0m\u001b[0;34m.\u001b[0m\u001b[0mbar_label\u001b[0m\u001b[0;34m(\u001b[0m\u001b[0mcontainer\u001b[0m\u001b[0;34m,\u001b[0m \u001b[0mfontsize\u001b[0m\u001b[0;34m=\u001b[0m\u001b[0;36m15\u001b[0m\u001b[0;34m)\u001b[0m\u001b[0;34m\u001b[0m\u001b[0;34m\u001b[0m\u001b[0m\n\u001b[1;32m     25\u001b[0m         \u001b[0;32melse\u001b[0m\u001b[0;34m:\u001b[0m\u001b[0;34m\u001b[0m\u001b[0;34m\u001b[0m\u001b[0m\n\u001b[0;32m---> 26\u001b[0;31m             \u001b[0max\u001b[0m\u001b[0;34m.\u001b[0m\u001b[0mbar_label\u001b[0m\u001b[0;34m(\u001b[0m\u001b[0mcontainer\u001b[0m\u001b[0;34m,\u001b[0m \u001b[0mfontsize\u001b[0m\u001b[0;34m=\u001b[0m\u001b[0;36m15\u001b[0m\u001b[0;34m,\u001b[0m \u001b[0mpadding\u001b[0m\u001b[0;34m=\u001b[0m\u001b[0;34m-\u001b[0m\u001b[0;36m17\u001b[0m\u001b[0;34m,\u001b[0m \u001b[0mcolor\u001b[0m\u001b[0;34m=\u001b[0m\u001b[0;34m'white'\u001b[0m\u001b[0;34m)\u001b[0m\u001b[0;34m\u001b[0m\u001b[0;34m\u001b[0m\u001b[0m\n\u001b[0m\u001b[1;32m     27\u001b[0m \u001b[0;34m\u001b[0m\u001b[0m\n\u001b[1;32m     28\u001b[0m     \u001b[0mplt\u001b[0m\u001b[0;34m.\u001b[0m\u001b[0mshow\u001b[0m\u001b[0;34m(\u001b[0m\u001b[0;34m)\u001b[0m\u001b[0;34m\u001b[0m\u001b[0;34m\u001b[0m\u001b[0m\n",
            "\u001b[0;31mAttributeError\u001b[0m: 'AxesSubplot' object has no attribute 'bar_label'"
          ]
        },
        {
          "output_type": "display_data",
          "data": {
            "text/plain": [
              "<Figure size 1584x576 with 1 Axes>"
            ],
            "image/png": "[encoded data removed]"
          },
          "metadata": {}
        }
      ]
    },
    {
      "cell_type": "markdown",
      "source": [
        "Percebemos que as pessoas utilizam o método de pagamento \"Eletronic check\" tendem a cancelar os serviços da Alura Voz. Direcionar os clientes para outro método de pagamento é uma boa opção para reduzir a taxa de cancelamentos."
      ],
      "metadata": {
        "id": "BMJfomzk9oyn"
      }
    },
    {
      "cell_type": "code",
      "source": [
        "# Plotando o gráfico a se o cliente é idoso ou não por churn.\n",
        "\n",
        "plot_countplot(dados=df, \n",
        "               x='Idoso', \n",
        "               titulo=\"Distribuição da variável Idoso por Churn\",\n",
        "               label_x='Idoso', \n",
        "               hue='Churn'\n",
        "    ) "
      ],
      "metadata": {
        "colab": {
          "base_uri": "https://localhost:8080/",
          "height": 695
        },
        "id": "msgU-u_T9-66",
        "outputId": "5dafe6c8-71d1-47b8-8d30-280ba910412e"
      },
      "execution_count": 31,
      "outputs": [
        {
          "output_type": "error",
          "ename": "AttributeError",
          "evalue": "ignored",
          "traceback": [
            "\u001b[0;31m---------------------------------------------------------------------------\u001b[0m",
            "\u001b[0;31mAttributeError\u001b[0m                            Traceback (most recent call last)",
            "\u001b[0;32m<ipython-input-31-3ae3ffc59b1c>\u001b[0m in \u001b[0;36m<module>\u001b[0;34m()\u001b[0m\n\u001b[1;32m      5\u001b[0m                \u001b[0mtitulo\u001b[0m\u001b[0;34m=\u001b[0m\u001b[0;34m\"Distribuição da variável Idoso por Churn\"\u001b[0m\u001b[0;34m,\u001b[0m\u001b[0;34m\u001b[0m\u001b[0;34m\u001b[0m\u001b[0m\n\u001b[1;32m      6\u001b[0m                \u001b[0mlabel_x\u001b[0m\u001b[0;34m=\u001b[0m\u001b[0;34m'Idoso'\u001b[0m\u001b[0;34m,\u001b[0m\u001b[0;34m\u001b[0m\u001b[0;34m\u001b[0m\u001b[0m\n\u001b[0;32m----> 7\u001b[0;31m                \u001b[0mhue\u001b[0m\u001b[0;34m=\u001b[0m\u001b[0;34m'Churn'\u001b[0m\u001b[0;34m\u001b[0m\u001b[0;34m\u001b[0m\u001b[0m\n\u001b[0m\u001b[1;32m      8\u001b[0m     ) \n",
            "\u001b[0;32m/content/utils.py\u001b[0m in \u001b[0;36mplot_countplot\u001b[0;34m(dados, x, titulo, label_x, figsize, hue, small)\u001b[0m\n\u001b[1;32m     24\u001b[0m             \u001b[0max\u001b[0m\u001b[0;34m.\u001b[0m\u001b[0mbar_label\u001b[0m\u001b[0;34m(\u001b[0m\u001b[0mcontainer\u001b[0m\u001b[0;34m,\u001b[0m \u001b[0mfontsize\u001b[0m\u001b[0;34m=\u001b[0m\u001b[0;36m15\u001b[0m\u001b[0;34m)\u001b[0m\u001b[0;34m\u001b[0m\u001b[0;34m\u001b[0m\u001b[0m\n\u001b[1;32m     25\u001b[0m         \u001b[0;32melse\u001b[0m\u001b[0;34m:\u001b[0m\u001b[0;34m\u001b[0m\u001b[0;34m\u001b[0m\u001b[0m\n\u001b[0;32m---> 26\u001b[0;31m             \u001b[0max\u001b[0m\u001b[0;34m.\u001b[0m\u001b[0mbar_label\u001b[0m\u001b[0;34m(\u001b[0m\u001b[0mcontainer\u001b[0m\u001b[0;34m,\u001b[0m \u001b[0mfontsize\u001b[0m\u001b[0;34m=\u001b[0m\u001b[0;36m15\u001b[0m\u001b[0;34m,\u001b[0m \u001b[0mpadding\u001b[0m\u001b[0;34m=\u001b[0m\u001b[0;34m-\u001b[0m\u001b[0;36m17\u001b[0m\u001b[0;34m,\u001b[0m \u001b[0mcolor\u001b[0m\u001b[0;34m=\u001b[0m\u001b[0;34m'white'\u001b[0m\u001b[0;34m)\u001b[0m\u001b[0;34m\u001b[0m\u001b[0;34m\u001b[0m\u001b[0m\n\u001b[0m\u001b[1;32m     27\u001b[0m \u001b[0;34m\u001b[0m\u001b[0m\n\u001b[1;32m     28\u001b[0m     \u001b[0mplt\u001b[0m\u001b[0;34m.\u001b[0m\u001b[0mshow\u001b[0m\u001b[0;34m(\u001b[0m\u001b[0;34m)\u001b[0m\u001b[0;34m\u001b[0m\u001b[0;34m\u001b[0m\u001b[0m\n",
            "\u001b[0;31mAttributeError\u001b[0m: 'AxesSubplot' object has no attribute 'bar_label'"
          ]
        },
        {
          "output_type": "display_data",
          "data": {
            "text/plain": [
              "<Figure size 576x360 with 1 Axes>"
            ],
            "image/png": "[encoded data removed]"
          },
          "metadata": {}
        }
      ]
    },
    {
      "cell_type": "markdown",
      "source": [
        "Apesar da quantidade de clientes idosos ser menor, a proporção de clientes que cancelaram o serviço entre os idosos é maior que a de clientes que não são idosos. Entender os motivos que estão levando a essa taxa de cancelamento entre os idosos e adotar medidas para melhorar o serviço para esses clientes é uma boa opção para reduzir a taxa de cancelamento.\n",
        "\n",
        "Para fazer uma análise mais aprofundada podemos aplicar o boxplot, e para conhecer melhor pode ler esse artigo: [Melhorando a análise com o Boxplot](https://www.alura.com.br/artigos/melhorando-a-analise-com-o-boxplot)."
      ],
      "metadata": {
        "id": "PilLrtsg-1xk"
      }
    },
    {
      "cell_type": "code",
      "source": [
        "# Imprimindo boxplot com o plotly\n",
        "\n",
        "for col in ['Tempo_de_Contrato', 'Cobrança_Mensal']:\n",
        "    fig = box(df, x=col, color='Churn', orientation='h')\n",
        "    fig.show()"
      ],
      "metadata": {
        "colab": {
          "base_uri": "https://localhost:8080/",
          "height": 1000
        },
        "id": "IeTUWeDw_v8M",
        "outputId": "ca18465f-ad72-4086-cc07-c9b156d27063"
      },
      "execution_count": 33,
      "outputs": [
        {
          "output_type": "display_data",
          "data": {
            "text/html": [
              "<html>\n",
              "<head><meta charset=\"utf-8\" /></head>\n",
              "<body>\n",
              "    <div>            <script src=\"https://cdnjs.cloudflare.com/ajax/libs/mathjax/2.7.5/MathJax.js?config=TeX-AMS-MML_SVG\"></script><script type=\"text/javascript\">if (window.MathJax) {MathJax.Hub.Config({SVG: {font: \"STIX-Web\"}});}</script>                <script type=\"text/javascript\">window.PlotlyConfig = {MathJaxConfig: 'local'};</script>\n",
              "        <script src=\"https://cdn.plot.ly/plotly-2.8.3.min.js\"></script>                <div id=\"baa1bc2b-4ad3-4eda-8045-bf28b23456eb\" class=\"plotly-graph-div\" style=\"height:525px; width:100%;\"></div>            <script type=\"text/javascript\">                                    window.PLOTLYENV=window.PLOTLYENV || {};                                    if (document.getElementById(\"baa1bc2b-4ad3-4eda-8045-bf28b23456eb\")) {                    Plotly.newPlot(                        \"baa1bc2b-4ad3-4eda-8045-bf28b23456eb\",                        [{\"alignmentgroup\":\"True\",\"hovertemplate\":\"Churn=N\\u00e3o<br>Tempo_de_Contrato=%{x}<extra></extra>\",\"legendgroup\":\"N\\u00e3o\",\"marker\":{\"color\":\"#636efa\"},\"name\":\"N\\u00e3o\",\"notched\":false,\"offsetgroup\":\"N\\u00e3o\",\"orientation\":\"h\",\"showlegend\":true,\"x\":[9,9,9,71,63,7,65,54,72,5,72,56,71,34,1,50,23,3,55,54,26,69,37,49,66,67,20,43,55,59,12,27,27,25,25,29,72,14,35,1,29,64,39,40,6,30,27,70,57,58,16,69,32,16,71,33,10,26,50,61,26,72,44,66,44,69,2,27,26,39,72,24,19,71,33,3,47,62,71,7,27,2,25,30,9,69,66,46,54,12,22,70,30,71,30,10,4,52,8,2,3,19,72,63,66,60,48,50,72,46,72,1,1,67,48,72,52,67,32,3,50,71,16,67,72,23,72,7,8,66,63,12,27,35,54,5,19,52,72,32,41,5,11,16,71,11,71,9,6,6,11,49,3,53,3,70,39,60,55,72,72,60,46,15,23,11,56,25,68,40,71,17,18,37,2,28,9,1,65,3,36,22,72,67,34,10,69,40,20,46,72,70,2,23,36,67,72,72,72,58,31,3,55,49,39,66,15,51,9,25,22,15,3,47,67,18,62,41,44,53,48,54,24,33,66,3,13,63,52,3,10,72,29,62,26,19,72,45,32,41,65,11,49,61,25,23,21,24,70,46,2,57,60,37,28,24,62,20,52,72,70,66,55,57,72,28,54,24,2,12,51,13,58,18,29,72,71,70,20,63,7,69,9,46,60,16,41,4,24,38,25,40,13,64,20,57,12,59,59,45,50,70,72,13,4,53,63,10,56,65,1,29,72,40,72,3,4,18,62,29,48,53,6,22,72,34,48,21,71,1,1,32,1,63,72,53,50,21,52,4,40,23,57,49,9,61,70,13,34,57,7,44,45,36,69,71,30,52,52,3,72,72,51,51,72,64,13,52,7,4,46,54,72,66,16,11,71,57,62,72,66,16,58,4,72,67,71,72,15,11,43,24,52,13,55,42,2,1,17,27,45,71,36,15,20,71,24,71,66,30,47,7,46,62,70,16,15,45,72,13,6,18,68,64,5,64,26,2,59,17,56,62,53,23,6,8,61,34,56,38,69,72,70,7,61,55,61,14,22,60,1,4,13,3,63,36,54,47,41,13,30,44,47,52,12,54,13,7,42,65,49,62,11,37,1,69,72,26,3,62,26,40,33,72,3,68,19,7,56,66,7,1,8,62,56,41,57,38,26,72,30,68,63,60,19,25,71,8,20,43,17,44,2,71,72,18,67,56,69,1,25,55,53,59,7,3,64,51,69,38,56,63,11,24,72,69,56,18,11,45,61,66,42,55,1,68,1,17,15,28,28,40,63,39,48,44,69,49,24,71,61,18,27,64,1,50,30,57,17,51,60,33,38,1,16,72,41,65,72,67,49,19,69,47,53,27,11,28,53,19,3,23,63,61,27,1,4,8,12,56,52,20,68,3,50,60,4,45,25,43,9,62,40,6,20,16,8,72,21,64,3,58,18,67,61,52,14,43,52,4,5,27,23,49,71,59,64,72,44,30,39,15,70,72,72,35,68,71,70,29,66,20,55,9,72,49,24,42,52,18,12,72,52,70,18,7,54,68,72,55,9,4,18,41,6,14,61,13,64,72,27,22,11,4,7,6,50,11,54,23,67,46,0,48,40,30,15,16,9,7,20,11,1,44,43,24,7,57,11,57,23,18,70,33,1,3,54,7,70,30,32,1,56,52,12,29,33,22,10,26,13,66,58,22,72,1,39,1,52,4,70,60,8,3,64,66,49,1,36,58,7,1,72,35,30,52,72,31,70,53,10,29,59,45,12,33,66,49,61,24,1,17,12,61,27,48,71,4,61,31,30,55,42,71,43,19,19,12,4,70,68,57,51,4,70,19,51,71,11,60,62,12,45,8,68,36,1,29,1,14,5,19,71,4,1,6,32,68,63,53,6,59,48,1,37,27,72,70,12,23,23,40,11,42,12,71,39,58,61,19,61,16,60,52,17,63,46,42,47,51,45,53,1,2,64,10,34,32,54,11,8,56,34,1,46,60,22,39,2,35,25,18,3,66,29,66,8,45,18,72,34,2,72,10,51,28,13,2,15,2,12,51,30,64,72,5,72,1,27,72,30,65,61,62,45,52,24,70,39,42,20,72,13,22,1,7,8,8,64,22,26,31,4,48,71,36,1,21,58,29,11,64,1,64,39,39,24,1,8,36,16,7,41,5,55,72,72,1,47,21,68,58,33,33,56,49,68,72,1,1,67,45,72,10,59,22,30,52,10,20,35,72,65,7,23,29,43,18,71,9,48,27,70,58,60,46,8,68,46,8,9,1,63,18,18,37,63,6,48,4,29,27,65,31,49,72,5,1,33,1,65,60,63,55,68,72,37,29,64,46,23,68,41,17,55,5,68,7,41,2,1,1,3,17,37,22,68,72,16,65,55,1,33,30,25,1,25,72,44,18,7,59,70,40,34,5,68,14,19,67,50,43,59,27,40,28,5,54,63,20,72,71,32,71,71,71,22,68,2,29,12,34,40,72,72,45,72,71,18,68,68,34,24,58,37,52,45,43,26,56,1,68,27,9,1,71,72,21,54,8,24,48,5,17,72,72,6,72,62,1,51,38,33,20,31,64,72,9,61,52,69,1,68,14,7,1,51,15,72,50,57,44,62,7,72,1,72,1,32,71,60,4,52,29,49,40,57,62,23,65,38,72,2,28,65,2,72,12,26,20,7,23,67,48,64,3,32,51,48,18,23,55,2,27,35,58,42,44,43,7,41,65,40,46,62,30,70,1,24,11,58,8,35,65,68,46,72,38,58,17,72,50,3,55,71,37,55,61,44,2,56,72,1,44,10,72,66,18,64,22,38,5,18,11,67,67,72,47,54,31,11,11,1,20,8,1,72,23,30,29,59,58,1,4,61,39,31,33,4,32,72,11,23,15,72,35,50,41,33,60,25,0,70,60,34,27,60,56,15,70,1,42,1,2,72,52,57,7,47,65,72,68,72,48,1,35,44,37,65,59,22,1,54,44,6,50,13,1,27,71,14,31,20,12,40,72,1,64,71,64,33,3,70,51,67,68,62,64,3,71,2,36,65,33,54,1,10,60,65,72,26,1,48,41,1,37,56,7,4,71,58,53,31,1,6,49,8,22,61,9,5,65,29,1,12,55,68,34,1,36,15,10,3,1,43,8,71,6,39,46,72,33,32,5,17,5,10,1,41,22,47,65,8,35,8,24,36,67,0,21,11,50,13,64,3,71,9,1,3,46,63,71,5,65,42,3,24,66,25,56,52,23,25,32,23,26,49,1,50,28,49,18,72,37,7,45,19,29,61,4,38,2,15,43,24,64,72,27,35,1,53,6,1,61,1,68,34,13,35,35,72,2,12,69,57,69,41,47,59,18,40,2,68,70,1,72,2,11,56,36,37,18,19,1,38,0,56,30,72,8,53,46,6,13,40,59,50,46,18,35,69,62,23,45,9,24,71,1,2,67,7,13,57,36,66,22,3,69,72,23,40,70,70,3,69,72,67,19,70,21,29,29,25,55,2,19,7,29,29,50,67,37,64,8,1,38,3,32,3,3,56,9,53,63,35,13,14,14,51,68,1,60,23,72,3,6,13,47,3,14,23,72,66,53,11,2,1,18,18,61,65,41,19,4,25,72,5,0,59,68,54,22,49,51,19,2,14,72,63,4,17,71,10,72,69,47,60,2,53,34,60,55,53,57,61,38,60,50,9,71,46,35,23,21,16,70,66,14,46,3,34,3,25,19,65,67,8,67,26,47,20,52,0,61,72,24,4,66,65,34,45,71,2,12,16,72,1,62,53,52,18,51,6,72,72,57,58,71,72,17,8,68,28,2,71,30,34,32,6,45,11,2,23,29,68,17,69,59,1,32,29,28,50,14,20,3,14,23,71,64,12,72,36,4,8,29,59,16,40,9,8,58,71,5,17,30,3,13,30,1,34,52,44,47,13,23,40,67,70,43,72,51,51,22,51,71,3,44,31,3,1,41,60,29,2,5,2,28,14,19,60,71,1,43,68,4,46,35,47,25,19,49,6,68,58,25,24,6,15,26,16,10,21,67,19,40,57,41,28,70,21,36,70,2,56,4,63,68,43,35,60,71,71,24,23,72,72,1,72,34,24,32,26,43,17,71,7,22,68,55,47,55,72,49,7,47,12,34,63,20,47,68,64,1,12,53,24,72,66,42,58,46,45,1,61,72,18,51,57,10,35,9,1,24,2,3,27,70,10,55,31,64,71,66,52,2,57,21,8,17,17,15,62,13,68,58,19,13,71,61,13,1,56,32,72,43,61,69,52,62,54,19,71,5,10,68,1,60,10,16,29,52,4,5,68,50,7,16,21,72,69,26,61,49,37,60,1,5,38,2,1,54,51,15,27,24,10,6,71,1,66,35,65,15,61,22,28,24,36,67,3,66,4,12,7,13,65,59,65,46,68,67,33,20,64,58,24,71,35,8,53,1,72,21,30,70,63,63,11,2,14,3,55,1,20,72,70,27,67,12,17,72,71,1,71,16,2,16,10,71,17,4,40,59,38,72,19,69,70,14,67,1,60,67,45,68,16,37,72,68,67,24,10,45,63,4,68,72,71,72,64,9,60,3,26,41,1,45,50,44,2,72,42,47,9,66,57,42,20,23,28,70,34,1,72,3,72,67,11,58,62,71,72,1,5,19,8,65,36,26,9,2,71,60,38,58,25,19,31,63,56,56,27,60,21,1,25,22,61,6,31,72,3,3,41,49,71,64,18,72,58,7,7,3,52,11,1,33,52,36,51,0,72,16,30,72,13,38,34,71,3,48,20,34,68,67,24,29,67,56,29,7,69,4,35,71,58,9,12,47,67,5,4,52,28,55,2,50,51,72,51,1,63,51,35,46,54,67,12,70,10,21,63,36,57,57,26,63,72,54,59,1,69,12,67,28,33,61,21,2,8,68,72,1,2,2,2,61,35,60,52,5,6,1,66,72,24,8,38,68,9,1,28,7,72,7,65,56,15,56,9,16,69,68,50,10,26,16,70,72,17,10,7,13,70,5,10,39,20,20,72,62,24,21,48,7,53,27,56,17,18,37,48,8,50,1,0,56,1,34,72,32,17,68,47,44,72,22,70,3,44,5,4,4,54,14,12,13,69,35,64,20,26,4,7,10,71,42,9,2,60,39,15,7,15,61,19,59,30,62,18,20,5,0,52,45,69,36,8,2,5,13,38,61,18,23,46,26,35,31,71,42,56,18,13,42,26,54,40,8,25,42,51,58,12,9,2,46,8,16,55,52,62,4,14,59,47,71,5,41,52,9,9,12,52,13,16,45,70,53,8,27,60,20,42,16,65,20,33,22,44,72,51,69,22,53,9,1,32,34,54,62,30,55,17,7,18,6,53,45,64,18,70,69,40,18,1,33,60,72,63,12,31,71,50,54,11,44,62,57,18,70,21,42,21,3,8,2,51,21,70,67,21,1,72,34,29,5,18,20,45,20,29,50,11,72,6,72,48,50,1,36,7,40,72,63,2,60,47,25,4,37,72,67,59,43,30,13,2,30,12,63,48,1,71,61,5,26,40,7,11,8,34,19,70,51,35,30,8,4,10,72,50,71,18,32,72,72,22,42,61,35,40,72,66,20,16,72,19,65,67,39,72,47,65,56,6,56,40,5,3,2,58,13,10,66,56,71,56,55,42,42,14,10,22,39,57,8,63,61,50,35,72,29,54,49,72,1,70,55,26,25,31,2,18,2,13,40,17,10,61,27,60,64,28,34,36,35,22,43,70,15,3,29,72,71,30,19,56,36,57,3,52,2,17,68,57,72,26,14,30,66,49,15,71,39,67,31,13,47,23,57,56,10,30,43,9,27,20,51,1,38,11,56,72,13,1,7,51,29,26,67,65,43,9,30,32,25,13,3,2,67,66,4,50,64,59,51,10,17,1,59,2,24,47,55,60,72,69,29,71,48,36,2,50,3,31,63,54,56,43,25,62,49,1,8,72,63,54,31,59,9,4,38,16,67,20,64,28,71,21,3,31,37,68,34,28,3,11,17,69,37,72,8,49,27,4,72,2,2,67,22,48,47,66,37,56,72,10,9,35,54,63,53,67,71,42,12,57,35,33,62,25,26,34,49,17,53,1,70,28,27,72,7,31,68,32,4,64,26,71,41,41,47,29,42,57,45,54,52,71,72,72,40,64,26,52,62,42,11,41,72,49,56,72,11,29,53,46,72,63,60,35,72,48,53,7,46,12,64,15,41,51,28,66,43,58,66,71,31,71,31,48,72,72,54,72,60,65,34,37,4,62,52,8,69,12,5,1,28,3,58,71,72,2,18,37,50,21,69,72,71,38,22,45,15,66,66,12,32,60,9,67,65,5,16,5,8,71,57,30,32,10,12,14,19,41,69,2,33,12,58,22,61,27,53,19,56,72,17,70,72,69,43,41,46,19,68,52,24,33,31,67,22,66,71,20,66,47,1,70,17,46,41,8,33,1,25,33,11,47,7,49,20,28,4,42,1,4,41,13,50,66,10,1,2,27,58,8,71,63,34,46,58,44,8,24,72,14,2,6,12,7,72,10,15,58,46,4,35,9,20,35,21,49,3,47,13,30,58,53,60,8,51,31,10,41,18,32,10,62,42,72,24,65,72,70,50,71,71,68,43,72,17,31,41,67,17,48,28,71,26,1,11,13,71,4,53,0,43,4,65,13,49,8,72,66,43,52,61,69,70,71,46,28,11,61,6,3,22,52,72,50,7,40,12,9,8,72,71,72,34,24,56,52,55,69,68,63,50,72,70,39,3,52,20,70,37,7,56,57,48,56,62,23,29,29,21,16,16,18,33,35,71,71,33,22,68,27,6,70,49,44,2,1,26,46,10,1,32,60,23,72,11,5,72,35,58,72,56,9,67,31,31,70,1,55,34,32,72,70,49,2,37,32,32,2,64,13,41,9,69,22,23,17,15,48,19,53,71,15,2,26,18,33,72,6,21,3,12,72,64,47,2,72,46,51,36,43,72,35,37,23,65,72,32,39,68,24,16,12,66,58,23,37,1,67,40,72,61,1,41,72,54,70,61,34,35,2,69,72,17,28,5,32,54,16,15,39,41,2,69,69,70,55,70,41,25,23,27,65,22,52,38,3,13,51,40,18,23,72,32,36,68,64,26,26,59,44,13,29,72,34,46,62,63,24,70,1,1,41,56,35,19,13,18,62,7,48,6,64,10,1,33,68,26,1,71,71,6,72,59,57,35,43,67,46,5,72,48,5,72,3,1,38,51,57,65,56,17,5,29,46,22,9,52,64,63,50,15,57,17,6,42,69,6,56,4,45,22,72,66,23,62,23,69,61,70,54,37,71,13,71,4,7,68,32,1,4,26,31,69,65,30,9,44,71,56,72,1,20,54,23,50,72,19,70,59,29,71,11,49,49,67,65,13,48,71,9,50,62,31,20,69,34,72,53,4,3,67,54,3,31,42,71,13,38,4,68,61,16,46,72,5,60,1,39,72,62,3,4,25,51,2,66,72,46,11,51,62,23,28,48,24,19,10,5,65,72,9,70,30,68,31,31,5,35,71,71,57,8,67,1,4,16,23,12,15,32,25,36,72,45,29,56,8,68,62,31,6,8,7,68,14,55,6,28,13,23,15,37,23,38,22,53,2,72,69,35,24,15,16,33,3,23,51,60,13,9,14,34,33,71,16,26,49,45,33,45,1,46,33,25,17,32,1,1,51,15,48,27,72,70,15,17,50,13,6,46,33,30,72,24,71,61,65,23,45,24,18,63,5,6,58,67,12,59,2,4,72,23,28,5,2,14,30,16,72,1,67,11,1,50,72,1,48,31,19,69,7,11,56,43,63,60,44,62,16,35,18,70,67,16,11,61,72,29,20,5,61,10,43,72,15,65,66,44,71,27,14,15,72,63,1,67,20,47,70,35,3,67,5,65,72,67,44,30,63,42,35,19,72,42,61,30,46,58,26,56,49,40,29,24,24,2,36,5,12,18,62,66,6,38,47,45,51,56,2,10,48,28,27,12,15,3,69,12,54,24,2,58,64,58,35,8,72,2,67,72,11,9,37,30,24,68,2,70,64,40,30,32,71,1,18,48,71,50,44,61,29,12,49,52,60,72,40,29,1,65,65,72,1,59,5,72,5,56,23,2,11,53,72,26,31,19,48,2,54,68,70,18,45,47,70,70,37,15,55,58,43,9,6,55,72,8,67,69,44,26,14,49,38,60,69,70,4,14,71,68,71,66,4,55,72,18,25,40,71,29,61,2,56,13,9,7,41,47,30,54,72,24,37,48,69,31,38,37,4,46,21,39,17,54,9,3,70,30,48,62,11,66,39,4,12,32,70,72,17,8,25,10,1,72,43,72,9,50,69,15,26,35,21,52,26,71,66,60,72,38,17,46,5,34,17,16,48,60,72,66,40,23,50,60,8,10,12,37,55,57,43,61,3,67,71,58,22,57,67,36,72,72,25,12,70,21,62,22,65,38,44,6,67,72,40,11,70,41,24,4,17,68,14,63,43,66,4,32,44,1,24,50,51,3,1,53,40,61,1,72,11,25,18,62,55,55,28,62,13,22,24,17,5,45,12,1,60,14,51,1,23,72,1,30,69,1,5,1,13,8,7,25,32,2,13,72,39,6,31,59,27,8,39,4,51,3,59,37,7,6,7,9,4,46,72,28,9,1,19,71,2,18,2,22,2,20,4,71,44,3,72,54,18,26,53,3,25,72,53,10,57,8,33,64,9,60,54,46,6,1,1,48,45,37,11,55,39,38,45,72,1,16,53,71,60,71,14,69,37,7,57,61,2,46,64,72,25,64,24,15,69,50,12,69,66,5,3,69,3,17,57,12,63,1,18,58,50,27,6,10,67,70,48,13,72,72,24,72,68,62,41,46,1,71,60,40,27,1,34,32,27,12,65,62,48,35,1,71,72,31,45,72,45,62,17,54,15,22,1,53,42,56,28,6,56,7,25,57,47,8,12,58,2,52,70,39,63,0,54,11,71,43,21,19,59,72,29,36,10,17,12,58,57,69,23,33,8,34,72,71,64,53,68,52,68,49,37,1,11,70,40,69,71,61,26,60,15,69,1,54,72,9,2,66,72,57,55,51,6,28,16,30,12,55,1,34,6,3,72,10,47,22,39,12,45,70,72,3,6,61,42,1,45,8,14,18,43,27,18,52,3,23,20,31,1,35,6,14,63,68,3,58,24,51,45,61,33,26,23,13,4,1,21,45,12,72,63,43,60,31,53,67,72,4,51,15,69,4,1,55,4,19,23,25,71,14,24,56,7,5,19,16,10,72,51,67,25,45,1,11,20,70,64,65,60,35,11,36,3,31,27,52,21,24,67,10,8,6,65,72,66,66,47,4,21,25,72,36,49,18,15,8,54,42,13,66,63,71,15,10,2,15,53,35,43,72,55,66,40,22,56,72,62,71,39,50,55,6,72,69,1,63,66,63,12,62,1,10,49,22,62,54,33,64,1,65,71,24,67,14,24,70,9,10,30,13,11,62,9,71,58,72,10,19,59,54,42,48,43,68,12,38,14,72,11,17,10,9,4,36,6,72,56,6,49,15,23,54,71,34,42,8,39,2,50,72,11,7,7,59,66,72,33,3,69,24,31,70,1,68,62,4,53,32,41,52,24,72,14,21,71,25,1,23,72,12,70,72,70,16,22,5,69,42,42,5,72,39,21,35,35,12,27,72,58,64,71,10,71,66,69,43,72,61,7,70,5,17,51,5,64,7,60,1,20,72,72,4,1,56,9,12,33,70,1,39,45,30,7,59,1,72,67,47,4,24,9,7,65,14,35,26,7,37,23,50,27,58,12,72,72,9,45,64,64,39,1,58,72,68,38,55,33,57,15,8,4,62,1,68,72,55,42,67,41,26,4,66,15,63,59,25,4,69,66,28,57,49,65,42,61,10,67,1,37,35,72,8,19,20,38,57,38,67,22,57,72,70,13,62,31,18,64,42,30,65,18,41,54,32,72,59,52,61,54,8,3,14,72,35,66,48,48,1,67,1,17,40,69,72,1,36,47,16,17,38,50,8,67,38,70,41,59,64,22,70,43,1,72,18,38,2,12,3,71,1,6,26,69,56,47,72,18,51,46,9,72,42,69,14,66,57,14,16,2,64,71,3,72,26,52,72,36,46,51,4,56,44,29,29,1,29,68,34,1,51,52,1,21,70,69,33,1,59,2,4,61,42,1,71,27,57,37,41,26,10,31,10,14,9,72,42,2,5,46,57,21,4,65,19,1,72,70,28,71,5,69,57,68,1,71,27,71,63,72,1,65,52,9,21,63,25,66,44,60,60,59,12,8,28,12,30,2,41,55,72,30,25,46,31,68,58,70,48,72,63,30,60,33,67,25,72,63,39,33,48,10,45,64,68,6,29,39,20,52,71,41,69,68,20,35,17,1,7,62,1,44,39,72,47,15,2,54,69,72,21,3,46,34,72,37,60,62,42,25,18,68,12,15,63,32,1,41,50,56,57,3,22,36,22,70,14,18,23,1,71,64,35,11,27,64,71,1,69,9,1,21,13,7,57,19,72,45,60,42,48,55,9,43,7,71,32,8,72,51,3,26,35,27,2,26,65,41,22,64,65,24,51,72,69,44,70,40,61,23,72,62,50,64,47,47,58,34,60,12,64,22,11,15,14,23,2,59,1,61,1,10,69,35,48,72,62,40,16,1,72,44,59,18,23,51,64,69,2,35,26,26,68,44,29,24,14,56,6,6,71,43,15,22,44,12,52,53,50,24,38,42,63,56,37,18,44,1,69,55,47,72,16,65,18,45,21,72,72,1,48,67,65,11,52,71,3,10,15,3,52,21,68,39,46,72,64,13,5,72,57,72,47,69,38,26,14,11,27,8,23,60,6,7,66,72,33,23,59,4,67,4,72,42,26,38,24,65,67,24,64,40,15,71,27,4,12,52,60,33,1,6,35,72,43,43,5,44,53,23,62,27,15,69,3,70,15,67,64,45,40,8,70,38,51,9,2,72,48,17,71,1,11,72,27,50,35,53,72,25,37,26,35,71,28,71,70,71,62,72,14,70,9,72,63,70,72,8,66,10,25,45,11,8,72,61,35,69,59,52,20,53,3,13,54,34,35,10,27,31,10,34,13,15,70,36,26,69,1,52,68,62,19,9,24,61,72,8,13,30,38,71,36,52,65,64,71,3,68,6,37,68,15,59,17,41,64,2,49,69,55,37,56,50,1,1,35,67,1,22,4,43,6,47,25,37,68,63,41,4,1,35,3,47,3,72,2,63,53,3,9,66,6,47,18,38,45,66,58,2,71,45,46,72,53,72,49,44,55,59,34,5,43,10,2,51,50,61,13,5,1,39,56,4,14,71,27,2,41,32,49,49,39,72,6,67,3,47,22,52,32,1,1,26,49,48,5,39,13,59,17,38,70,53,3,10,27,65,64,31,72,22,6,49,35,63,72,7,23,64,66,7,8,14,17,46,2,22,66,23,72,71,46,40,53,12,2,37,66,53,1,41,72,36,41,24,58,42,12,72,43,1,4,70,59,14,17,72,35,34,72,19,72,17,22,21,34,11,72,25,29,35,64,28,23,1,66,18,32,65,26,20,59,48,41,72,21,42,33,23,72,72,22,12,4,28,46,11,60,15,41,68,37,67,32,25,28,63,69,6,72,71,1,71,19,63,6,34,67,28,53,64,46,1,47,7,13,2,67,63],\"x0\":\" \",\"xaxis\":\"x\",\"y0\":\" \",\"yaxis\":\"y\",\"type\":\"box\"},{\"alignmentgroup\":\"True\",\"hovertemplate\":\"Churn=Sim<br>Tempo_de_Contrato=%{x}<extra></extra>\",\"legendgroup\":\"Sim\",\"marker\":{\"color\":\"#EF553B\"},\"name\":\"Sim\",\"notched\":false,\"offsetgroup\":\"Sim\",\"orientation\":\"h\",\"showlegend\":true,\"x\":[4,13,3,45,1,13,4,1,2,40,11,1,1,49,21,37,7,15,2,12,1,3,25,1,22,58,10,6,70,25,15,4,2,5,1,1,15,28,27,2,9,32,3,5,49,1,8,5,61,26,1,23,2,1,68,8,1,3,5,3,41,6,58,31,36,32,1,23,17,3,58,2,1,59,37,3,54,60,1,8,1,28,48,23,41,43,55,1,1,5,27,5,1,1,18,5,1,35,30,15,55,9,69,5,27,22,8,62,14,53,20,1,1,64,49,28,10,21,22,23,2,13,16,67,47,21,7,1,1,15,1,2,65,13,46,53,4,4,9,12,4,1,55,9,24,4,1,2,70,2,1,3,9,9,16,3,1,27,2,52,9,1,53,34,20,5,13,9,10,5,54,4,2,27,1,54,11,72,3,3,7,35,10,58,7,20,13,32,1,1,69,18,1,7,5,1,11,1,1,12,41,56,1,1,1,16,1,1,3,17,47,15,14,54,16,1,2,2,67,1,10,38,13,7,7,23,6,12,2,50,14,1,2,31,4,9,55,68,16,12,4,1,2,21,3,46,53,15,1,10,63,1,1,11,4,7,3,21,3,1,11,29,70,1,57,1,3,10,56,1,10,10,28,1,1,2,58,12,9,7,52,1,32,70,13,4,8,5,12,30,7,1,12,17,66,3,51,35,2,26,4,1,2,42,5,10,68,20,33,18,1,14,3,34,12,9,42,5,54,1,4,47,1,9,1,1,29,17,1,5,1,1,50,1,1,40,41,11,12,2,69,20,22,48,22,10,1,13,7,1,1,1,14,16,1,1,3,2,70,27,1,66,1,18,11,1,1,13,7,12,43,24,2,38,33,3,21,5,7,2,6,1,29,30,31,5,3,4,14,25,1,4,22,37,15,13,46,12,7,22,15,47,1,7,1,7,8,15,70,1,4,39,58,20,2,4,14,3,48,10,16,1,38,57,16,9,28,24,39,36,5,2,6,62,1,4,8,13,41,59,10,24,22,6,1,12,40,5,6,40,41,10,31,2,4,6,1,1,2,38,17,71,61,1,4,37,7,3,6,4,1,12,4,1,4,66,53,1,4,27,9,7,15,4,26,67,10,8,1,6,29,30,25,9,11,4,17,2,1,64,1,2,2,63,10,9,2,15,1,24,53,16,5,13,1,71,52,2,24,2,41,14,1,43,17,20,4,1,1,2,45,40,1,35,63,72,25,21,39,4,8,56,31,2,1,4,5,17,1,24,12,4,2,10,17,1,11,2,4,6,40,32,55,2,62,12,33,1,9,48,10,1,3,41,1,1,1,7,5,1,61,1,67,12,27,2,2,60,8,57,6,56,13,6,1,2,5,1,1,1,1,49,68,50,3,57,39,17,8,26,18,8,3,1,10,4,19,71,39,1,37,1,59,15,5,35,6,28,3,34,1,33,18,28,67,16,13,4,5,8,25,12,21,55,2,65,1,58,15,1,6,58,16,8,1,15,1,70,3,37,22,32,3,15,33,1,29,65,10,1,8,35,13,14,9,1,31,7,22,3,1,15,2,5,1,4,36,2,14,6,58,2,45,1,32,42,1,2,1,6,11,21,1,2,1,15,2,16,32,66,1,57,1,56,13,1,7,1,1,50,4,7,31,3,7,66,35,23,4,12,2,54,1,7,1,17,72,1,1,12,6,50,1,53,4,23,26,12,1,24,28,30,42,1,37,6,8,25,19,7,29,2,36,1,31,11,8,19,9,3,55,21,1,39,1,10,9,22,31,3,5,52,5,8,13,8,41,31,3,46,10,5,1,2,1,2,4,1,4,6,5,1,30,17,6,68,1,1,8,9,19,7,40,3,53,12,1,68,7,19,2,1,1,67,41,1,6,14,16,3,23,3,25,27,1,21,2,3,2,46,5,13,61,2,42,3,52,16,35,1,11,6,1,38,2,16,59,2,7,10,16,5,1,70,49,17,47,11,10,22,43,3,4,3,6,1,3,56,24,25,1,25,56,1,8,7,57,35,2,15,6,13,16,21,19,2,1,2,1,17,18,2,55,31,1,22,11,56,2,44,1,26,1,1,4,1,1,4,9,46,1,47,59,5,1,48,1,38,1,4,2,23,10,30,29,20,13,8,25,1,46,29,1,37,1,70,1,1,24,1,32,1,11,1,29,5,11,9,1,31,56,3,5,3,15,1,11,4,4,7,35,2,27,1,50,10,54,7,6,2,1,1,1,3,1,39,60,1,18,58,3,43,1,11,25,1,33,10,10,1,9,2,4,1,9,4,1,22,1,1,1,39,19,2,33,13,8,8,57,1,33,4,68,1,2,2,36,71,11,51,4,10,3,32,32,2,2,1,9,13,51,20,36,1,1,5,34,8,52,32,1,37,4,1,25,69,3,11,62,7,19,65,61,3,24,4,2,2,2,1,34,69,1,54,1,12,21,12,49,55,1,1,1,2,1,16,3,9,28,3,22,15,1,22,20,1,20,20,1,2,2,27,12,4,49,5,1,2,5,4,15,1,1,9,9,58,2,4,10,69,3,29,1,1,2,33,19,2,1,3,5,1,6,1,6,19,1,50,13,3,13,45,15,1,18,1,19,10,7,1,19,4,8,18,5,32,1,10,44,40,12,26,9,26,5,20,32,3,37,1,30,72,24,5,5,1,16,66,17,6,4,3,1,16,1,1,1,1,9,3,2,3,49,47,12,43,3,25,9,22,2,15,1,5,18,42,60,2,22,33,22,31,3,69,29,53,1,20,59,8,11,11,20,10,3,44,10,35,1,1,24,1,1,4,10,49,1,34,48,43,6,25,9,17,1,3,66,5,7,45,1,1,47,2,67,3,7,1,1,38,1,53,9,30,71,1,16,50,1,25,2,34,47,1,14,1,1,1,5,30,34,62,53,49,1,42,56,43,3,40,20,47,11,1,5,14,1,7,36,26,5,52,46,1,57,1,3,53,70,61,68,13,23,13,26,47,19,1,1,11,7,1,18,1,4,24,1,37,26,1,15,36,1,4,20,5,25,3,1,1,46,8,1,1,39,54,65,2,1,20,6,29,2,35,17,1,54,53,1,65,3,24,15,8,33,1,61,8,25,70,37,43,1,13,1,1,2,1,65,10,1,2,4,8,2,1,9,18,1,47,10,1,46,1,22,3,1,41,1,4,2,71,11,5,4,1,64,2,3,3,9,17,1,18,7,1,12,15,13,7,50,49,43,4,1,8,16,1,14,9,19,12,38,24,2,36,42,5,63,6,1,16,5,1,2,3,2,2,3,6,1,1,1,2,42,12,12,49,2,24,1,11,37,66,7,22,46,38,1,1,1,39,3,14,5,67,23,48,59,43,1,32,8,60,15,2,66,1,31,30,10,18,12,4,5,17,2,19,1,18,1,2,8,1,2,1,22,2,1,15,2,45,3,28,1,1,1,7,30,38,1,3,9,33,40,3,21,24,1,8,1,14,15,23,42,15,40,1,1,6,1,9,1,27,16,10,13,1,65,1,4,2,4,4,39,23,7,1,24,66,11,46,28,12,2,6,67,22,10,4,16,14,3,1,2,33,51,1,32,19,1,43,1,14,10,2,7,4,3,1,43,1,1,8,42,25,34,21,2,5,6,22,2,26,10,4,66,2,1,5,5,19,13,25,15,14,21,7,24,1,72,3,5,1,49,15,34,51,49,24,44,66,69,47,12,4,2,1,4,60,1,3,16,22,37,7,42,31,13,5,25,1,5,51,4,44,17,9,1,1,6,18,11,12,3,8,72,1,32,1,3,2,8,35,13,54,18,10,28,48,3,7,12,31,44,25,9,1,47,2,1,51,29,7,4,34,1,3,11,1,6,9,5,12,39,3,18,67,27,3,1,13,61,54,68,5,50,17,15,1,1,7,1,49,41,17,41,10,26,1,14,24,19,7,13,7,14,1,1,4,2,6,1,52,5,29,17,34,3,4,1,13,38,1,1,8,3,2,1,13,43,8,33,54,24,12,1,4,48,40,18,15,4,14,1,36,1,7,4,32,15,1,42,18,1,1,18,1,64,18,1,26,11,8,2,16,1,4,38,59,30,3,16,43,30,25,32,3,65,13,1,30,53,17,42,1,30,5,14,2,18,37,29,1,1,1,2,9,1,4,51,1,39,1,22,11,35,17,1,39,66,3,6,9,3,10,41,35,19,17,2,1,8,1,3,40,1,26,14,9,1,3,15,38,21,9,1,4,22],\"x0\":\" \",\"xaxis\":\"x\",\"y0\":\" \",\"yaxis\":\"y\",\"type\":\"box\"}],                        {\"template\":{\"data\":{\"bar\":[{\"error_x\":{\"color\":\"#2a3f5f\"},\"error_y\":{\"color\":\"#2a3f5f\"},\"marker\":{\"line\":{\"color\":\"#E5ECF6\",\"width\":0.5},\"pattern\":{\"fillmode\":\"overlay\",\"size\":10,\"solidity\":0.2}},\"type\":\"bar\"}],\"barpolar\":[{\"marker\":{\"line\":{\"color\":\"#E5ECF6\",\"width\":0.5},\"pattern\":{\"fillmode\":\"overlay\",\"size\":10,\"solidity\":0.2}},\"type\":\"barpolar\"}],\"carpet\":[{\"aaxis\":{\"endlinecolor\":\"#2a3f5f\",\"gridcolor\":\"white\",\"linecolor\":\"white\",\"minorgridcolor\":\"white\",\"startlinecolor\":\"#2a3f5f\"},\"baxis\":{\"endlinecolor\":\"#2a3f5f\",\"gridcolor\":\"white\",\"linecolor\":\"white\",\"minorgridcolor\":\"white\",\"startlinecolor\":\"#2a3f5f\"},\"type\":\"carpet\"}],\"choropleth\":[{\"colorbar\":{\"outlinewidth\":0,\"ticks\":\"\"},\"type\":\"choropleth\"}],\"contour\":[{\"colorbar\":{\"outlinewidth\":0,\"ticks\":\"\"},\"colorscale\":[[0.0,\"#0d0887\"],[0.1111111111111111,\"#46039f\"],[0.2222222222222222,\"#7201a8\"],[0.3333333333333333,\"#9c179e\"],[0.4444444444444444,\"#bd3786\"],[0.5555555555555556,\"#d8576b\"],[0.6666666666666666,\"#ed7953\"],[0.7777777777777778,\"#fb9f3a\"],[0.8888888888888888,\"#fdca26\"],[1.0,\"#f0f921\"]],\"type\":\"contour\"}],\"contourcarpet\":[{\"colorbar\":{\"outlinewidth\":0,\"ticks\":\"\"},\"type\":\"contourcarpet\"}],\"heatmap\":[{\"colorbar\":{\"outlinewidth\":0,\"ticks\":\"\"},\"colorscale\":[[0.0,\"#0d0887\"],[0.1111111111111111,\"#46039f\"],[0.2222222222222222,\"#7201a8\"],[0.3333333333333333,\"#9c179e\"],[0.4444444444444444,\"#bd3786\"],[0.5555555555555556,\"#d8576b\"],[0.6666666666666666,\"#ed7953\"],[0.7777777777777778,\"#fb9f3a\"],[0.8888888888888888,\"#fdca26\"],[1.0,\"#f0f921\"]],\"type\":\"heatmap\"}],\"heatmapgl\":[{\"colorbar\":{\"outlinewidth\":0,\"ticks\":\"\"},\"colorscale\":[[0.0,\"#0d0887\"],[0.1111111111111111,\"#46039f\"],[0.2222222222222222,\"#7201a8\"],[0.3333333333333333,\"#9c179e\"],[0.4444444444444444,\"#bd3786\"],[0.5555555555555556,\"#d8576b\"],[0.6666666666666666,\"#ed7953\"],[0.7777777777777778,\"#fb9f3a\"],[0.8888888888888888,\"#fdca26\"],[1.0,\"#f0f921\"]],\"type\":\"heatmapgl\"}],\"histogram\":[{\"marker\":{\"pattern\":{\"fillmode\":\"overlay\",\"size\":10,\"solidity\":0.2}},\"type\":\"histogram\"}],\"histogram2d\":[{\"colorbar\":{\"outlinewidth\":0,\"ticks\":\"\"},\"colorscale\":[[0.0,\"#0d0887\"],[0.1111111111111111,\"#46039f\"],[0.2222222222222222,\"#7201a8\"],[0.3333333333333333,\"#9c179e\"],[0.4444444444444444,\"#bd3786\"],[0.5555555555555556,\"#d8576b\"],[0.6666666666666666,\"#ed7953\"],[0.7777777777777778,\"#fb9f3a\"],[0.8888888888888888,\"#fdca26\"],[1.0,\"#f0f921\"]],\"type\":\"histogram2d\"}],\"histogram2dcontour\":[{\"colorbar\":{\"outlinewidth\":0,\"ticks\":\"\"},\"colorscale\":[[0.0,\"#0d0887\"],[0.1111111111111111,\"#46039f\"],[0.2222222222222222,\"#7201a8\"],[0.3333333333333333,\"#9c179e\"],[0.4444444444444444,\"#bd3786\"],[0.5555555555555556,\"#d8576b\"],[0.6666666666666666,\"#ed7953\"],[0.7777777777777778,\"#fb9f3a\"],[0.8888888888888888,\"#fdca26\"],[1.0,\"#f0f921\"]],\"type\":\"histogram2dcontour\"}],\"mesh3d\":[{\"colorbar\":{\"outlinewidth\":0,\"ticks\":\"\"},\"type\":\"mesh3d\"}],\"parcoords\":[{\"line\":{\"colorbar\":{\"outlinewidth\":0,\"ticks\":\"\"}},\"type\":\"parcoords\"}],\"pie\":[{\"automargin\":true,\"type\":\"pie\"}],\"scatter\":[{\"marker\":{\"colorbar\":{\"outlinewidth\":0,\"ticks\":\"\"}},\"type\":\"scatter\"}],\"scatter3d\":[{\"line\":{\"colorbar\":{\"outlinewidth\":0,\"ticks\":\"\"}},\"marker\":{\"colorbar\":{\"outlinewidth\":0,\"ticks\":\"\"}},\"type\":\"scatter3d\"}],\"scattercarpet\":[{\"marker\":{\"colorbar\":{\"outlinewidth\":0,\"ticks\":\"\"}},\"type\":\"scattercarpet\"}],\"scattergeo\":[{\"marker\":{\"colorbar\":{\"outlinewidth\":0,\"ticks\":\"\"}},\"type\":\"scattergeo\"}],\"scattergl\":[{\"marker\":{\"colorbar\":{\"outlinewidth\":0,\"ticks\":\"\"}},\"type\":\"scattergl\"}],\"scattermapbox\":[{\"marker\":{\"colorbar\":{\"outlinewidth\":0,\"ticks\":\"\"}},\"type\":\"scattermapbox\"}],\"scatterpolar\":[{\"marker\":{\"colorbar\":{\"outlinewidth\":0,\"ticks\":\"\"}},\"type\":\"scatterpolar\"}],\"scatterpolargl\":[{\"marker\":{\"colorbar\":{\"outlinewidth\":0,\"ticks\":\"\"}},\"type\":\"scatterpolargl\"}],\"scatterternary\":[{\"marker\":{\"colorbar\":{\"outlinewidth\":0,\"ticks\":\"\"}},\"type\":\"scatterternary\"}],\"surface\":[{\"colorbar\":{\"outlinewidth\":0,\"ticks\":\"\"},\"colorscale\":[[0.0,\"#0d0887\"],[0.1111111111111111,\"#46039f\"],[0.2222222222222222,\"#7201a8\"],[0.3333333333333333,\"#9c179e\"],[0.4444444444444444,\"#bd3786\"],[0.5555555555555556,\"#d8576b\"],[0.6666666666666666,\"#ed7953\"],[0.7777777777777778,\"#fb9f3a\"],[0.8888888888888888,\"#fdca26\"],[1.0,\"#f0f921\"]],\"type\":\"surface\"}],\"table\":[{\"cells\":{\"fill\":{\"color\":\"#EBF0F8\"},\"line\":{\"color\":\"white\"}},\"header\":{\"fill\":{\"color\":\"#C8D4E3\"},\"line\":{\"color\":\"white\"}},\"type\":\"table\"}]},\"layout\":{\"annotationdefaults\":{\"arrowcolor\":\"#2a3f5f\",\"arrowhead\":0,\"arrowwidth\":1},\"autotypenumbers\":\"strict\",\"coloraxis\":{\"colorbar\":{\"outlinewidth\":0,\"ticks\":\"\"}},\"colorscale\":{\"diverging\":[[0,\"#8e0152\"],[0.1,\"#c51b7d\"],[0.2,\"#de77ae\"],[0.3,\"#f1b6da\"],[0.4,\"#fde0ef\"],[0.5,\"#f7f7f7\"],[0.6,\"#e6f5d0\"],[0.7,\"#b8e186\"],[0.8,\"#7fbc41\"],[0.9,\"#4d9221\"],[1,\"#276419\"]],\"sequential\":[[0.0,\"#0d0887\"],[0.1111111111111111,\"#46039f\"],[0.2222222222222222,\"#7201a8\"],[0.3333333333333333,\"#9c179e\"],[0.4444444444444444,\"#bd3786\"],[0.5555555555555556,\"#d8576b\"],[0.6666666666666666,\"#ed7953\"],[0.7777777777777778,\"#fb9f3a\"],[0.8888888888888888,\"#fdca26\"],[1.0,\"#f0f921\"]],\"sequentialminus\":[[0.0,\"#0d0887\"],[0.1111111111111111,\"#46039f\"],[0.2222222222222222,\"#7201a8\"],[0.3333333333333333,\"#9c179e\"],[0.4444444444444444,\"#bd3786\"],[0.5555555555555556,\"#d8576b\"],[0.6666666666666666,\"#ed7953\"],[0.7777777777777778,\"#fb9f3a\"],[0.8888888888888888,\"#fdca26\"],[1.0,\"#f0f921\"]]},\"colorway\":[\"#636efa\",\"#EF553B\",\"#00cc96\",\"#ab63fa\",\"#FFA15A\",\"#19d3f3\",\"#FF6692\",\"#B6E880\",\"#FF97FF\",\"#FECB52\"],\"font\":{\"color\":\"#2a3f5f\"},\"geo\":{\"bgcolor\":\"white\",\"lakecolor\":\"white\",\"landcolor\":\"#E5ECF6\",\"showlakes\":true,\"showland\":true,\"subunitcolor\":\"white\"},\"hoverlabel\":{\"align\":\"left\"},\"hovermode\":\"closest\",\"mapbox\":{\"style\":\"light\"},\"paper_bgcolor\":\"white\",\"plot_bgcolor\":\"#E5ECF6\",\"polar\":{\"angularaxis\":{\"gridcolor\":\"white\",\"linecolor\":\"white\",\"ticks\":\"\"},\"bgcolor\":\"#E5ECF6\",\"radialaxis\":{\"gridcolor\":\"white\",\"linecolor\":\"white\",\"ticks\":\"\"}},\"scene\":{\"xaxis\":{\"backgroundcolor\":\"#E5ECF6\",\"gridcolor\":\"white\",\"gridwidth\":2,\"linecolor\":\"white\",\"showbackground\":true,\"ticks\":\"\",\"zerolinecolor\":\"white\"},\"yaxis\":{\"backgroundcolor\":\"#E5ECF6\",\"gridcolor\":\"white\",\"gridwidth\":2,\"linecolor\":\"white\",\"showbackground\":true,\"ticks\":\"\",\"zerolinecolor\":\"white\"},\"zaxis\":{\"backgroundcolor\":\"#E5ECF6\",\"gridcolor\":\"white\",\"gridwidth\":2,\"linecolor\":\"white\",\"showbackground\":true,\"ticks\":\"\",\"zerolinecolor\":\"white\"}},\"shapedefaults\":{\"line\":{\"color\":\"#2a3f5f\"}},\"ternary\":{\"aaxis\":{\"gridcolor\":\"white\",\"linecolor\":\"white\",\"ticks\":\"\"},\"baxis\":{\"gridcolor\":\"white\",\"linecolor\":\"white\",\"ticks\":\"\"},\"bgcolor\":\"#E5ECF6\",\"caxis\":{\"gridcolor\":\"white\",\"linecolor\":\"white\",\"ticks\":\"\"}},\"title\":{\"x\":0.05},\"xaxis\":{\"automargin\":true,\"gridcolor\":\"white\",\"linecolor\":\"white\",\"ticks\":\"\",\"title\":{\"standoff\":15},\"zerolinecolor\":\"white\",\"zerolinewidth\":2},\"yaxis\":{\"automargin\":true,\"gridcolor\":\"white\",\"linecolor\":\"white\",\"ticks\":\"\",\"title\":{\"standoff\":15},\"zerolinecolor\":\"white\",\"zerolinewidth\":2}}},\"xaxis\":{\"anchor\":\"y\",\"domain\":[0.0,1.0],\"title\":{\"text\":\"Tempo_de_Contrato\"}},\"yaxis\":{\"anchor\":\"x\",\"domain\":[0.0,1.0]},\"legend\":{\"title\":{\"text\":\"Churn\"},\"tracegroupgap\":0},\"margin\":{\"t\":60},\"boxmode\":\"group\"},                        {\"responsive\": true}                    ).then(function(){\n",
              "                            \n",
              "var gd = document.getElementById('baa1bc2b-4ad3-4eda-8045-bf28b23456eb');\n",
              "var x = new MutationObserver(function (mutations, observer) {{\n",
              "        var display = window.getComputedStyle(gd).display;\n",
              "        if (!display || display === 'none') {{\n",
              "            console.log([gd, 'removed!']);\n",
              "            Plotly.purge(gd);\n",
              "            observer.disconnect();\n",
              "        }}\n",
              "}});\n",
              "\n",
              "// Listen for the removal of the full notebook cells\n",
              "var notebookContainer = gd.closest('#notebook-container');\n",
              "if (notebookContainer) {{\n",
              "    x.observe(notebookContainer, {childList: true});\n",
              "}}\n",
              "\n",
              "// Listen for the clearing of the current output cell\n",
              "var outputEl = gd.closest('.output');\n",
              "if (outputEl) {{\n",
              "    x.observe(outputEl, {childList: true});\n",
              "}}\n",
              "\n",
              "                        })                };                            </script>        </div>\n",
              "</body>\n",
              "</html>"
            ]
          },
          "metadata": {}
        },
        {
          "output_type": "display_data",
          "data": {
            "text/html": [
              "<html>\n",
              "<head><meta charset=\"utf-8\" /></head>\n",
              "<body>\n",
              "    <div>            <script src=\"https://cdnjs.cloudflare.com/ajax/libs/mathjax/2.7.5/MathJax.js?config=TeX-AMS-MML_SVG\"></script><script type=\"text/javascript\">if (window.MathJax) {MathJax.Hub.Config({SVG: {font: \"STIX-Web\"}});}</script>                <script type=\"text/javascript\">window.PlotlyConfig = {MathJaxConfig: 'local'};</script>\n",
              "        <script src=\"https://cdn.plot.ly/plotly-2.8.3.min.js\"></script>                <div id=\"8cf1c45c-5124-4c12-9f54-739ccf6fed07\" class=\"plotly-graph-div\" style=\"height:525px; width:100%;\"></div>            <script type=\"text/javascript\">                                    window.PLOTLYENV=window.PLOTLYENV || {};                                    if (document.getElementById(\"8cf1c45c-5124-4c12-9f54-739ccf6fed07\")) {                    Plotly.newPlot(                        \"8cf1c45c-5124-4c12-9f54-739ccf6fed07\",                        [{\"alignmentgroup\":\"True\",\"hovertemplate\":\"Churn=N\\u00e3o<br>Cobran\\u00e7a_Mensal=%{x}<extra></extra>\",\"legendgroup\":\"N\\u00e3o\",\"marker\":{\"color\":\"#636efa\"},\"name\":\"N\\u00e3o\",\"notched\":false,\"offsetgroup\":\"N\\u00e3o\",\"orientation\":\"h\",\"showlegend\":true,\"x\":[65.6,59.9,69.4,109.7,84.65,48.2,90.45,45.2,116.8,68.95,101.3,45.05,95.75,61.25,72.1,25.2,83.75,19.85,103.7,20.4,19.6,19.7,91.2,20.45,115.8,20.55,39.4,25.1,89.8,94.75,20.3,75.75,78.2,25.5,61.6,45.0,85.15,51.45,99.25,44.3,94.2,81.25,99.95,91.55,50.35,64.5,19.4,104.8,109.4,50.3,71.4,116.0,93.95,90.8,58.25,107.55,19.95,85.8,35.4,88.1,45.8,94.65,20.5,89.4,74.85,109.95,90.35,86.45,20.3,101.25,114.9,19.55,86.85,25.35,109.9,19.95,87.2,108.15,116.3,89.0,74.4,20.05,35.05,74.75,75.2,84.45,102.4,19.25,114.65,19.4,50.35,57.8,84.3,100.55,19.8,19.95,75.35,48.8,20.15,44.3,84.3,59.55,69.65,36.1,56.6,79.2,45.0,109.65,89.7,84.25,92.65,19.7,50.1,92.45,79.65,109.9,81.4,50.55,62.45,90.4,70.5,20.1,100.7,105.65,114.3,24.35,69.85,58.85,54.4,50.55,19.95,29.3,54.75,60.55,86.2,63.95,65.35,50.2,63.8,20.05,65.0,19.25,36.05,19.05,105.75,40.4,84.8,19.85,49.45,55.15,84.8,20.15,58.7,99.5,26.4,97.65,100.0,102.5,66.05,61.2,74.4,39.6,108.9,19.9,19.6,45.9,99.9,20.05,64.35,19.65,86.85,102.55,78.2,91.2,19.35,70.4,39.55,50.15,20.4,44.6,93.6,57.95,112.1,81.35,99.85,20.0,85.35,62.05,64.4,19.4,105.0,25.15,19.3,55.3,95.4,20.5,105.55,24.45,19.7,110.65,83.85,60.25,59.2,85.3,99.75,66.1,20.55,98.85,49.2,19.5,87.0,49.0,90.7,100.5,85.25,74.7,60.15,80.55,50.15,94.45,20.05,115.6,99.65,80.6,85.25,69.55,35.4,83.5,25.6,20.75,56.75,20.1,98.8,104.85,105.45,96.8,24.25,102.15,64.85,25.25,24.75,19.65,74.45,99.4,19.15,49.45,73.7,74.4,19.8,20.2,71.65,20.1,100.5,62.8,100.35,20.3,92.05,20.35,50.5,42.1,114.6,65.7,74.0,71.1,109.55,20.5,74.55,79.85,62.15,21.05,79.6,73.35,70.1,54.4,19.55,74.55,23.9,44.6,95.5,104.5,61.4,43.95,80.55,99.65,97.95,90.7,101.6,72.75,88.95,20.3,78.35,80.0,19.85,91.8,69.8,69.75,69.85,25.45,75.95,78.75,19.8,19.2,111.9,81.9,18.85,18.7,81.55,29.6,19.95,93.55,48.45,20.2,24.15,70.75,21.0,82.3,70.65,73.55,70.75,48.95,60.6,78.75,19.0,56.25,99.4,85.2,69.55,28.5,97.65,20.25,20.45,93.5,54.65,71.9,116.4,105.55,75.5,86.05,85.8,19.65,105.95,54.15,58.75,95.4,68.25,20.25,75.5,65.85,65.0,93.75,100.4,85.25,34.2,89.65,97.65,90.3,94.3,20.4,25.05,70.7,53.8,99.15,69.75,56.15,86.65,86.8,45.3,91.25,20.75,19.9,33.7,63.35,65.7,74.6,112.95,65.15,59.7,20.65,23.75,19.9,108.1,20.6,19.55,80.15,20.3,109.9,90.4,25.4,46.3,25.2,24.45,78.4,74.0,30.15,77.8,99.0,20.75,75.5,66.7,83.85,96.75,19.1,18.55,20.1,89.4,19.8,21.05,111.25,89.9,19.4,86.95,75.35,44.95,20.0,48.4,94.65,58.95,100.3,105.6,19.55,60.9,20.05,103.75,113.35,75.15,104.05,85.7,20.05,69.1,65.75,86.4,69.4,93.45,64.9,19.45,44.55,96.5,100.85,105.35,20.1,20.2,115.15,113.0,29.8,80.8,85.5,69.9,95.8,83.05,89.45,19.55,29.9,80.5,50.15,89.6,76.35,100.05,20.25,20.65,53.45,80.8,92.95,85.3,30.1,35.5,94.1,19.65,69.9,99.0,104.1,109.2,20.3,20.0,19.8,19.65,24.25,70.65,90.1,29.2,39.0,50.35,50.85,51.45,80.85,54.2,60.65,48.8,45.75,94.8,100.8,19.45,19.05,69.7,106.05,90.55,24.85,74.35,89.1,69.05,80.45,101.5,78.45,103.5,79.05,20.6,54.75,113.15,21.05,70.55,19.55,35.65,19.6,19.5,19.9,108.65,19.65,105.4,109.6,92.15,19.85,19.9,25.7,108.25,20.35,71.05,30.75,25.65,85.5,20.35,20.4,75.85,80.0,54.55,19.7,105.5,105.1,99.8,25.1,19.55,51.0,101.05,74.25,54.55,19.4,19.25,54.4,20.35,49.8,51.1,64.4,105.8,19.6,108.25,100.45,39.4,77.55,53.65,43.8,24.6,23.95,98.45,20.1,53.8,111.45,19.85,84.15,70.25,53.35,24.8,87.55,94.15,39.1,70.6,19.75,20.4,109.75,74.55,109.3,19.55,20.05,106.65,88.8,85.4,25.4,69.7,90.15,89.2,90.45,64.15,20.25,19.45,60.0,89.4,62.15,95.0,19.65,74.45,85.2,54.2,80.3,23.05,49.6,56.4,86.05,20.55,89.9,48.25,108.45,75.5,100.55,76.85,65.1,20.4,26.35,20.05,78.75,19.8,91.15,75.3,115.0,65.25,19.15,19.55,26.1,25.45,19.65,20.4,50.2,24.8,80.25,19.45,110.5,34.65,56.3,80.45,66.4,81.3,66.85,20.0,19.7,53.85,19.65,44.05,110.6,20.7,21.1,107.15,84.8,24.7,55.35,19.35,89.95,69.05,70.05,97.85,20.45,89.55,79.35,80.85,50.3,84.6,108.4,110.75,99.35,20.1,25.05,24.75,86.45,101.35,55.25,24.95,20.05,46.4,68.5,19.55,19.35,94.15,80.0,102.45,115.6,71.6,59.75,60.9,19.55,48.8,78.65,98.25,59.65,99.1,30.35,109.7,94.15,56.05,24.35,55.8,48.8,91.0,80.55,20.45,18.95,76.0,72.9,95.85,85.15,29.3,20.75,35.3,19.75,69.35,107.95,20.0,61.5,20.05,20.1,49.9,19.1,110.45,71.35,84.6,105.7,79.25,19.0,98.7,109.3,19.7,35.6,82.1,19.05,67.8,19.2,29.15,103.15,105.2,89.1,106.1,75.1,51.05,49.9,91.6,49.25,59.5,19.95,64.4,19.65,24.4,105.2,93.65,49.95,94.7,68.4,74.9,43.8,116.05,81.6,100.4,93.25,116.85,20.65,78.35,85.7,20.15,19.85,86.75,73.85,81.45,44.55,63.3,40.65,49.7,25.15,49.9,62.1,20.4,98.3,69.35,99.7,99.0,58.5,106.2,104.35,106.4,20.0,20.35,23.9,115.05,25.15,19.8,19.7,63.75,90.05,92.2,97.55,19.95,55.2,105.35,87.3,93.65,19.85,51.1,23.95,81.45,45.0,93.9,20.7,24.95,106.05,19.55,19.4,85.0,50.1,44.05,20.5,25.45,50.95,70.25,20.2,100.4,91.7,109.85,19.9,74.1,88.75,70.95,19.2,100.05,49.0,75.1,108.15,19.8,20.45,69.5,93.4,45.2,19.8,76.6,95.65,25.25,66.8,19.1,66.4,107.75,19.7,61.4,61.35,69.0,24.2,91.3,54.75,19.75,90.35,54.65,20.2,19.3,44.45,94.25,40.25,50.2,79.5,94.75,25.0,19.35,115.85,24.7,75.35,98.85,59.8,89.75,19.9,20.3,20.05,20.8,20.35,50.5,19.95,84.9,25.1,45.45,70.05,71.1,89.85,20.1,24.3,114.65,20.55,106.8,85.45,20.4,61.2,59.65,19.95,54.3,96.4,67.6,19.8,80.45,25.45,48.9,29.15,89.2,24.05,55.65,94.55,19.75,89.1,107.75,50.95,20.25,58.35,19.85,25.05,68.7,109.95,20.85,85.35,50.15,50.3,60.0,20.35,24.8,65.05,50.35,93.8,20.05,20.65,66.8,75.55,74.6,20.5,79.8,20.35,54.6,111.6,43.95,90.6,24.2,58.6,64.35,19.5,66.7,80.4,19.3,44.75,68.6,20.55,50.05,25.25,20.5,61.15,40.3,20.35,95.1,92.85,100.6,20.1,89.7,49.65,110.25,98.2,90.1,44.0,19.65,113.3,90.6,20.1,20.2,100.05,49.9,79.2,95.25,19.7,23.3,90.95,59.8,34.2,25.6,25.15,19.65,58.4,25.05,19.05,70.65,19.15,92.2,107.75,104.7,108.65,19.05,19.35,101.1,20.0,103.1,81.05,102.6,19.0,85.6,58.75,108.75,20.4,103.85,86.05,67.45,55.45,84.2,81.7,100.85,114.45,64.0,55.7,59.45,35.9,26.0,80.55,84.0,51.65,105.75,96.6,19.5,71.0,111.15,20.05,79.35,25.25,35.45,92.7,19.35,49.4,70.9,75.4,104.4,74.95,25.4,20.25,107.95,96.65,20.35,54.7,88.15,78.95,19.35,25.75,73.1,50.75,95.0,104.1,55.55,21.1,20.15,115.55,19.5,75.4,84.35,72.1,84.8,26.2,105.35,85.3,44.8,19.7,89.95,25.25,108.75,35.2,19.3,20.1,63.9,54.9,20.05,65.65,39.35,20.05,92.4,25.6,19.45,105.9,89.85,65.15,69.7,19.95,53.45,58.55,79.95,55.0,78.85,94.45,49.2,73.55,111.95,89.3,59.1,53.0,80.65,60.85,79.65,89.85,90.0,24.55,20.0,24.25,81.95,98.6,25.25,85.3,45.85,85.5,19.4,116.05,85.9,99.15,20.1,19.5,49.3,19.55,24.3,44.45,79.35,103.2,44.4,79.2,20.65,20.4,60.5,81.85,80.1,19.4,80.55,81.05,79.55,90.35,104.0,85.15,46.25,79.15,72.95,66.6,35.5,70.1,24.95,19.35,109.15,94.4,94.0,95.1,110.8,78.5,110.75,49.05,63.1,45.4,19.75,99.2,99.0,48.75,95.65,58.0,99.25,60.3,100.75,70.45,86.8,71.0,20.05,82.15,19.85,76.55,109.05,19.4,55.65,33.15,44.45,19.5,19.3,90.0,111.05,24.55,104.4,74.55,104.05,84.2,25.05,20.05,40.1,50.55,20.3,20.35,24.15,20.5,94.4,61.5,75.2,20.65,94.9,104.25,36.0,70.6,80.4,70.4,113.65,19.9,93.0,20.25,99.15,66.25,91.0,104.35,85.0,94.9,115.15,20.2,95.3,20.1,114.85,69.65,20.0,20.5,90.1,80.05,85.1,50.7,61.9,20.4,19.8,108.4,74.7,19.35,19.75,19.85,54.8,89.6,94.6,39.2,102.6,20.25,56.8,53.8,64.55,101.4,25.7,75.45,72.1,84.75,64.05,75.2,19.75,19.7,19.65,74.3,111.65,73.65,95.0,76.0,44.3,97.8,20.65,44.8,25.0,47.85,79.3,90.65,20.4,73.6,110.8,70.2,86.8,95.7,25.75,24.3,54.9,78.45,54.6,104.35,55.1,20.0,101.0,109.45,64.2,76.1,20.6,103.2,30.2,64.55,24.7,63.7,19.95,84.05,20.7,75.4,53.45,19.5,94.8,105.05,23.3,24.15,21.15,91.05,19.55,73.45,100.1,45.4,61.35,65.5,50.6,70.45,30.4,111.5,20.1,19.75,19.3,20.35,19.7,109.3,44.6,101.4,96.55,43.8,40.25,19.8,49.0,76.1,107.5,19.55,72.75,20.85,101.75,49.65,19.4,111.75,23.65,84.3,46.1,56.45,19.65,20.25,76.15,19.45,108.0,19.9,88.85,76.95,24.8,104.9,98.1,20.45,100.05,81.3,44.75,88.8,110.5,19.9,80.3,99.65,98.9,19.65,89.45,20.3,55.7,66.15,58.2,20.05,33.6,79.55,20.55,108.05,101.45,25.75,79.55,100.9,25.05,105.35,20.75,53.65,25.2,51.65,71.1,25.7,86.1,20.05,19.6,48.95,54.85,56.9,84.2,19.8,109.55,20.5,82.65,20.35,24.0,50.15,56.3,20.15,103.7,74.2,100.15,89.2,43.35,29.1,53.1,111.3,61.9,36.0,58.95,104.95,19.45,110.3,80.35,85.45,20.15,83.4,20.5,19.95,80.3,108.55,69.35,25.3,100.3,74.75,54.95,20.55,19.8,99.75,105.1,25.1,26.8,101.35,88.45,54.55,20.05,20.05,19.4,19.9,19.45,95.05,71.45,95.25,29.8,81.4,45.0,19.8,103.9,45.9,103.65,19.9,45.9,75.35,49.7,68.3,19.4,56.15,73.0,59.55,95.85,19.15,24.7,89.65,19.55,83.65,105.1,85.95,40.9,19.9,102.65,74.2,19.45,75.75,104.9,86.9,45.2,21.3,79.85,19.35,80.8,69.8,101.05,19.55,44.55,84.05,70.4,20.6,24.95,34.85,90.6,80.55,84.75,69.95,83.45,19.7,100.55,68.95,88.7,20.2,104.05,94.65,20.7,59.9,110.1,94.05,103.05,79.2,64.8,33.45,64.15,84.45,20.85,50.9,85.3,85.95,25.95,18.8,51.4,60.5,69.45,78.75,94.7,91.95,90.05,59.05,95.4,19.75,104.9,93.5,74.55,84.7,90.85,69.95,110.05,92.0,86.15,24.9,40.05,71.05,103.95,74.2,95.15,103.65,20.7,20.0,20.65,75.3,33.75,70.8,111.2,75.1,25.0,74.85,20.05,66.15,20.2,19.9,60.65,34.8,81.25,24.6,73.8,58.55,55.25,25.15,69.2,19.9,93.8,55.9,25.85,99.65,20.4,82.3,89.85,19.7,19.75,19.9,29.8,19.65,77.15,92.0,103.1,25.55,79.0,60.95,20.3,74.15,94.75,100.7,107.65,20.0,50.1,19.95,54.3,84.45,55.8,20.25,81.25,25.8,24.05,20.3,52.15,79.15,25.6,80.55,19.55,97.75,98.0,64.4,64.8,93.25,19.6,88.05,24.95,90.05,20.5,19.25,46.3,90.05,65.85,100.15,92.55,53.75,86.45,101.15,104.95,20.15,55.3,19.7,64.2,109.95,19.65,64.95,19.75,51.05,105.65,19.95,20.25,80.7,84.05,20.25,84.6,105.0,105.1,111.25,75.25,70.9,59.45,54.25,98.55,21.0,25.35,93.7,89.1,51.1,69.35,89.0,91.55,79.95,81.0,99.0,70.3,20.05,20.1,110.1,20.2,43.6,24.05,100.3,45.65,29.45,44.7,113.8,116.6,79.75,86.1,25.45,84.7,19.15,56.3,19.6,60.0,45.25,19.45,69.1,19.6,83.7,25.4,25.5,111.4,72.6,34.6,66.1,85.5,34.4,19.3,64.05,19.2,98.85,79.3,50.8,93.5,78.1,19.5,92.0,95.6,96.9,104.65,96.9,94.55,97.25,54.1,20.2,49.55,80.1,99.5,54.1,102.65,19.75,54.25,19.85,105.55,19.95,83.55,85.45,76.1,24.5,21.25,19.2,19.7,106.3,24.85,104.1,18.8,23.85,50.15,94.1,115.15,60.0,89.55,60.5,59.9,63.55,80.75,109.0,20.05,94.4,79.2,74.6,45.25,55.7,103.75,24.85,79.55,71.45,79.45,54.35,19.5,89.1,89.55,77.35,24.4,60.4,76.9,55.5,45.2,19.7,86.05,20.95,94.95,74.6,69.1,20.0,20.3,20.75,24.2,89.75,69.5,92.4,69.1,70.3,45.65,74.0,34.95,25.25,57.5,80.25,54.3,79.7,24.7,19.55,74.1,84.05,60.25,70.5,19.15,70.8,80.45,26.2,19.95,111.3,90.55,70.0,99.95,38.5,109.55,55.3,112.6,26.1,49.7,75.5,19.3,99.3,19.4,52.3,20.65,19.9,70.95,77.75,67.45,85.1,83.6,98.35,19.45,26.9,24.0,30.4,104.8,20.0,74.05,62.65,49.85,45.55,45.9,105.25,84.35,90.95,75.1,49.55,94.7,84.8,18.85,55.05,24.2,110.3,75.9,111.55,74.6,98.9,99.05,44.4,20.35,20.4,20.45,35.1,95.6,104.45,54.25,60.0,50.05,109.2,24.45,109.25,19.35,54.45,49.9,19.95,64.1,101.8,80.85,38.8,20.05,43.8,86.5,59.9,60.6,44.8,19.9,115.1,97.0,20.75,19.7,36.25,88.6,19.2,88.65,113.25,108.1,74.3,20.5,39.7,115.15,20.65,19.85,19.95,19.45,116.6,24.4,63.05,31.2,106.5,38.55,19.65,25.5,82.5,69.7,74.45,65.35,53.65,99.15,85.2,20.55,84.5,78.9,101.15,49.3,20.45,91.7,70.7,19.75,18.95,83.85,19.8,19.6,54.8,20.45,19.55,114.0,20.4,25.7,61.2,110.35,75.35,85.55,51.1,91.25,84.85,35.35,60.95,20.2,54.65,40.05,19.45,20.65,20.45,100.75,107.0,108.8,19.2,109.05,24.85,20.1,90.7,20.2,19.55,20.15,93.2,76.05,68.55,24.6,19.65,106.85,26.05,50.0,116.55,75.55,67.25,86.2,43.95,55.7,18.8,94.75,20.0,44.35,117.6,25.35,24.5,50.95,24.95,19.7,109.5,24.85,35.0,96.35,80.75,19.65,35.5,20.9,66.2,95.65,78.9,105.75,64.65,80.45,106.1,19.65,84.9,113.05,55.5,25.6,71.25,115.25,36.15,25.9,82.85,49.45,40.55,114.05,39.9,53.4,24.7,73.55,97.05,75.7,80.1,41.95,19.4,61.4,70.45,25.55,86.25,71.75,85.7,49.5,50.05,19.75,103.65,39.7,25.7,19.75,84.3,45.1,95.2,54.8,68.75,59.6,95.05,78.8,75.4,80.6,65.2,24.95,44.05,116.45,75.05,92.3,24.9,76.4,65.25,19.2,19.9,19.3,20.6,20.15,20.85,19.7,85.75,20.35,19.4,75.6,60.85,19.8,49.75,78.95,91.55,81.75,61.55,64.0,86.7,96.85,106.6,50.35,61.35,44.95,20.8,108.9,20.15,24.1,19.85,50.4,94.25,50.25,70.3,35.4,49.8,105.25,99.0,20.25,107.45,82.5,78.55,96.2,45.45,103.05,20.95,49.5,70.4,94.6,51.05,93.5,73.35,87.55,20.0,74.85,65.55,76.2,95.0,60.8,19.7,74.95,78.75,20.65,103.8,84.65,65.65,53.6,51.6,59.55,68.75,75.55,89.15,35.75,24.1,110.8,106.8,24.5,88.05,75.85,99.7,104.0,50.55,100.85,39.9,60.9,76.25,90.75,89.7,81.0,64.45,44.45,44.6,97.45,19.1,25.6,24.45,109.55,25.1,34.0,88.0,19.8,90.05,91.35,70.7,103.05,70.35,51.55,105.4,24.75,60.0,96.65,25.25,24.45,33.6,102.9,20.25,25.7,106.35,64.85,49.95,66.65,73.0,25.65,19.2,79.95,24.5,20.0,82.15,102.05,93.25,66.25,51.0,45.0,89.35,88.9,19.95,81.0,54.75,24.85,117.2,64.95,19.85,39.1,69.55,82.3,20.05,79.4,72.6,103.45,19.55,81.15,75.4,20.55,114.9,75.15,35.75,29.8,19.35,49.85,25.4,50.3,19.8,54.85,20.0,105.55,55.8,55.55,59.3,108.2,94.3,64.95,25.8,19.75,54.6,69.7,74.35,108.95,49.85,88.9,20.05,75.6,36.65,20.15,19.55,100.2,24.9,25.75,75.75,44.75,116.25,114.05,90.8,20.5,105.25,65.0,54.9,105.5,94.95,114.75,20.25,106.05,85.55,19.85,20.15,89.8,24.8,79.2,61.8,99.35,50.15,90.25,19.35,49.15,25.45,75.7,36.25,24.75,60.15,99.3,71.3,74.35,50.65,19.5,43.9,19.6,101.15,49.6,25.0,44.5,89.8,77.8,60.0,48.65,52.55,98.15,19.2,110.55,104.8,74.05,69.7,56.15,20.4,19.6,103.95,57.65,59.7,69.1,35.75,59.45,75.5,80.7,20.25,25.95,88.85,54.8,80.45,44.65,105.85,24.6,76.15,88.4,19.05,95.15,25.15,85.05,20.25,45.55,24.95,43.45,74.75,59.45,57.95,101.35,19.75,82.65,68.7,58.9,24.65,96.55,109.1,63.25,20.4,43.75,19.35,68.75,49.15,91.55,24.7,24.25,53.6,44.65,19.9,50.05,81.45,66.5,20.1,110.8,91.0,88.95,20.45,20.4,26.25,78.65,110.25,19.95,62.85,88.4,20.35,18.95,88.85,61.0,19.95,19.3,19.5,70.35,81.25,95.95,45.5,73.9,24.45,97.0,40.2,74.8,23.95,96.35,87.9,20.05,59.55,74.85,109.75,79.85,67.25,87.6,89.9,101.9,46.2,55.6,70.95,107.6,86.9,19.8,98.7,99.85,95.55,79.2,19.55,19.95,20.2,19.6,75.9,89.75,49.35,19.6,45.2,25.85,25.6,20.0,64.4,33.6,20.0,99.7,107.05,20.0,79.6,35.8,91.95,19.65,86.65,95.4,70.35,55.55,60.7,20.25,20.15,72.1,79.8,80.15,95.4,19.3,79.0,75.65,19.6,75.4,105.7,80.1,94.1,82.05,19.45,74.75,19.05,30.25,110.1,23.55,20.15,82.7,24.4,20.05,19.8,65.1,20.25,29.6,19.45,20.8,20.2,113.65,20.65,62.15,89.9,90.25,25.15,19.3,104.9,103.4,19.85,25.15,89.6,20.1,103.75,81.7,20.25,43.7,72.1,74.8,83.3,110.6,51.8,79.95,112.4,24.1,103.15,83.85,49.8,25.0,41.9,100.15,104.75,89.35,73.25,85.05,89.15,73.85,59.5,55.5,73.75,20.0,116.25,80.9,47.6,64.65,75.75,20.7,92.15,19.6,34.55,25.25,20.45,101.3,87.1,71.5,61.45,19.35,25.45,80.2,70.9,70.7,89.85,109.7,84.6,68.95,90.45,73.5,65.8,49.2,91.45,56.25,95.5,71.95,19.1,20.65,19.9,99.9,59.45,37.7,66.15,59.55,97.7,74.9,49.2,26.25,20.0,20.35,65.6,64.4,19.85,63.7,84.4,74.65,34.3,24.15,20.85,65.2,69.6,102.7,20.0,25.1,95.9,20.75,55.3,84.3,76.1,100.45,29.45,93.85,20.35,84.2,20.7,54.2,54.35,19.95,96.1,84.25,19.4,85.6,24.5,66.3,84.85,75.85,81.3,18.9,110.05,70.7,84.1,75.9,106.8,113.65,20.2,75.55,69.2,25.5,45.0,75.0,106.7,105.05,106.0,20.35,83.55,61.4,53.65,19.75,19.9,20.25,54.2,108.45,50.3,80.05,104.65,24.45,83.4,64.9,55.35,20.65,100.05,91.15,56.35,19.65,56.8,53.6,67.2,25.6,84.3,89.9,105.1,95.0,70.1,75.7,75.3,20.45,40.6,46.0,65.2,86.45,105.5,72.0,90.4,45.8,29.35,114.5,50.65,89.4,71.05,109.15,93.0,19.95,94.75,75.1,19.95,19.7,74.35,92.9,95.15,104.55,94.85,98.05,55.05,110.2,85.35,49.9,29.65,20.9,44.6,106.35,94.3,108.5,94.75,35.8,19.85,65.55,108.95,64.2,19.95,105.4,78.85,75.15,20.55,66.9,20.3,61.3,112.75,95.1,69.5,19.25,74.0,104.75,96.75,60.05,83.3,94.45,25.25,90.65,89.7,34.05,24.8,74.3,85.9,64.35,87.2,55.5,80.6,48.75,67.95,91.0,20.3,90.8,24.7,84.85,24.0,91.05,19.0,100.3,85.75,46.35,98.8,19.85,74.45,74.95,59.65,87.55,20.35,79.85,35.45,90.35,90.15,90.25,24.8,54.6,20.25,20.85,97.95,73.15,79.15,94.3,64.8,100.65,105.6,104.8,78.5,87.8,97.75,20.1,24.55,81.15,101.4,95.5,111.65,55.8,48.7,62.8,19.95,50.95,92.85,19.65,98.05,24.6,51.0,61.35,79.15,75.8,79.85,114.6,25.75,20.85,90.55,96.9,73.45,77.35,99.05,25.1,94.1,107.45,44.85,61.45,90.65,105.5,80.2,20.25,19.4,89.55,25.05,24.2,56.05,64.6,24.45,105.15,65.65,45.85,50.3,104.5,83.4,20.75,114.35,104.45,91.05,20.05,95.1,50.9,19.8,45.55,63.85,45.05,76.3,80.6,19.7,50.9,70.95,74.65,55.3,51.35,74.6,24.55,90.45,77.9,54.2,59.65,89.15,86.0,59.8,94.55,105.2,70.35,24.25,19.7,94.3,49.8,65.2,53.45,100.3,75.9,24.45,115.75,80.5,101.1,64.45,80.65,94.3,19.3,19.6,19.95,38.9,95.7,20.1,60.9,21.0,107.05,93.2,85.9,82.0,19.7,49.4,66.05,55.25,90.25,20.15,24.9,111.15,54.75,20.15,44.0,85.9,74.75,70.5,20.15,44.4,30.2,19.25,25.7,54.7,20.75,69.9,56.4,20.45,19.95,24.95,104.9,24.8,19.65,20.35,80.65,20.3,65.45,105.7,109.2,56.95,89.15,99.25,54.05,54.65,83.15,25.45,80.35,69.95,49.5,19.3,69.85,25.0,78.15,84.35,64.9,53.1,19.95,25.4,19.5,89.1,20.1,84.1,101.55,64.5,106.35,52.1,40.35,84.3,19.85,105.9,19.7,99.0,81.15,46.0,86.2,49.85,86.1,75.75,19.85,48.15,98.35,89.55,25.1,106.1,75.65,100.65,73.35,104.1,82.45,91.25,90.35,86.75,90.7,99.65,103.15,19.45,70.1,35.9,24.65,35.4,24.0,82.9,50.55,82.55,19.6,69.7,80.85,91.65,20.15,99.05,104.15,55.35,19.85,90.8,19.7,33.45,104.45,118.6,79.45,97.55,25.55,81.0,59.9,64.9,64.05,78.95,107.95,69.75,58.75,84.45,20.35,20.45,50.25,20.15,59.5,49.4,100.65,73.5,19.3,84.75,24.6,68.75,59.85,21.0,59.1,110.8,19.5,104.4,67.8,106.05,19.75,20.55,101.25,64.15,80.4,100.3,51.3,68.45,19.9,64.4,96.95,89.1,68.75,60.2,75.35,58.85,74.55,68.25,50.0,58.45,20.1,24.45,70.85,88.6,20.3,20.05,20.05,20.2,25.4,106.65,89.2,20.5,44.45,19.15,60.75,18.85,20.25,19.8,44.45,20.05,88.05,75.25,34.25,25.1,89.85,94.35,19.75,81.8,70.05,105.6,89.3,94.5,20.15,19.5,75.0,90.15,19.3,115.8,79.15,71.8,69.0,19.35,19.8,20.55,20.05,73.55,72.8,20.25,76.25,81.5,84.75,75.3,94.2,96.5,26.3,56.1,54.9,109.6,105.35,49.25,73.05,84.3,66.4,107.5,20.95,104.35,29.75,19.35,105.25,108.5,24.55,46.6,89.7,19.95,87.35,63.7,92.55,87.1,108.35,95.15,91.1,26.5,105.0,74.75,19.35,118.6,57.6,86.25,20.05,61.15,25.3,104.45,19.8,20.45,69.9,98.15,89.05,94.35,29.9,20.15,115.8,55.45,25.15,81.0,20.65,19.15,29.05,61.45,25.2,25.65,110.85,75.65,54.65,97.2,19.6,19.6,59.8,19.75,56.55,105.4,105.35,106.5,19.15,19.85,70.2,19.9,57.2,52.85,111.05,20.25,49.75,95.1,70.15,70.45,24.75,81.2,19.25,19.65,68.15,98.85,79.2,54.45,24.9,20.05,80.7,99.5,56.25,19.3,39.5,65.5,100.45,38.25,79.95,83.0,35.75,90.15,19.75,45.85,53.95,44.85,59.6,20.2,20.3,35.2,23.4,53.65,44.8,94.05,20.05,45.8,44.15,20.05,58.25,87.15,25.35,85.45,53.95,19.85,64.7,111.35,74.3,20.5,66.25,94.65,30.75,78.75,97.95,55.5,24.3,24.75,19.6,46.3,20.25,81.15,54.65,99.35,109.8,92.6,75.6,26.1,100.25,76.0,19.9,63.9,43.85,99.7,95.7,99.7,19.6,75.4,59.45,20.65,99.5,79.7,52.0,20.5,89.3,95.9,99.9,96.6,95.1,94.95,44.95,95.2,20.4,80.6,84.4,68.1,71.1,64.75,104.15,50.8,23.5,90.8,81.1,62.8,19.7,54.75,20.4,95.75,89.85,90.05,20.25,49.05,76.9,98.0,25.55,19.95,25.55,69.95,79.1,24.9,109.65,58.2,110.5,93.35,55.25,109.25,19.7,59.6,94.8,69.35,110.0,31.65,78.9,86.4,73.8,20.55,104.3,81.15,24.9,19.9,25.05,55.45,19.85,94.75,41.35,88.8,104.1,80.5,73.55,108.3,87.25,63.15,68.15,19.5,89.05,25.3,64.25,65.65,104.1,19.95,106.15,20.2,99.1,73.0,56.15,20.7,55.3,61.05,24.95,83.8,104.55,89.4,55.65,79.5,83.25,81.0,20.75,82.85,19.25,78.6,69.6,53.7,82.75,92.7,84.1,68.95,80.7,64.5,114.7,20.95,25.0,80.7,54.95,87.95,100.5,69.85,25.25,106.6,20.2,20.15,84.9,54.25,20.5,76.5,70.5,19.9,19.45,85.3,112.2,100.55,36.1,51.3,24.55,26.0,90.7,20.65,80.0,50.7,101.35,59.45,58.6,63.4,19.55,66.4,90.45,18.8,26.45,24.8,81.0,25.25,19.4,45.4,108.3,54.95,94.55,20.8,50.75,38.9,79.0,25.0,57.75,23.95,60.8,30.85,21.25,80.9,20.05,24.9,76.05,69.65,98.65,97.95,85.7,20.6,95.2,19.1,74.8,79.15,69.5,54.6,93.4,20.4,45.3,19.55,94.65,108.1,56.2,20.35,76.95,55.2,106.65,43.05,74.65,55.0,104.4,61.05,25.1,109.2,69.45,58.65,25.0,104.3,81.85,20.85,60.45,60.6,20.0,20.35,29.45,20.75,65.55,51.25,99.45,50.95,83.25,85.45,83.2,96.6,30.5,97.1,78.85,110.45,20.15,117.15,43.85,26.3,64.9,19.9,114.35,83.55,30.55,29.5,75.25,89.35,79.2,20.35,25.2,59.5,51.25,70.8,20.95,109.8,84.95,69.95,55.6,101.3,86.45,60.4,20.5,20.4,51.35,88.7,45.9,50.0,70.05,114.1,29.75,64.85,97.0,85.3,45.25,108.1,20.05,89.45,85.9,81.95,56.15,104.15,96.0,20.95,19.45,80.7,94.9,85.95,108.95,20.0,105.05,105.3,19.85,23.55,84.8,54.0,90.5,80.3,25.1,91.5,19.7,103.65,54.5,80.9,25.35,19.4,59.75,26.0,103.2,25.25,20.4,35.65,74.8,50.6,59.0,55.8,80.85,49.4,25.55,90.7,104.6,19.5,104.85,39.65,24.65,25.0,107.25,44.9,91.1,97.05,18.25,66.15,21.05,94.0,19.6,105.0,20.3,95.1,84.8,50.2,100.4,19.45,75.2,100.8,65.5,20.55,74.9,24.65,113.1,55.05,74.05,96.1,55.3,52.5,79.6,20.45,76.1,58.35,67.45,97.0,19.4,85.75,50.7,69.5,105.25,20.9,90.1,73.85,68.05,89.65,53.75,79.3,89.45,84.95,117.35,89.6,34.3,54.3,90.65,84.85,26.0,33.6,89.75,80.2,114.95,55.7,21.2,20.9,80.45,20.55,25.1,19.7,56.05,59.95,48.95,58.95,20.55,79.95,80.35,72.95,44.35,75.95,20.45,88.55,24.05,40.2,101.9,81.55,45.0,56.35,90.1,20.0,19.7,25.2,19.2,20.85,20.2,54.3,79.3,92.9,98.7,69.0,110.6,112.55,106.15,55.9,54.25,85.45,102.1,99.4,25.3,50.55,19.1,24.1,20.45,95.7,80.75,24.25,90.1,115.1,20.1,59.8,78.3,75.5,49.65,89.55,59.6,19.7,44.1,110.9,89.25,64.65,20.2,104.0,66.4,85.4,40.2,70.2,103.15,20.0,106.4,79.85,65.3,50.85,55.8,111.95,19.55,99.0,20.05,78.1,20.35,40.6,35.0,74.15,35.15,95.0,20.25,74.55,24.4,38.1,20.05,20.05,26.45,71.9,83.7,48.6,99.4,73.7,64.85,60.7,25.75,71.7,89.25,45.45,47.05,65.85,19.85,24.65,95.0,78.9,72.8,53.8,78.95,80.05,54.55,111.45,59.85,108.1,102.85,71.35,20.15,69.5,60.5,20.45,62.25,105.3,70.35,79.4,59.3,85.1,19.75,69.15,93.15,23.85,71.6,78.65,89.55,19.8,19.2,68.4,78.5,76.15,49.85,114.95,103.85,101.15,65.25,95.5,19.3,54.3,19.55,69.2,104.95,20.6,70.2,104.3,19.5,70.3,20.85,94.8,25.75,59.1,102.4,34.0,84.0,19.0,87.65,19.55,20.9,20.45,44.45,111.5,69.85,54.5,77.4,103.75,89.2,45.15,112.25,20.45,20.1,93.9,20.45,45.05,94.45,100.2,43.7,20.0,89.05,80.5,19.9,50.95,53.3,78.85,19.65,19.25,70.2,19.85,19.4,84.4,86.6,19.15,20.7,59.75,20.2,19.55,49.75,100.75,59.25,64.3,19.6,20.5,70.35,40.55,93.05,40.3,69.8,20.1,19.5,80.85,19.5,45.05,50.7,34.2,23.6,83.25,65.6,64.95,50.95,20.25,75.85,23.9,80.0,114.45,64.45,79.75,24.4,18.8,95.5,100.2,55.2,30.25,100.65,70.15,55.0,45.25,90.55,84.8,94.9,66.75,91.3,74.8,93.6,91.15,57.55,20.6,89.8,111.8,79.85,19.6,29.25,93.35,103.5,95.9,80.95,19.65,90.95,20.6,80.55,49.8,73.85,109.75,19.85,60.25,90.4,25.45,69.95,86.1,20.05,70.35,18.95,61.1,72.9,24.15,86.7,18.8,26.0,92.95,38.55,20.55,73.8,51.55,69.1,24.05,89.85,69.75,86.4,56.25,89.0,20.3,105.05,84.6,110.5,67.45,44.8,19.95,74.1,19.65,25.15,89.85,20.05,109.4,25.15,20.05,105.05,108.25,19.55,45.65,25.7,20.8,79.6,19.95,70.15,79.05,110.15,79.85,118.75,84.7,104.05,74.7,110.2,89.25,91.25,70.15,84.9,100.75,29.85,69.15,50.6,20.25,85.15,59.6,48.7,24.0,19.6,19.55,19.6,110.45,49.85,50.25,19.8,95.0,24.4,19.55,87.1,26.35,75.0,19.45,74.1,85.9,85.65,30.1,19.7,95.65,59.1,20.05,59.75,20.05,38.5,29.35,44.1,19.9,79.75,79.25,100.55,19.35,19.85,20.35,19.5,80.1,84.25,86.55,87.7,113.75,103.95,100.55,40.65,20.35,92.55,56.3,61.05,55.7,20.15,78.55,79.95,19.9,89.85,24.3,54.5,73.05,65.0,89.95,72.95,20.5,78.0,19.8,20.0,20.45,19.7,61.9,93.3,24.7,84.9,100.5,20.55,68.6,106.4,19.65,105.2,60.95,19.5,44.5,19.75,98.65,55.0,113.6,30.05,48.8,35.75,55.85,101.3,60.65,64.2,45.35,40.55,19.7,20.85,95.1,60.95,63.8,56.75,81.5,20.1,75.15,60.35,65.2,19.3,20.15,94.2,105.2,50.75,42.3,66.05,69.65,68.35,25.7,48.7,74.15,84.05,20.0,49.7,20.35,96.6,20.3,20.2,40.55,20.4,90.45,107.7,74.5,80.65,96.55,76.4,78.8,59.8,53.75,19.65,75.0,93.8,29.05,19.75,68.65,98.7,86.55,64.45,74.5,80.2,110.0,59.05,19.55,54.9,88.55,20.05,60.15,48.8,19.8,44.55,19.9,100.9,42.4,44.9,85.6,48.25,80.4,76.45,54.6,101.05,64.2,64.35,24.85,73.25,65.9,59.75,94.0,116.1,69.3,81.3,19.3,90.6,81.0,114.3,104.4,19.55,64.75,21.45,34.7,85.85,89.85,99.45,19.4,39.1,80.35,66.3,88.4,54.5,70.7,18.95,19.9,84.5,90.95,91.7,103.1,20.7,19.6,74.6,24.9,94.8,39.2,83.25,75.1,85.65,65.25,56.1,25.0,25.15,81.2,80.6,20.45,21.2,20.1,25.05,110.5,19.65,90.25,115.5,116.5,70.85,56.6,19.6,76.85,107.4,24.25,115.05,59.85,103.95,84.25,89.25,68.75,60.25,71.1,108.5,25.45,19.55,21.15,38.6,20.2,60.2,81.35,49.45,54.75,90.05,105.35,86.55,49.85,99.1,99.65,21.1,35.7,31.1,34.25,111.15,19.85,19.5,79.3,44.0,20.0,113.95,94.05,104.05,100.35,24.75,45.25,56.2,76.75,69.9,25.25,111.8,63.95,88.85,79.8,60.0,75.1,106.3,50.55,56.1,40.7,101.5,69.55,104.5,49.25,84.9,20.05,85.95,103.0,19.75,19.65,80.6,81.85,49.8,22.95,19.6,73.15,19.85,106.8,97.7,35.65,66.85,94.1,20.6,56.75,23.75,93.55,30.4,56.55,19.7,20.9,94.8,44.55,60.3,71.4,20.5,90.8,90.95,51.35,20.65,19.9,93.25,80.45,80.9,83.2,60.35,20.25,20.3,64.8,49.2,77.3,114.55,26.0,54.85,80.0,90.35,108.75,20.0,100.4,55.75,86.4,25.0,60.25,61.0,69.15,73.3,56.7,25.0,45.35,89.45,20.5,51.2,79.05,59.75,19.95,26.45,24.85,19.45,44.65,39.15,84.7,21.1,19.4,59.9,53.85,34.65,116.05,20.45,68.9,115.55,107.45,90.4,21.05,93.15,70.5,95.7,24.15,19.85,47.95,41.15,24.65,94.4,19.4,76.45,70.6,110.45,75.5,73.6,61.3,104.15,50.8,19.85,59.95,20.05,53.15,39.95,75.15,20.15,40.65,69.75,104.65,71.1,26.4,78.45,66.5,50.1,81.65,19.45,80.3,41.1,45.0,24.35,86.05,100.3,101.15,20.3,59.4,100.6,20.05,20.25,56.75,84.5,19.45,19.5,84.7,55.7,69.4,100.9,20.65,86.65,65.6,62.5,25.25,90.05,82.95,54.2,19.4,90.65,79.5,92.2,95.3,20.7,103.9,78.45,20.55,20.0,25.6,50.05,24.1,39.85,115.05,44.45,78.7,19.6,24.25,18.8,94.9,104.6,55.1,99.65,74.35,79.4,67.8,115.55,76.05,80.55,108.95,55.65,90.4,55.15,20.1,19.75,59.8,20.35,115.8,19.5,25.75,106.45,20.05,73.5,77.4,80.05,20.8,96.75,63.85,70.55,104.5,20.45,112.35,19.8,90.95,106.0,107.2,84.8,19.5,54.45,60.0,19.75,19.65,20.2,35.0,75.6,50.55,20.3,64.95,74.65,111.1,24.7,25.6,64.95,94.35,19.55,115.75,25.3,74.05,20.3,25.4,73.6,64.05,20.7,90.75,66.05,60.05,24.8,78.9,116.75,69.8,75.2,99.8,20.15,95.9,40.15,81.95,55.0,90.55,74.3,46.35,79.5,54.15,74.65,100.45,44.75,84.4,69.5,53.75,113.4,92.9,45.55,47.85,30.5,105.45,90.65,58.75,20.65,74.0,69.05,88.0,75.55,51.25,20.45,83.8,44.8,43.55,110.2,87.3,100.0,44.9,19.85,24.85,82.85,103.3,19.55,44.0,77.55,69.05,20.75,35.8,74.25,81.9,85.95,59.7,54.95,50.2,20.4,24.3,67.7,20.35,84.0,35.05,41.1,20.5,25.25,19.35,19.9,20.05,24.8,19.8,89.9,92.0,20.1,95.35,19.5,44.95,49.8,69.2,20.55,79.1,99.65,25.4,74.3,105.85,64.3,74.85,19.8,24.65,19.2,47.4,90.4,79.0,99.8,61.35,49.05,65.5,29.75,84.05,107.5,49.2,40.35,25.65,100.55,86.45,25.4,104.45,80.45,54.1,109.1,58.4,83.45,110.65,20.6,64.5,60.2,91.25,109.4,71.05,111.6,19.25,23.8,20.35,19.95,49.55,84.55,115.1,90.2,73.85,19.1,25.2,84.35,59.45,116.25,79.85,39.1,84.4,54.0,20.6,19.9,49.55,44.25,115.05,25.0,19.9,35.55,109.2,20.05,101.75,55.3,24.95,95.65,65.6,20.85,21.2,95.65,71.55,107.7,19.85,19.65,110.75,19.35,99.3,55.95,76.75,20.45,19.45,25.25,94.8,44.95,104.45,20.15,24.3,95.0,55.9,20.55,25.1,20.75,19.45,50.45,19.65,73.75,20.15,116.1,102.1,62.1,78.0,100.5,105.25,118.65,74.1,66.9,69.05,18.85,61.65,56.0,69.15,53.5,20.15,105.75,84.35,49.45,79.9,45.55,64.75,40.75,78.8,25.05,100.2,79.3,20.85,108.2,107.45,19.1,75.5,20.75,19.15,81.5,61.55,109.4,89.2,88.75,65.8,94.4,94.6,56.4,78.85,26.3,20.6,26.05,20.15,75.35,59.95,110.15,86.1,39.45,102.1,100.75,20.25,20.8,77.2,25.0,58.35,69.25,24.85,94.2,100.15,48.8,54.4,19.4,54.15,19.75,79.8,53.55,26.1,82.45,70.55,65.65,81.0,96.1,51.1,85.05,20.3,114.0,59.85,95.8,103.6,98.7,86.35,19.7,84.7,19.2,106.9,78.95,47.85,79.6,68.85,19.35,55.15,25.55,52.7,19.65,80.25,25.0,104.3,48.85,84.15,104.15,74.75,19.6,20.9,70.35,24.1,20.45,84.35,79.7,54.05,67.45,84.95,65.4,44.0,61.4,88.8,90.5,85.25,19.75,82.5,23.75,100.15,35.1,113.65,65.1,45.6,20.0,75.1,67.05,20.3,20.1,113.65,54.65,70.15,83.2,24.6,109.1,95.4,64.1,90.7,43.95,45.25,70.15,96.85,20.2,91.35,84.5,115.5,55.3,29.8,19.6,20.9,84.8,61.25,101.9,43.55,66.25,110.8,54.85,74.85,25.3,85.95,54.65,19.3,90.3,44.8,89.55,25.3,110.9,66.4,78.8,110.7,58.35,58.9,72.35,94.1,24.4,64.1,19.8,24.35,70.55,20.7,20.1,19.85,59.85,50.0,19.25,50.05,19.85,82.65,90.65,44.15,69.95,89.15,95.95,19.5,94.0,20.6,48.85,24.6,74.45,98.9,91.5,100.25,110.5,105.15,54.55,55.75,89.0,19.95,90.15,19.6,18.75,25.1,102.5,70.8,86.1,19.1,20.05,65.25,85.2,19.85,83.15,19.05,85.1,19.05,90.35,82.0,89.65,71.0,59.0,113.15,80.15,80.7,92.3,112.9,59.8,75.35,20.1,79.5,109.25,69.2,89.75,60.9,95.3,75.05,40.65,95.95,51.0,19.2,64.75,79.4,80.05,19.1,51.7,19.65,59.2,20.25,40.3,70.15,20.0,96.35,20.75,20.55,81.7,72.45,75.3,56.25,19.95,87.75,84.1,19.25,20.65,19.9,51.2,80.95,80.35,96.1,24.7,102.6,19.75,81.05,90.45,75.0,88.95,54.45,54.5,106.75,31.05,19.2,69.55,99.25,98.65,29.9,25.4,25.1,91.15,54.45,24.8,34.8,70.5,20.0,105.4,45.0,19.9,92.45,44.85,79.25,24.45,20.15,70.05,70.2,69.0,43.9,70.6,19.25,20.45,55.45,70.55,20.55,20.2,19.8,103.25,19.7,88.5,29.15,19.4,19.25,50.4,58.6,70.25,114.1,24.9,20.5,60.6,80.0,69.05,92.15,49.15,19.65,24.65,25.05,115.65,107.35,24.7,54.35,24.5,62.55,40.4,80.8,84.6,109.7,88.2,88.15,90.15,50.25,116.15,80.1,94.5,65.5,20.0,69.15,44.8,99.0,54.15,45.4,20.55,20.15,85.85,94.9,61.4,97.2,25.85,70.3,60.3,72.8,99.4,19.0,81.9,117.5,87.95,89.55,25.1,113.45,20.85,44.25,30.15,48.6,20.5,38.85,67.4,29.9,65.6,81.4,49.95,18.4,19.35,69.5,66.0,98.6,20.4,79.85,84.8,95.45,93.4,88.65,92.0,80.15,59.15,61.75,113.2,63.55,116.95,19.95,95.3,85.0,58.2,24.35,69.95,39.7,61.95,21.1,69.3,75.8,20.0,19.8,109.55,66.85,20.2,83.85,19.5,25.0,20.35,72.25,104.25,71.85,55.45,106.5,80.85,20.0,101.1,51.15,50.0,97.1,19.2,26.1,40.45,74.35,57.2,107.9,79.2,19.75,19.95,100.9,56.85,20.35,108.05,25.35,109.75,20.75,20.05,53.15,67.65,44.65,60.0,54.1,85.8,46.35,60.05,25.55,55.8,24.4,114.3,73.15,91.35,53.5,95.85,96.8,106.15,19.85,78.35,84.1,94.3,103.8,95.3,90.15,118.2,76.8,104.6,49.85,20.4,54.4,55.0,20.35,97.2,84.45,19.7,99.55,72.1,75.7,85.65,18.7,20.3,25.25,60.8,80.8,103.95,106.7,20.05,24.4,19.9,68.8,19.7,108.9,19.25,54.65,94.0,99.15,19.75,18.9,84.95,94.05,55.15,50.3,67.85,59.0],\"x0\":\" \",\"xaxis\":\"x\",\"y0\":\" \",\"yaxis\":\"y\",\"type\":\"box\"},{\"alignmentgroup\":\"True\",\"hovertemplate\":\"Churn=Sim<br>Cobran\\u00e7a_Mensal=%{x}<extra></extra>\",\"legendgroup\":\"Sim\",\"marker\":{\"color\":\"#EF553B\"},\"name\":\"Sim\",\"notched\":false,\"offsetgroup\":\"Sim\",\"orientation\":\"h\",\"showlegend\":true,\"x\":[73.9,98.0,83.9,62.7,25.1,94.1,20.35,30.5,49.25,104.5,95.0,19.85,99.75,84.35,111.2,40.2,73.85,101.35,86.25,89.75,80.2,19.85,94.7,70.9,54.2,105.5,85.25,84.35,115.55,25.3,105.1,84.8,85.85,47.15,75.9,85.55,93.35,81.05,75.2,85.65,72.9,74.9,19.75,21.05,103.7,95.45,101.15,96.1,99.15,88.8,80.55,99.85,45.35,48.55,100.2,94.7,70.1,97.9,69.95,81.35,106.3,89.3,102.1,98.9,84.9,108.15,34.7,90.6,88.25,85.8,60.3,74.4,70.45,93.85,101.9,74.4,101.5,95.75,44.4,25.5,20.9,90.1,45.3,83.8,73.0,77.85,96.75,69.5,79.7,79.9,88.3,75.55,71.1,70.45,20.15,54.2,70.75,102.35,85.0,75.65,85.45,95.5,78.6,25.9,95.55,83.3,49.85,100.15,46.35,19.75,89.0,25.25,25.05,47.85,75.2,74.9,45.55,41.9,67.5,90.05,76.5,84.05,95.6,102.95,80.35,104.4,98.05,25.8,69.25,101.1,95.0,70.75,72.45,83.2,110.0,94.85,85.65,101.7,74.55,61.65,74.9,74.45,100.0,79.9,55.65,50.05,82.3,25.05,109.5,95.85,19.3,88.35,34.7,100.5,39.0,55.1,70.85,81.45,34.7,49.15,40.65,35.55,85.45,64.4,82.4,53.85,102.25,79.55,84.6,85.4,103.95,101.15,19.5,101.25,45.7,104.3,99.5,104.15,83.75,75.25,74.65,100.25,80.7,98.7,80.3,73.65,98.15,96.2,70.8,89.55,99.45,49.4,20.1,20.0,96.5,24.8,74.95,19.55,70.85,19.8,70.25,25.15,69.9,20.15,85.05,98.75,69.75,69.1,19.6,76.65,95.05,89.85,105.95,55.0,53.9,70.65,29.85,85.7,108.75,74.95,79.95,83.9,91.1,73.6,59.5,48.35,49.65,19.0,49.6,105.95,90.45,20.1,54.4,99.95,54.3,75.75,96.8,96.55,85.35,43.65,88.85,79.9,78.55,106.1,75.5,30.3,98.4,55.0,24.25,86.05,103.4,20.05,70.3,66.35,94.3,20.05,91.05,74.05,105.9,89.3,74.55,30.6,115.65,69.15,95.25,80.0,19.8,98.5,73.85,89.1,98.5,102.1,94.5,20.2,25.7,45.85,106.45,89.4,74.65,89.75,96.25,62.05,84.15,114.2,82.0,84.05,94.0,78.75,99.95,19.65,90.45,60.1,112.95,51.5,99.5,45.35,80.0,75.35,76.4,95.0,75.35,45.15,75.9,33.55,89.8,84.7,83.0,94.55,93.8,95.45,49.65,89.65,79.4,78.3,59.8,80.85,101.75,89.5,109.75,19.45,93.5,70.55,35.25,55.35,79.55,25.2,95.9,89.15,48.6,46.0,69.55,74.2,103.7,70.15,70.0,39.3,98.4,74.35,80.85,104.4,89.95,90.8,89.25,106.1,89.4,72.85,70.5,79.25,86.5,20.15,45.3,20.4,78.95,89.05,46.0,73.0,75.05,79.75,109.5,75.5,20.5,99.5,81.95,33.5,99.55,84.3,74.6,99.0,79.3,106.7,49.05,102.95,90.4,94.65,95.8,70.4,86.5,69.75,76.45,89.55,69.25,45.6,89.2,51.2,73.9,67.95,35.45,50.7,89.8,70.95,45.65,68.65,61.15,99.2,79.75,75.3,105.2,96.0,40.1,79.2,85.9,85.3,84.85,84.8,50.8,51.0,45.15,19.4,93.9,55.2,50.85,95.55,103.25,105.85,70.2,99.6,74.3,75.1,117.45,33.9,89.45,19.9,80.3,70.1,19.7,94.85,103.3,80.25,104.7,84.75,104.1,44.35,84.85,100.15,53.5,49.35,80.45,70.15,111.95,110.15,34.7,101.05,54.45,98.25,70.3,98.1,55.8,92.5,91.0,101.85,83.75,70.0,19.55,35.1,44.55,98.15,69.55,79.5,75.45,99.25,76.45,93.7,94.1,24.05,70.2,99.5,69.0,24.75,30.5,70.05,77.15,100.15,81.0,70.15,50.9,100.05,60.05,69.6,48.55,79.5,85.05,94.25,74.45,100.2,84.95,111.3,95.35,19.75,25.15,91.1,84.45,91.7,89.1,85.35,73.85,46.0,93.85,94.0,49.55,105.65,90.75,45.25,80.55,99.9,95.2,77.65,74.7,83.05,78.05,39.1,60.45,50.15,70.25,45.55,45.05,108.05,84.1,20.65,93.15,46.05,99.8,87.25,68.65,89.55,55.85,85.8,89.2,80.5,79.25,80.6,89.3,84.85,20.25,70.3,107.5,117.8,34.0,55.95,55.9,76.65,94.2,98.25,65.25,24.4,50.6,80.8,85.3,80.85,20.2,78.85,45.4,80.35,45.15,100.6,94.4,74.45,94.0,73.55,74.8,89.5,99.2,104.9,98.8,94.2,96.75,81.7,86.15,89.9,44.95,34.7,94.85,85.8,95.2,102.6,55.4,69.95,88.8,73.75,75.9,43.95,111.6,35.45,87.4,78.1,104.3,49.05,86.85,90.95,85.2,44.85,85.35,94.45,88.35,49.15,20.1,96.0,70.0,45.85,71.35,100.25,91.7,100.6,110.0,84.4,84.75,95.25,75.25,70.4,94.45,83.95,82.0,74.5,31.0,70.25,85.55,78.45,88.2,106.0,95.65,75.05,28.6,76.4,85.55,76.0,45.7,95.45,95.75,106.1,50.6,109.8,49.95,110.45,48.35,92.35,94.35,86.6,89.4,70.9,94.85,105.5,100.25,91.3,69.1,57.55,65.7,105.25,71.0,108.85,51.55,69.35,99.95,45.3,100.0,74.5,70.05,96.3,19.95,65.3,75.85,64.75,69.5,85.3,29.6,86.2,83.35,74.4,99.05,109.15,44.85,55.0,95.65,85.95,106.9,100.2,71.0,75.3,89.9,95.6,94.7,55.35,54.9,101.25,53.85,51.0,46.2,80.6,84.1,30.4,71.0,50.8,104.65,90.0,20.4,74.25,84.05,74.15,69.1,70.95,88.35,82.85,96.2,82.35,74.6,67.75,35.05,88.15,44.15,71.8,106.35,104.05,74.7,100.6,36.45,100.65,95.05,23.45,69.95,89.15,20.55,103.85,33.65,99.8,79.85,34.25,85.2,105.0,85.3,74.95,45.65,53.65,70.75,110.35,69.1,95.0,59.85,70.0,109.25,59.2,19.9,101.35,83.9,71.05,45.1,94.25,105.65,99.25,74.95,44.55,50.9,49.55,106.15,94.1,50.25,91.3,92.5,109.9,69.7,99.5,78.25,74.65,98.5,30.9,96.5,54.75,104.2,100.75,71.15,44.85,20.25,80.4,104.15,94.25,74.4,80.0,69.55,89.5,74.25,94.65,35.4,86.85,19.85,85.35,81.3,92.1,89.05,19.65,66.5,78.45,88.3,95.25,55.2,94.45,45.1,20.35,55.8,44.95,79.15,20.25,90.05,74.9,99.15,45.85,79.65,85.35,56.25,108.45,20.5,74.35,80.1,74.75,79.85,86.25,101.3,79.65,93.9,98.9,50.75,75.8,34.5,90.6,70.65,54.35,55.0,79.7,114.5,44.4,85.15,90.9,94.45,20.55,104.05,63.6,74.3,78.05,74.5,104.4,93.85,36.85,44.65,101.0,85.75,74.3,105.55,19.85,84.3,55.3,105.05,20.25,72.25,69.7,74.95,74.4,69.8,57.15,70.0,84.75,101.1,80.2,19.25,80.05,72.65,85.2,69.65,102.95,90.05,91.85,107.35,44.05,80.25,55.15,56.15,75.8,73.75,79.1,105.3,19.6,29.7,24.9,101.25,98.5,69.85,90.4,104.75,81.1,30.45,93.85,39.3,85.15,70.4,79.4,80.5,55.95,73.85,102.8,95.15,62.05,19.3,45.0,52.2,45.05,57.45,88.55,54.55,55.25,70.1,69.25,84.8,100.3,79.6,84.8,24.75,98.35,20.5,50.1,84.6,70.4,19.45,70.4,65.0,59.9,20.2,110.85,99.5,81.0,60.0,103.25,19.9,99.55,68.95,79.9,44.7,79.15,81.0,100.2,80.15,79.15,84.45,100.6,84.8,86.05,96.05,94.65,86.0,76.5,44.9,104.0,44.1,69.65,90.35,20.0,69.75,19.8,19.95,20.15,98.65,19.35,41.6,79.35,94.6,86.55,104.55,53.4,84.5,69.65,58.6,53.55,19.25,88.95,85.95,48.7,101.4,44.6,94.55,75.35,109.65,29.5,82.45,69.35,44.75,70.7,20.05,50.15,20.6,105.35,75.35,50.75,50.8,45.3,39.05,109.45,91.5,110.75,45.95,73.5,105.95,69.8,103.7,98.55,29.65,19.95,58.5,75.8,25.2,90.85,66.25,46.0,95.1,40.05,69.5,85.7,75.7,30.1,39.65,55.05,104.4,80.85,86.55,29.4,112.95,74.7,94.5,24.45,113.15,80.85,69.6,85.55,90.85,105.1,104.05,59.3,49.4,100.25,101.55,80.35,85.95,87.15,94.95,20.2,84.4,79.8,94.65,88.7,85.25,70.6,35.75,93.9,106.35,84.0,104.2,80.3,79.6,98.8,99.8,101.45,89.15,108.4,91.85,79.5,102.0,81.1,103.3,74.8,106.0,25.3,99.3,60.4,24.35,66.4,55.1,80.25,87.45,103.95,19.25,100.1,19.9,94.2,103.9,84.5,99.05,77.75,69.75,69.85,45.3,79.2,75.3,96.15,94.6,85.35,101.3,75.15,84.3,19.75,70.0,100.75,24.45,85.45,94.1,19.4,20.95,89.5,95.1,36.5,95.5,24.25,96.2,39.5,60.15,40.4,83.6,20.35,20.0,45.4,45.05,94.4,54.55,93.4,79.85,80.85,92.5,106.5,35.2,68.85,19.4,90.6,70.35,83.85,100.95,69.8,75.45,76.95,88.9,31.35,84.2,69.9,55.9,99.95,69.4,95.05,84.6,50.15,75.0,54.15,74.2,56.25,85.45,79.35,89.65,104.4,70.1,70.6,83.65,61.45,83.55,94.7,74.35,96.15,79.05,70.3,96.1,97.1,56.65,80.5,80.8,89.15,83.15,70.45,74.4,100.95,101.1,25.1,90.25,54.2,54.15,69.7,84.85,80.15,88.45,102.45,92.55,94.5,97.95,79.25,19.1,84.95,45.65,71.55,19.65,44.35,24.1,79.9,69.75,70.3,84.5,83.35,78.3,108.15,80.1,58.6,99.45,55.15,73.25,69.0,85.0,28.45,35.0,73.9,94.4,86.2,90.5,73.9,79.35,79.45,49.9,104.05,78.9,54.45,29.95,90.2,19.35,100.85,95.15,80.5,85.25,72.15,40.15,88.4,74.15,86.45,95.6,74.9,96.0,24.8,78.8,77.85,70.1,107.95,73.6,97.65,107.4,55.55,79.05,102.8,45.15,89.4,68.5,74.75,105.95,85.4,79.7,87.25,69.35,80.8,99.35,86.0,90.6,105.0,94.7,69.6,73.55,105.0,93.3,20.8,29.95,99.7,49.35,79.2,49.95,88.05,44.45,88.95,19.3,73.95,109.55,50.5,100.55,19.7,79.55,55.7,49.2,85.35,70.0,103.75,103.85,99.8,70.3,104.75,111.95,104.6,74.4,55.25,98.55,85.5,102.0,50.55,78.95,91.65,43.3,74.9,87.55,91.25,70.05,105.0,85.0,21.0,104.5,81.7,19.85,106.95,98.3,106.6,89.6,96.65,75.6,23.9,60.05,98.75,100.0,19.75,95.65,20.1,99.25,48.95,78.55,84.8,91.65,104.25,75.75,96.55,105.75,50.65,74.9,99.15,76.35,51.75,71.3,80.0,89.05,99.0,42.9,76.0,80.4,87.05,44.4,20.85,86.3,79.5,108.65,68.95,74.9,61.6,84.4,25.1,93.85,99.05,100.45,45.95,105.4,101.9,45.3,106.25,79.4,98.75,25.4,103.35,68.25,84.5,104.4,75.75,79.85,45.25,85.7,103.0,69.95,90.5,74.5,102.45,79.0,69.25,105.5,94.9,100.8,94.2,88.45,101.35,74.85,19.75,48.75,99.75,25.3,85.2,85.6,50.45,54.35,69.65,90.0,41.15,90.55,113.2,90.55,98.1,82.0,108.6,90.15,90.8,74.65,45.75,70.2,47.8,70.3,35.15,89.45,81.5,71.0,49.55,75.45,20.9,99.45,64.65,48.75,89.35,95.7,90.85,100.0,85.65,79.15,80.65,74.3,84.65,86.1,45.4,73.2,96.05,84.25,76.1,69.65,65.4,95.25,96.25,100.55,55.3,19.5,93.2,80.6,45.3,74.9,76.05,50.15,54.85,43.3,44.6,46.3,79.6,75.8,76.4,106.15,73.75,84.45,51.8,44.6,54.75,49.9,76.5,78.95,110.9,79.0,48.8,100.7,70.15,69.2,44.15,69.6,80.45,45.0,65.45,80.15,104.1,81.0,82.05,41.05,75.2,40.1,91.05,51.05,105.9,29.7,80.65,106.05,50.45,103.45,50.4,86.65,99.4,99.7,77.95,24.95,24.1,75.55,106.6,45.8,85.2,20.2,46.0,20.15,44.65,95.15,20.15,59.0,19.6,35.9,84.3,42.6,100.85,36.45,104.8,20.55,80.3,69.4,75.1,85.15,62.3,24.8,98.7,94.75,24.5,79.2,44.3,97.35,90.55,19.6,75.0,69.95,50.75,80.2,94.75,99.45,75.3,42.35,71.35,70.55,19.5,79.65,84.45,69.65,85.25,94.25,74.75,35.1,20.3,89.75,45.1,74.35,80.2,95.45,72.2,105.65,106.4,79.65,93.85,75.4,80.55,97.85,93.7,89.95,50.25,80.75,75.5,118.35,43.75,79.25,45.3,96.4,64.7,77.0,25.2,24.45,103.75,97.8,50.45,93.2,55.0,20.2,107.55,19.65,86.3,89.8,49.25,95.35,74.4,50.65,74.35,101.0,69.6,71.65,84.9,77.95,95.9,100.05,60.05,95.65,91.4,83.55,101.35,75.7,83.75,99.85,76.05,80.45,56.7,73.65,89.35,69.05,73.85,100.8,24.75,85.6,75.35,77.5,49.75,89.85,79.1,92.45,85.3,50.6,86.6,95.6,49.1,94.25,84.2,59.75,104.65,53.95,79.4,104.7,100.05,78.95,74.4,79.7,71.65,29.65,106.0,30.2,75.0,59.4,74.4,76.25,74.4,94.2,91.15,31.05,40.0,89.5,78.95,43.25,93.8,79.0,100.55,64.7,44.2,90.6,39.65,90.1,99.85,23.15,83.8,55.15,81.25,103.4,75.1,99.55,80.05,56.15,70.7,84.95,100.5,96.65,106.55,80.65,86.45,105.7,60.35,49.15,101.95,29.2,93.8,30.35,89.7,83.3,84.6,106.4,79.65,78.65,94.8,98.6,84.55,56.5,79.6,50.35,25.25,89.7,79.55,93.55,18.95,50.35,74.05,48.95,69.35,90.7,116.2,30.75,96.6,50.55,95.25,19.4,111.1,105.3,81.0,108.55,85.45,55.7,45.7,85.45,89.5,24.45,100.45,113.6,90.2,79.9,98.7,90.8,19.45,85.15,93.55,95.9,75.15,54.45,70.75,104.85,94.4,24.6,78.85,70.7,47.95,76.45,111.25,75.55,94.45,98.6,62.65,54.7,74.95,85.0,74.4,74.95,94.0,79.95,99.65,74.25,79.75,18.85,100.35,109.55,84.5,80.6,70.15,40.65,80.45,74.7,70.15,95.5,104.8,88.35,99.1,87.1,89.95,76.2,97.35,44.7,86.8,50.4,78.9,59.45,71.15,84.65,90.0,93.55,79.35,95.15,40.2,100.05,90.1,29.7,89.8,53.75,70.1,91.4,81.0,51.25,89.6,70.45,106.75,94.4,69.55,65.2,101.4,94.05,104.95,85.0,89.45,91.85,81.15,50.8,100.05,106.1,94.4,105.2,49.25,40.3,100.5,74.95,80.25,96.05,106.75,70.75,90.85,69.2,53.95,49.4,98.3,73.5,94.4,77.5,75.3,103.45,69.9,96.7,48.55,75.2,69.0,45.7,89.55,110.85,78.5,80.5,90.8,74.1,110.1,104.7,55.0,86.0,104.2,80.95,78.45,100.3,74.3,80.3,94.55,25.05,93.85,80.45,91.75,75.3,95.1,74.4,79.45,96.8,83.85,70.15,20.95,85.1],\"x0\":\" \",\"xaxis\":\"x\",\"y0\":\" \",\"yaxis\":\"y\",\"type\":\"box\"}],                        {\"template\":{\"data\":{\"bar\":[{\"error_x\":{\"color\":\"#2a3f5f\"},\"error_y\":{\"color\":\"#2a3f5f\"},\"marker\":{\"line\":{\"color\":\"#E5ECF6\",\"width\":0.5},\"pattern\":{\"fillmode\":\"overlay\",\"size\":10,\"solidity\":0.2}},\"type\":\"bar\"}],\"barpolar\":[{\"marker\":{\"line\":{\"color\":\"#E5ECF6\",\"width\":0.5},\"pattern\":{\"fillmode\":\"overlay\",\"size\":10,\"solidity\":0.2}},\"type\":\"barpolar\"}],\"carpet\":[{\"aaxis\":{\"endlinecolor\":\"#2a3f5f\",\"gridcolor\":\"white\",\"linecolor\":\"white\",\"minorgridcolor\":\"white\",\"startlinecolor\":\"#2a3f5f\"},\"baxis\":{\"endlinecolor\":\"#2a3f5f\",\"gridcolor\":\"white\",\"linecolor\":\"white\",\"minorgridcolor\":\"white\",\"startlinecolor\":\"#2a3f5f\"},\"type\":\"carpet\"}],\"choropleth\":[{\"colorbar\":{\"outlinewidth\":0,\"ticks\":\"\"},\"type\":\"choropleth\"}],\"contour\":[{\"colorbar\":{\"outlinewidth\":0,\"ticks\":\"\"},\"colorscale\":[[0.0,\"#0d0887\"],[0.1111111111111111,\"#46039f\"],[0.2222222222222222,\"#7201a8\"],[0.3333333333333333,\"#9c179e\"],[0.4444444444444444,\"#bd3786\"],[0.5555555555555556,\"#d8576b\"],[0.6666666666666666,\"#ed7953\"],[0.7777777777777778,\"#fb9f3a\"],[0.8888888888888888,\"#fdca26\"],[1.0,\"#f0f921\"]],\"type\":\"contour\"}],\"contourcarpet\":[{\"colorbar\":{\"outlinewidth\":0,\"ticks\":\"\"},\"type\":\"contourcarpet\"}],\"heatmap\":[{\"colorbar\":{\"outlinewidth\":0,\"ticks\":\"\"},\"colorscale\":[[0.0,\"#0d0887\"],[0.1111111111111111,\"#46039f\"],[0.2222222222222222,\"#7201a8\"],[0.3333333333333333,\"#9c179e\"],[0.4444444444444444,\"#bd3786\"],[0.5555555555555556,\"#d8576b\"],[0.6666666666666666,\"#ed7953\"],[0.7777777777777778,\"#fb9f3a\"],[0.8888888888888888,\"#fdca26\"],[1.0,\"#f0f921\"]],\"type\":\"heatmap\"}],\"heatmapgl\":[{\"colorbar\":{\"outlinewidth\":0,\"ticks\":\"\"},\"colorscale\":[[0.0,\"#0d0887\"],[0.1111111111111111,\"#46039f\"],[0.2222222222222222,\"#7201a8\"],[0.3333333333333333,\"#9c179e\"],[0.4444444444444444,\"#bd3786\"],[0.5555555555555556,\"#d8576b\"],[0.6666666666666666,\"#ed7953\"],[0.7777777777777778,\"#fb9f3a\"],[0.8888888888888888,\"#fdca26\"],[1.0,\"#f0f921\"]],\"type\":\"heatmapgl\"}],\"histogram\":[{\"marker\":{\"pattern\":{\"fillmode\":\"overlay\",\"size\":10,\"solidity\":0.2}},\"type\":\"histogram\"}],\"histogram2d\":[{\"colorbar\":{\"outlinewidth\":0,\"ticks\":\"\"},\"colorscale\":[[0.0,\"#0d0887\"],[0.1111111111111111,\"#46039f\"],[0.2222222222222222,\"#7201a8\"],[0.3333333333333333,\"#9c179e\"],[0.4444444444444444,\"#bd3786\"],[0.5555555555555556,\"#d8576b\"],[0.6666666666666666,\"#ed7953\"],[0.7777777777777778,\"#fb9f3a\"],[0.8888888888888888,\"#fdca26\"],[1.0,\"#f0f921\"]],\"type\":\"histogram2d\"}],\"histogram2dcontour\":[{\"colorbar\":{\"outlinewidth\":0,\"ticks\":\"\"},\"colorscale\":[[0.0,\"#0d0887\"],[0.1111111111111111,\"#46039f\"],[0.2222222222222222,\"#7201a8\"],[0.3333333333333333,\"#9c179e\"],[0.4444444444444444,\"#bd3786\"],[0.5555555555555556,\"#d8576b\"],[0.6666666666666666,\"#ed7953\"],[0.7777777777777778,\"#fb9f3a\"],[0.8888888888888888,\"#fdca26\"],[1.0,\"#f0f921\"]],\"type\":\"histogram2dcontour\"}],\"mesh3d\":[{\"colorbar\":{\"outlinewidth\":0,\"ticks\":\"\"},\"type\":\"mesh3d\"}],\"parcoords\":[{\"line\":{\"colorbar\":{\"outlinewidth\":0,\"ticks\":\"\"}},\"type\":\"parcoords\"}],\"pie\":[{\"automargin\":true,\"type\":\"pie\"}],\"scatter\":[{\"marker\":{\"colorbar\":{\"outlinewidth\":0,\"ticks\":\"\"}},\"type\":\"scatter\"}],\"scatter3d\":[{\"line\":{\"colorbar\":{\"outlinewidth\":0,\"ticks\":\"\"}},\"marker\":{\"colorbar\":{\"outlinewidth\":0,\"ticks\":\"\"}},\"type\":\"scatter3d\"}],\"scattercarpet\":[{\"marker\":{\"colorbar\":{\"outlinewidth\":0,\"ticks\":\"\"}},\"type\":\"scattercarpet\"}],\"scattergeo\":[{\"marker\":{\"colorbar\":{\"outlinewidth\":0,\"ticks\":\"\"}},\"type\":\"scattergeo\"}],\"scattergl\":[{\"marker\":{\"colorbar\":{\"outlinewidth\":0,\"ticks\":\"\"}},\"type\":\"scattergl\"}],\"scattermapbox\":[{\"marker\":{\"colorbar\":{\"outlinewidth\":0,\"ticks\":\"\"}},\"type\":\"scattermapbox\"}],\"scatterpolar\":[{\"marker\":{\"colorbar\":{\"outlinewidth\":0,\"ticks\":\"\"}},\"type\":\"scatterpolar\"}],\"scatterpolargl\":[{\"marker\":{\"colorbar\":{\"outlinewidth\":0,\"ticks\":\"\"}},\"type\":\"scatterpolargl\"}],\"scatterternary\":[{\"marker\":{\"colorbar\":{\"outlinewidth\":0,\"ticks\":\"\"}},\"type\":\"scatterternary\"}],\"surface\":[{\"colorbar\":{\"outlinewidth\":0,\"ticks\":\"\"},\"colorscale\":[[0.0,\"#0d0887\"],[0.1111111111111111,\"#46039f\"],[0.2222222222222222,\"#7201a8\"],[0.3333333333333333,\"#9c179e\"],[0.4444444444444444,\"#bd3786\"],[0.5555555555555556,\"#d8576b\"],[0.6666666666666666,\"#ed7953\"],[0.7777777777777778,\"#fb9f3a\"],[0.8888888888888888,\"#fdca26\"],[1.0,\"#f0f921\"]],\"type\":\"surface\"}],\"table\":[{\"cells\":{\"fill\":{\"color\":\"#EBF0F8\"},\"line\":{\"color\":\"white\"}},\"header\":{\"fill\":{\"color\":\"#C8D4E3\"},\"line\":{\"color\":\"white\"}},\"type\":\"table\"}]},\"layout\":{\"annotationdefaults\":{\"arrowcolor\":\"#2a3f5f\",\"arrowhead\":0,\"arrowwidth\":1},\"autotypenumbers\":\"strict\",\"coloraxis\":{\"colorbar\":{\"outlinewidth\":0,\"ticks\":\"\"}},\"colorscale\":{\"diverging\":[[0,\"#8e0152\"],[0.1,\"#c51b7d\"],[0.2,\"#de77ae\"],[0.3,\"#f1b6da\"],[0.4,\"#fde0ef\"],[0.5,\"#f7f7f7\"],[0.6,\"#e6f5d0\"],[0.7,\"#b8e186\"],[0.8,\"#7fbc41\"],[0.9,\"#4d9221\"],[1,\"#276419\"]],\"sequential\":[[0.0,\"#0d0887\"],[0.1111111111111111,\"#46039f\"],[0.2222222222222222,\"#7201a8\"],[0.3333333333333333,\"#9c179e\"],[0.4444444444444444,\"#bd3786\"],[0.5555555555555556,\"#d8576b\"],[0.6666666666666666,\"#ed7953\"],[0.7777777777777778,\"#fb9f3a\"],[0.8888888888888888,\"#fdca26\"],[1.0,\"#f0f921\"]],\"sequentialminus\":[[0.0,\"#0d0887\"],[0.1111111111111111,\"#46039f\"],[0.2222222222222222,\"#7201a8\"],[0.3333333333333333,\"#9c179e\"],[0.4444444444444444,\"#bd3786\"],[0.5555555555555556,\"#d8576b\"],[0.6666666666666666,\"#ed7953\"],[0.7777777777777778,\"#fb9f3a\"],[0.8888888888888888,\"#fdca26\"],[1.0,\"#f0f921\"]]},\"colorway\":[\"#636efa\",\"#EF553B\",\"#00cc96\",\"#ab63fa\",\"#FFA15A\",\"#19d3f3\",\"#FF6692\",\"#B6E880\",\"#FF97FF\",\"#FECB52\"],\"font\":{\"color\":\"#2a3f5f\"},\"geo\":{\"bgcolor\":\"white\",\"lakecolor\":\"white\",\"landcolor\":\"#E5ECF6\",\"showlakes\":true,\"showland\":true,\"subunitcolor\":\"white\"},\"hoverlabel\":{\"align\":\"left\"},\"hovermode\":\"closest\",\"mapbox\":{\"style\":\"light\"},\"paper_bgcolor\":\"white\",\"plot_bgcolor\":\"#E5ECF6\",\"polar\":{\"angularaxis\":{\"gridcolor\":\"white\",\"linecolor\":\"white\",\"ticks\":\"\"},\"bgcolor\":\"#E5ECF6\",\"radialaxis\":{\"gridcolor\":\"white\",\"linecolor\":\"white\",\"ticks\":\"\"}},\"scene\":{\"xaxis\":{\"backgroundcolor\":\"#E5ECF6\",\"gridcolor\":\"white\",\"gridwidth\":2,\"linecolor\":\"white\",\"showbackground\":true,\"ticks\":\"\",\"zerolinecolor\":\"white\"},\"yaxis\":{\"backgroundcolor\":\"#E5ECF6\",\"gridcolor\":\"white\",\"gridwidth\":2,\"linecolor\":\"white\",\"showbackground\":true,\"ticks\":\"\",\"zerolinecolor\":\"white\"},\"zaxis\":{\"backgroundcolor\":\"#E5ECF6\",\"gridcolor\":\"white\",\"gridwidth\":2,\"linecolor\":\"white\",\"showbackground\":true,\"ticks\":\"\",\"zerolinecolor\":\"white\"}},\"shapedefaults\":{\"line\":{\"color\":\"#2a3f5f\"}},\"ternary\":{\"aaxis\":{\"gridcolor\":\"white\",\"linecolor\":\"white\",\"ticks\":\"\"},\"baxis\":{\"gridcolor\":\"white\",\"linecolor\":\"white\",\"ticks\":\"\"},\"bgcolor\":\"#E5ECF6\",\"caxis\":{\"gridcolor\":\"white\",\"linecolor\":\"white\",\"ticks\":\"\"}},\"title\":{\"x\":0.05},\"xaxis\":{\"automargin\":true,\"gridcolor\":\"white\",\"linecolor\":\"white\",\"ticks\":\"\",\"title\":{\"standoff\":15},\"zerolinecolor\":\"white\",\"zerolinewidth\":2},\"yaxis\":{\"automargin\":true,\"gridcolor\":\"white\",\"linecolor\":\"white\",\"ticks\":\"\",\"title\":{\"standoff\":15},\"zerolinecolor\":\"white\",\"zerolinewidth\":2}}},\"xaxis\":{\"anchor\":\"y\",\"domain\":[0.0,1.0],\"title\":{\"text\":\"Cobran\\u00e7a_Mensal\"}},\"yaxis\":{\"anchor\":\"x\",\"domain\":[0.0,1.0]},\"legend\":{\"title\":{\"text\":\"Churn\"},\"tracegroupgap\":0},\"margin\":{\"t\":60},\"boxmode\":\"group\"},                        {\"responsive\": true}                    ).then(function(){\n",
              "                            \n",
              "var gd = document.getElementById('8cf1c45c-5124-4c12-9f54-739ccf6fed07');\n",
              "var x = new MutationObserver(function (mutations, observer) {{\n",
              "        var display = window.getComputedStyle(gd).display;\n",
              "        if (!display || display === 'none') {{\n",
              "            console.log([gd, 'removed!']);\n",
              "            Plotly.purge(gd);\n",
              "            observer.disconnect();\n",
              "        }}\n",
              "}});\n",
              "\n",
              "// Listen for the removal of the full notebook cells\n",
              "var notebookContainer = gd.closest('#notebook-container');\n",
              "if (notebookContainer) {{\n",
              "    x.observe(notebookContainer, {childList: true});\n",
              "}}\n",
              "\n",
              "// Listen for the clearing of the current output cell\n",
              "var outputEl = gd.closest('.output');\n",
              "if (outputEl) {{\n",
              "    x.observe(outputEl, {childList: true});\n",
              "}}\n",
              "\n",
              "                        })                };                            </script>        </div>\n",
              "</body>\n",
              "</html>"
            ]
          },
          "metadata": {}
        }
      ]
    },
    {
      "cell_type": "markdown",
      "source": [
        "Analisando a feature \"tenure\", que representa o tempo de contrato do cliente, percebe-se que clientes que estão a mais tempo tendem a continuar a utilizar o serviço.\n",
        "\n",
        "Para a feature \"Charges.Monthly\", percebe-se que os clientes que adquirem serviços mais baratos tendem a continuar utilizando o serviço.\n"
      ],
      "metadata": {
        "id": "XKCWsCvB-wsJ"
      }
    },
    {
      "cell_type": "code",
      "source": [
        "df\n"
      ],
      "metadata": {
        "colab": {
          "base_uri": "https://localhost:8080/",
          "height": 644
        },
        "id": "ZpIIDIrv2-ju",
        "outputId": "302dd6bd-cab8-4dbd-db06-852636b66318"
      },
      "execution_count": 32,
      "outputs": [
        {
          "output_type": "execute_result",
          "data": {
            "text/plain": [
              "      ID_Cliente Churn     Gênero Idoso Parceiro Dependentes  \\\n",
              "0     0002-ORFBO   Não   Feminino   Não      Sim         Sim   \n",
              "1     0003-MKNFE   Não  Masculino   Não      Não         Não   \n",
              "2     0004-TLHLJ   Sim  Masculino   Não      Não         Não   \n",
              "3     0011-IGKFF   Sim  Masculino   Sim      Sim         Não   \n",
              "4     0013-EXCHZ   Sim   Feminino   Sim      Sim         Não   \n",
              "...          ...   ...        ...   ...      ...         ...   \n",
              "7038  9987-LUTYD   Não   Feminino   Não      Não         Não   \n",
              "7039  9992-RRAMN   Sim  Masculino   Não      Sim         Não   \n",
              "7040  9992-UJOEL   Não  Masculino   Não      Não         Não   \n",
              "7041  9993-LHIEB   Não  Masculino   Não      Sim         Sim   \n",
              "7042  9995-HOTOH   Não  Masculino   Não      Sim         Sim   \n",
              "\n",
              "      Tempo_de_Contrato Serviço_Telefônico        Linhas_Múltiplas  \\\n",
              "0                     9                Sim                     Não   \n",
              "1                     9                Sim                     Sim   \n",
              "2                     4                Sim                     Não   \n",
              "3                    13                Sim                     Não   \n",
              "4                     3                Sim                     Não   \n",
              "...                 ...                ...                     ...   \n",
              "7038                 13                Sim                     Não   \n",
              "7039                 22                Sim                     Sim   \n",
              "7040                  2                Sim                     Não   \n",
              "7041                 67                Sim                     Não   \n",
              "7042                 63                Não  Sem serviço telefônico   \n",
              "\n",
              "     Serviço_Internet  ... Proteção_de_Dispositivo Suporte_Técnico  \\\n",
              "0                 DSL  ...                     Não             Sim   \n",
              "1                 DSL  ...                     Não             Não   \n",
              "2        Fibra óptica  ...                     Sim             Não   \n",
              "3        Fibra óptica  ...                     Sim             Não   \n",
              "4        Fibra óptica  ...                     Não             Sim   \n",
              "...               ...  ...                     ...             ...   \n",
              "7038              DSL  ...                     Não             Sim   \n",
              "7039     Fibra óptica  ...                     Não             Não   \n",
              "7040              DSL  ...                     Não             Não   \n",
              "7041              DSL  ...                     Sim             Sim   \n",
              "7042              DSL  ...                     Sim             Não   \n",
              "\n",
              "     Streaming_TV Streaming_de_Filmes   Contrato Cobrança_Digital  \\\n",
              "0             Sim                 Não      Anual              Sim   \n",
              "1             Não                 Sim     Mensal              Não   \n",
              "2             Não                 Não     Mensal              Sim   \n",
              "3             Sim                 Sim     Mensal              Sim   \n",
              "4             Sim                 Não     Mensal              Sim   \n",
              "...           ...                 ...        ...              ...   \n",
              "7038          Não                 Não      Anual              Não   \n",
              "7039          Não                 Sim     Mensal              Sim   \n",
              "7040          Não                 Não     Mensal              Sim   \n",
              "7041          Não                 Sim  Dois anos              Não   \n",
              "7042          Sim                 Sim  Dois anos              Não   \n",
              "\n",
              "     Método_de_Pagamento Cobrança_Mensal Cobrança_Total  Contas_Diárias  \n",
              "0         Cheque enviado           65.60         593.30            2.19  \n",
              "1         Cheque enviado           59.90         542.40            2.00  \n",
              "2      Cheque eletrônico           73.90         280.85            2.46  \n",
              "3      Cheque eletrônico           98.00        1237.85            3.27  \n",
              "4         Cheque enviado           83.90         267.40            2.80  \n",
              "...                  ...             ...            ...             ...  \n",
              "7038      Cheque enviado           55.15         742.90            1.84  \n",
              "7039   Cheque eletrônico           85.10        1873.70            2.84  \n",
              "7040      Cheque enviado           50.30          92.75            1.68  \n",
              "7041      Cheque enviado           67.85        4627.65            2.26  \n",
              "7042   Cheque eletrônico           59.00        3707.60            1.97  \n",
              "\n",
              "[7043 rows x 22 columns]"
            ],
            "text/html": [
              "\n",
              "  <div id=\"df-90a0fe7c-6e54-44ed-bfab-84f78b8d5aa4\">\n",
              "    <div class=\"colab-df-container\">\n",
              "      <div>\n",
              "<style scoped>\n",
              "    .dataframe tbody tr th:only-of-type {\n",
              "        vertical-align: middle;\n",
              "    }\n",
              "\n",
              "    .dataframe tbody tr th {\n",
              "        vertical-align: top;\n",
              "    }\n",
              "\n",
              "    .dataframe thead th {\n",
              "        text-align: right;\n",
              "    }\n",
              "</style>\n",
              "<table border=\"1\" class=\"dataframe\">\n",
              "  <thead>\n",
              "    <tr style=\"text-align: right;\">\n",
              "      <th></th>\n",
              "      <th>ID_Cliente</th>\n",
              "      <th>Churn</th>\n",
              "      <th>Gênero</th>\n",
              "      <th>Idoso</th>\n",
              "      <th>Parceiro</th>\n",
              "      <th>Dependentes</th>\n",
              "      <th>Tempo_de_Contrato</th>\n",
              "      <th>Serviço_Telefônico</th>\n",
              "      <th>Linhas_Múltiplas</th>\n",
              "      <th>Serviço_Internet</th>\n",
              "      <th>...</th>\n",
              "      <th>Proteção_de_Dispositivo</th>\n",
              "      <th>Suporte_Técnico</th>\n",
              "      <th>Streaming_TV</th>\n",
              "      <th>Streaming_de_Filmes</th>\n",
              "      <th>Contrato</th>\n",
              "      <th>Cobrança_Digital</th>\n",
              "      <th>Método_de_Pagamento</th>\n",
              "      <th>Cobrança_Mensal</th>\n",
              "      <th>Cobrança_Total</th>\n",
              "      <th>Contas_Diárias</th>\n",
              "    </tr>\n",
              "  </thead>\n",
              "  <tbody>\n",
              "    <tr>\n",
              "      <th>0</th>\n",
              "      <td>0002-ORFBO</td>\n",
              "      <td>Não</td>\n",
              "      <td>Feminino</td>\n",
              "      <td>Não</td>\n",
              "      <td>Sim</td>\n",
              "      <td>Sim</td>\n",
              "      <td>9</td>\n",
              "      <td>Sim</td>\n",
              "      <td>Não</td>\n",
              "      <td>DSL</td>\n",
              "      <td>...</td>\n",
              "      <td>Não</td>\n",
              "      <td>Sim</td>\n",
              "      <td>Sim</td>\n",
              "      <td>Não</td>\n",
              "      <td>Anual</td>\n",
              "      <td>Sim</td>\n",
              "      <td>Cheque enviado</td>\n",
              "      <td>65.60</td>\n",
              "      <td>593.30</td>\n",
              "      <td>2.19</td>\n",
              "    </tr>\n",
              "    <tr>\n",
              "      <th>1</th>\n",
              "      <td>0003-MKNFE</td>\n",
              "      <td>Não</td>\n",
              "      <td>Masculino</td>\n",
              "      <td>Não</td>\n",
              "      <td>Não</td>\n",
              "      <td>Não</td>\n",
              "      <td>9</td>\n",
              "      <td>Sim</td>\n",
              "      <td>Sim</td>\n",
              "      <td>DSL</td>\n",
              "      <td>...</td>\n",
              "      <td>Não</td>\n",
              "      <td>Não</td>\n",
              "      <td>Não</td>\n",
              "      <td>Sim</td>\n",
              "      <td>Mensal</td>\n",
              "      <td>Não</td>\n",
              "      <td>Cheque enviado</td>\n",
              "      <td>59.90</td>\n",
              "      <td>542.40</td>\n",
              "      <td>2.00</td>\n",
              "    </tr>\n",
              "    <tr>\n",
              "      <th>2</th>\n",
              "      <td>0004-TLHLJ</td>\n",
              "      <td>Sim</td>\n",
              "      <td>Masculino</td>\n",
              "      <td>Não</td>\n",
              "      <td>Não</td>\n",
              "      <td>Não</td>\n",
              "      <td>4</td>\n",
              "      <td>Sim</td>\n",
              "      <td>Não</td>\n",
              "      <td>Fibra óptica</td>\n",
              "      <td>...</td>\n",
              "      <td>Sim</td>\n",
              "      <td>Não</td>\n",
              "      <td>Não</td>\n",
              "      <td>Não</td>\n",
              "      <td>Mensal</td>\n",
              "      <td>Sim</td>\n",
              "      <td>Cheque eletrônico</td>\n",
              "      <td>73.90</td>\n",
              "      <td>280.85</td>\n",
              "      <td>2.46</td>\n",
              "    </tr>\n",
              "    <tr>\n",
              "      <th>3</th>\n",
              "      <td>0011-IGKFF</td>\n",
              "      <td>Sim</td>\n",
              "      <td>Masculino</td>\n",
              "      <td>Sim</td>\n",
              "      <td>Sim</td>\n",
              "      <td>Não</td>\n",
              "      <td>13</td>\n",
              "      <td>Sim</td>\n",
              "      <td>Não</td>\n",
              "      <td>Fibra óptica</td>\n",
              "      <td>...</td>\n",
              "      <td>Sim</td>\n",
              "      <td>Não</td>\n",
              "      <td>Sim</td>\n",
              "      <td>Sim</td>\n",
              "      <td>Mensal</td>\n",
              "      <td>Sim</td>\n",
              "      <td>Cheque eletrônico</td>\n",
              "      <td>98.00</td>\n",
              "      <td>1237.85</td>\n",
              "      <td>3.27</td>\n",
              "    </tr>\n",
              "    <tr>\n",
              "      <th>4</th>\n",
              "      <td>0013-EXCHZ</td>\n",
              "      <td>Sim</td>\n",
              "      <td>Feminino</td>\n",
              "      <td>Sim</td>\n",
              "      <td>Sim</td>\n",
              "      <td>Não</td>\n",
              "      <td>3</td>\n",
              "      <td>Sim</td>\n",
              "      <td>Não</td>\n",
              "      <td>Fibra óptica</td>\n",
              "      <td>...</td>\n",
              "      <td>Não</td>\n",
              "      <td>Sim</td>\n",
              "      <td>Sim</td>\n",
              "      <td>Não</td>\n",
              "      <td>Mensal</td>\n",
              "      <td>Sim</td>\n",
              "      <td>Cheque enviado</td>\n",
              "      <td>83.90</td>\n",
              "      <td>267.40</td>\n",
              "      <td>2.80</td>\n",
              "    </tr>\n",
              "    <tr>\n",
              "      <th>...</th>\n",
              "      <td>...</td>\n",
              "      <td>...</td>\n",
              "      <td>...</td>\n",
              "      <td>...</td>\n",
              "      <td>...</td>\n",
              "      <td>...</td>\n",
              "      <td>...</td>\n",
              "      <td>...</td>\n",
              "      <td>...</td>\n",
              "      <td>...</td>\n",
              "      <td>...</td>\n",
              "      <td>...</td>\n",
              "      <td>...</td>\n",
              "      <td>...</td>\n",
              "      <td>...</td>\n",
              "      <td>...</td>\n",
              "      <td>...</td>\n",
              "      <td>...</td>\n",
              "      <td>...</td>\n",
              "      <td>...</td>\n",
              "      <td>...</td>\n",
              "    </tr>\n",
              "    <tr>\n",
              "      <th>7038</th>\n",
              "      <td>9987-LUTYD</td>\n",
              "      <td>Não</td>\n",
              "      <td>Feminino</td>\n",
              "      <td>Não</td>\n",
              "      <td>Não</td>\n",
              "      <td>Não</td>\n",
              "      <td>13</td>\n",
              "      <td>Sim</td>\n",
              "      <td>Não</td>\n",
              "      <td>DSL</td>\n",
              "      <td>...</td>\n",
              "      <td>Não</td>\n",
              "      <td>Sim</td>\n",
              "      <td>Não</td>\n",
              "      <td>Não</td>\n",
              "      <td>Anual</td>\n",
              "      <td>Não</td>\n",
              "      <td>Cheque enviado</td>\n",
              "      <td>55.15</td>\n",
              "      <td>742.90</td>\n",
              "      <td>1.84</td>\n",
              "    </tr>\n",
              "    <tr>\n",
              "      <th>7039</th>\n",
              "      <td>9992-RRAMN</td>\n",
              "      <td>Sim</td>\n",
              "      <td>Masculino</td>\n",
              "      <td>Não</td>\n",
              "      <td>Sim</td>\n",
              "      <td>Não</td>\n",
              "      <td>22</td>\n",
              "      <td>Sim</td>\n",
              "      <td>Sim</td>\n",
              "      <td>Fibra óptica</td>\n",
              "      <td>...</td>\n",
              "      <td>Não</td>\n",
              "      <td>Não</td>\n",
              "      <td>Não</td>\n",
              "      <td>Sim</td>\n",
              "      <td>Mensal</td>\n",
              "      <td>Sim</td>\n",
              "      <td>Cheque eletrônico</td>\n",
              "      <td>85.10</td>\n",
              "      <td>1873.70</td>\n",
              "      <td>2.84</td>\n",
              "    </tr>\n",
              "    <tr>\n",
              "      <th>7040</th>\n",
              "      <td>9992-UJOEL</td>\n",
              "      <td>Não</td>\n",
              "      <td>Masculino</td>\n",
              "      <td>Não</td>\n",
              "      <td>Não</td>\n",
              "      <td>Não</td>\n",
              "      <td>2</td>\n",
              "      <td>Sim</td>\n",
              "      <td>Não</td>\n",
              "      <td>DSL</td>\n",
              "      <td>...</td>\n",
              "      <td>Não</td>\n",
              "      <td>Não</td>\n",
              "      <td>Não</td>\n",
              "      <td>Não</td>\n",
              "      <td>Mensal</td>\n",
              "      <td>Sim</td>\n",
              "      <td>Cheque enviado</td>\n",
              "      <td>50.30</td>\n",
              "      <td>92.75</td>\n",
              "      <td>1.68</td>\n",
              "    </tr>\n",
              "    <tr>\n",
              "      <th>7041</th>\n",
              "      <td>9993-LHIEB</td>\n",
              "      <td>Não</td>\n",
              "      <td>Masculino</td>\n",
              "      <td>Não</td>\n",
              "      <td>Sim</td>\n",
              "      <td>Sim</td>\n",
              "      <td>67</td>\n",
              "      <td>Sim</td>\n",
              "      <td>Não</td>\n",
              "      <td>DSL</td>\n",
              "      <td>...</td>\n",
              "      <td>Sim</td>\n",
              "      <td>Sim</td>\n",
              "      <td>Não</td>\n",
              "      <td>Sim</td>\n",
              "      <td>Dois anos</td>\n",
              "      <td>Não</td>\n",
              "      <td>Cheque enviado</td>\n",
              "      <td>67.85</td>\n",
              "      <td>4627.65</td>\n",
              "      <td>2.26</td>\n",
              "    </tr>\n",
              "    <tr>\n",
              "      <th>7042</th>\n",
              "      <td>9995-HOTOH</td>\n",
              "      <td>Não</td>\n",
              "      <td>Masculino</td>\n",
              "      <td>Não</td>\n",
              "      <td>Sim</td>\n",
              "      <td>Sim</td>\n",
              "      <td>63</td>\n",
              "      <td>Não</td>\n",
              "      <td>Sem serviço telefônico</td>\n",
              "      <td>DSL</td>\n",
              "      <td>...</td>\n",
              "      <td>Sim</td>\n",
              "      <td>Não</td>\n",
              "      <td>Sim</td>\n",
              "      <td>Sim</td>\n",
              "      <td>Dois anos</td>\n",
              "      <td>Não</td>\n",
              "      <td>Cheque eletrônico</td>\n",
              "      <td>59.00</td>\n",
              "      <td>3707.60</td>\n",
              "      <td>1.97</td>\n",
              "    </tr>\n",
              "  </tbody>\n",
              "</table>\n",
              "<p>7043 rows × 22 columns</p>\n",
              "</div>\n",
              "      <button class=\"colab-df-convert\" onclick=\"convertToInteractive('df-90a0fe7c-6e54-44ed-bfab-84f78b8d5aa4')\"\n",
              "              title=\"Convert this dataframe to an interactive table.\"\n",
              "              style=\"display:none;\">\n",
              "        \n",
              "  <svg xmlns=\"http://www.w3.org/2000/svg\" height=\"24px\"viewBox=\"0 0 24 24\"\n",
              "       width=\"24px\">\n",
              "    <path d=\"M0 0h24v24H0V0z\" fill=\"none\"/>\n",
              "    <path d=\"M18.56 5.44l.94 2.06.94-2.06 2.06-.94-2.06-.94-.94-2.06-.94 2.06-2.06.94zm-11 1L8.5 8.5l.94-2.06 2.06-.94-2.06-.94L8.5 2.5l-.94 2.06-2.06.94zm10 10l.94 2.06.94-2.06 2.06-.94-2.06-.94-.94-2.06-.94 2.06-2.06.94z\"/><path d=\"M17.41 7.96l-1.37-1.37c-.4-.4-.92-.59-1.43-.59-.52 0-1.04.2-1.43.59L10.3 9.45l-7.72 7.72c-.78.78-.78 2.05 0 2.83L4 21.41c.39.39.9.59 1.41.59.51 0 1.02-.2 1.41-.59l7.78-7.78 2.81-2.81c.8-.78.8-2.07 0-2.86zM5.41 20L4 18.59l7.72-7.72 1.47 1.35L5.41 20z\"/>\n",
              "  </svg>\n",
              "      </button>\n",
              "      \n",
              "  <style>\n",
              "    .colab-df-container {\n",
              "      display:flex;\n",
              "      flex-wrap:wrap;\n",
              "      gap: 12px;\n",
              "    }\n",
              "\n",
              "    .colab-df-convert {\n",
              "      background-color: #E8F0FE;\n",
              "      border: none;\n",
              "      border-radius: 50%;\n",
              "      cursor: pointer;\n",
              "      display: none;\n",
              "      fill: #1967D2;\n",
              "      height: 32px;\n",
              "      padding: 0 0 0 0;\n",
              "      width: 32px;\n",
              "    }\n",
              "\n",
              "    .colab-df-convert:hover {\n",
              "      background-color: #E2EBFA;\n",
              "      box-shadow: 0px 1px 2px rgba(60, 64, 67, 0.3), 0px 1px 3px 1px rgba(60, 64, 67, 0.15);\n",
              "      fill: #174EA6;\n",
              "    }\n",
              "\n",
              "    [theme=dark] .colab-df-convert {\n",
              "      background-color: #3B4455;\n",
              "      fill: #D2E3FC;\n",
              "    }\n",
              "\n",
              "    [theme=dark] .colab-df-convert:hover {\n",
              "      background-color: #434B5C;\n",
              "      box-shadow: 0px 1px 3px 1px rgba(0, 0, 0, 0.15);\n",
              "      filter: drop-shadow(0px 1px 2px rgba(0, 0, 0, 0.3));\n",
              "      fill: #FFFFFF;\n",
              "    }\n",
              "  </style>\n",
              "\n",
              "      <script>\n",
              "        const buttonEl =\n",
              "          document.querySelector('#df-90a0fe7c-6e54-44ed-bfab-84f78b8d5aa4 button.colab-df-convert');\n",
              "        buttonEl.style.display =\n",
              "          google.colab.kernel.accessAllowed ? 'block' : 'none';\n",
              "\n",
              "        async function convertToInteractive(key) {\n",
              "          const element = document.querySelector('#df-90a0fe7c-6e54-44ed-bfab-84f78b8d5aa4');\n",
              "          const dataTable =\n",
              "            await google.colab.kernel.invokeFunction('convertToInteractive',\n",
              "                                                     [key], {});\n",
              "          if (!dataTable) return;\n",
              "\n",
              "          const docLinkHtml = 'Like what you see? Visit the ' +\n",
              "            '<a target=\"_blank\" href=https://colab.research.google.com/notebooks/data_table.ipynb>data table notebook</a>'\n",
              "            + ' to learn more about interactive tables.';\n",
              "          element.innerHTML = '';\n",
              "          dataTable['output_type'] = 'display_data';\n",
              "          await google.colab.output.renderOutput(dataTable, element);\n",
              "          const docLink = document.createElement('div');\n",
              "          docLink.innerHTML = docLinkHtml;\n",
              "          element.appendChild(docLink);\n",
              "        }\n",
              "      </script>\n",
              "    </div>\n",
              "  </div>\n",
              "  "
            ]
          },
          "metadata": {},
          "execution_count": 32
        }
      ]
    },
    {
      "cell_type": "markdown",
      "source": [
        "# **Minha** analise"
      ],
      "metadata": {
        "id": "f_v8qN0KJNTh"
      }
    },
    {
      "cell_type": "markdown",
      "source": [
        "# Analise Churn Sim, ou seja pessoas que sairam da empresa"
      ],
      "metadata": {
        "id": "_AcDly4810s-"
      }
    },
    {
      "cell_type": "code",
      "source": [
        "churn_sim = df[df.Churn == \"Sim\"]\n",
        "churn_sim.shape"
      ],
      "metadata": {
        "colab": {
          "base_uri": "https://localhost:8080/"
        },
        "id": "PFAVyEM58IzL",
        "outputId": "373ae335-062b-4137-ed4d-8584d046cecb"
      },
      "execution_count": null,
      "outputs": [
        {
          "output_type": "execute_result",
          "data": {
            "text/plain": [
              "(1869, 22)"
            ]
          },
          "metadata": {},
          "execution_count": 14
        }
      ]
    },
    {
      "cell_type": "code",
      "source": [
        "churn_nao = df[df.Churn == \"Não\"]\n",
        "churn_nao.shape"
      ],
      "metadata": {
        "colab": {
          "base_uri": "https://localhost:8080/"
        },
        "id": "dCD_cFu1_QsJ",
        "outputId": "e5ccdf4b-fc11-4f2d-c8af-084b35bb8af3"
      },
      "execution_count": null,
      "outputs": [
        {
          "output_type": "execute_result",
          "data": {
            "text/plain": [
              "(5174, 22)"
            ]
          },
          "metadata": {},
          "execution_count": 15
        }
      ]
    },
    {
      "cell_type": "code",
      "source": [
        "churn_sim.head(3)"
      ],
      "metadata": {
        "colab": {
          "base_uri": "https://localhost:8080/",
          "height": 272
        },
        "id": "IO2bw1YLAj2l",
        "outputId": "b6dd9406-d4a5-4343-e649-6dd445725ed7"
      },
      "execution_count": null,
      "outputs": [
        {
          "output_type": "execute_result",
          "data": {
            "text/plain": [
              "   ID_Cliente Churn     Gênero Idoso Parceiro Dependentes  Tempo_de_Contrato  \\\n",
              "2  0004-TLHLJ   Sim  Masculino   Não      Não         Não                  4   \n",
              "3  0011-IGKFF   Sim  Masculino   Sim      Sim         Não                 13   \n",
              "4  0013-EXCHZ   Sim   Feminino   Sim      Sim         Não                  3   \n",
              "\n",
              "  Serviço_Telefônico Linhas_Múltiplas Serviço_Internet  ...  \\\n",
              "2                Sim              Não     Fibra óptica  ...   \n",
              "3                Sim              Não     Fibra óptica  ...   \n",
              "4                Sim              Não     Fibra óptica  ...   \n",
              "\n",
              "  Proteção_de_Dispositivo Suporte_Técnico Streaming_TV Streaming_de_Filmes  \\\n",
              "2                     Sim             Não          Não                 Não   \n",
              "3                     Sim             Não          Sim                 Sim   \n",
              "4                     Não             Sim          Sim                 Não   \n",
              "\n",
              "  Contrato Cobrança_Digital Método_de_Pagamento Cobrança_Mensal  \\\n",
              "2   Mensal              Sim   Cheque eletrônico            73.9   \n",
              "3   Mensal              Sim   Cheque eletrônico            98.0   \n",
              "4   Mensal              Sim      Cheque enviado            83.9   \n",
              "\n",
              "  Cobrança_Total  Contas_Diárias  \n",
              "2         280.85            2.46  \n",
              "3        1237.85            3.27  \n",
              "4         267.40            2.80  \n",
              "\n",
              "[3 rows x 22 columns]"
            ],
            "text/html": [
              "\n",
              "  <div id=\"df-c60ae3e4-068f-46ac-aac2-425b9aefe285\">\n",
              "    <div class=\"colab-df-container\">\n",
              "      <div>\n",
              "<style scoped>\n",
              "    .dataframe tbody tr th:only-of-type {\n",
              "        vertical-align: middle;\n",
              "    }\n",
              "\n",
              "    .dataframe tbody tr th {\n",
              "        vertical-align: top;\n",
              "    }\n",
              "\n",
              "    .dataframe thead th {\n",
              "        text-align: right;\n",
              "    }\n",
              "</style>\n",
              "<table border=\"1\" class=\"dataframe\">\n",
              "  <thead>\n",
              "    <tr style=\"text-align: right;\">\n",
              "      <th></th>\n",
              "      <th>ID_Cliente</th>\n",
              "      <th>Churn</th>\n",
              "      <th>Gênero</th>\n",
              "      <th>Idoso</th>\n",
              "      <th>Parceiro</th>\n",
              "      <th>Dependentes</th>\n",
              "      <th>Tempo_de_Contrato</th>\n",
              "      <th>Serviço_Telefônico</th>\n",
              "      <th>Linhas_Múltiplas</th>\n",
              "      <th>Serviço_Internet</th>\n",
              "      <th>...</th>\n",
              "      <th>Proteção_de_Dispositivo</th>\n",
              "      <th>Suporte_Técnico</th>\n",
              "      <th>Streaming_TV</th>\n",
              "      <th>Streaming_de_Filmes</th>\n",
              "      <th>Contrato</th>\n",
              "      <th>Cobrança_Digital</th>\n",
              "      <th>Método_de_Pagamento</th>\n",
              "      <th>Cobrança_Mensal</th>\n",
              "      <th>Cobrança_Total</th>\n",
              "      <th>Contas_Diárias</th>\n",
              "    </tr>\n",
              "  </thead>\n",
              "  <tbody>\n",
              "    <tr>\n",
              "      <th>2</th>\n",
              "      <td>0004-TLHLJ</td>\n",
              "      <td>Sim</td>\n",
              "      <td>Masculino</td>\n",
              "      <td>Não</td>\n",
              "      <td>Não</td>\n",
              "      <td>Não</td>\n",
              "      <td>4</td>\n",
              "      <td>Sim</td>\n",
              "      <td>Não</td>\n",
              "      <td>Fibra óptica</td>\n",
              "      <td>...</td>\n",
              "      <td>Sim</td>\n",
              "      <td>Não</td>\n",
              "      <td>Não</td>\n",
              "      <td>Não</td>\n",
              "      <td>Mensal</td>\n",
              "      <td>Sim</td>\n",
              "      <td>Cheque eletrônico</td>\n",
              "      <td>73.9</td>\n",
              "      <td>280.85</td>\n",
              "      <td>2.46</td>\n",
              "    </tr>\n",
              "    <tr>\n",
              "      <th>3</th>\n",
              "      <td>0011-IGKFF</td>\n",
              "      <td>Sim</td>\n",
              "      <td>Masculino</td>\n",
              "      <td>Sim</td>\n",
              "      <td>Sim</td>\n",
              "      <td>Não</td>\n",
              "      <td>13</td>\n",
              "      <td>Sim</td>\n",
              "      <td>Não</td>\n",
              "      <td>Fibra óptica</td>\n",
              "      <td>...</td>\n",
              "      <td>Sim</td>\n",
              "      <td>Não</td>\n",
              "      <td>Sim</td>\n",
              "      <td>Sim</td>\n",
              "      <td>Mensal</td>\n",
              "      <td>Sim</td>\n",
              "      <td>Cheque eletrônico</td>\n",
              "      <td>98.0</td>\n",
              "      <td>1237.85</td>\n",
              "      <td>3.27</td>\n",
              "    </tr>\n",
              "    <tr>\n",
              "      <th>4</th>\n",
              "      <td>0013-EXCHZ</td>\n",
              "      <td>Sim</td>\n",
              "      <td>Feminino</td>\n",
              "      <td>Sim</td>\n",
              "      <td>Sim</td>\n",
              "      <td>Não</td>\n",
              "      <td>3</td>\n",
              "      <td>Sim</td>\n",
              "      <td>Não</td>\n",
              "      <td>Fibra óptica</td>\n",
              "      <td>...</td>\n",
              "      <td>Não</td>\n",
              "      <td>Sim</td>\n",
              "      <td>Sim</td>\n",
              "      <td>Não</td>\n",
              "      <td>Mensal</td>\n",
              "      <td>Sim</td>\n",
              "      <td>Cheque enviado</td>\n",
              "      <td>83.9</td>\n",
              "      <td>267.40</td>\n",
              "      <td>2.80</td>\n",
              "    </tr>\n",
              "  </tbody>\n",
              "</table>\n",
              "<p>3 rows × 22 columns</p>\n",
              "</div>\n",
              "      <button class=\"colab-df-convert\" onclick=\"convertToInteractive('df-c60ae3e4-068f-46ac-aac2-425b9aefe285')\"\n",
              "              title=\"Convert this dataframe to an interactive table.\"\n",
              "              style=\"display:none;\">\n",
              "        \n",
              "  <svg xmlns=\"http://www.w3.org/2000/svg\" height=\"24px\"viewBox=\"0 0 24 24\"\n",
              "       width=\"24px\">\n",
              "    <path d=\"M0 0h24v24H0V0z\" fill=\"none\"/>\n",
              "    <path d=\"M18.56 5.44l.94 2.06.94-2.06 2.06-.94-2.06-.94-.94-2.06-.94 2.06-2.06.94zm-11 1L8.5 8.5l.94-2.06 2.06-.94-2.06-.94L8.5 2.5l-.94 2.06-2.06.94zm10 10l.94 2.06.94-2.06 2.06-.94-2.06-.94-.94-2.06-.94 2.06-2.06.94z\"/><path d=\"M17.41 7.96l-1.37-1.37c-.4-.4-.92-.59-1.43-.59-.52 0-1.04.2-1.43.59L10.3 9.45l-7.72 7.72c-.78.78-.78 2.05 0 2.83L4 21.41c.39.39.9.59 1.41.59.51 0 1.02-.2 1.41-.59l7.78-7.78 2.81-2.81c.8-.78.8-2.07 0-2.86zM5.41 20L4 18.59l7.72-7.72 1.47 1.35L5.41 20z\"/>\n",
              "  </svg>\n",
              "      </button>\n",
              "      \n",
              "  <style>\n",
              "    .colab-df-container {\n",
              "      display:flex;\n",
              "      flex-wrap:wrap;\n",
              "      gap: 12px;\n",
              "    }\n",
              "\n",
              "    .colab-df-convert {\n",
              "      background-color: #E8F0FE;\n",
              "      border: none;\n",
              "      border-radius: 50%;\n",
              "      cursor: pointer;\n",
              "      display: none;\n",
              "      fill: #1967D2;\n",
              "      height: 32px;\n",
              "      padding: 0 0 0 0;\n",
              "      width: 32px;\n",
              "    }\n",
              "\n",
              "    .colab-df-convert:hover {\n",
              "      background-color: #E2EBFA;\n",
              "      box-shadow: 0px 1px 2px rgba(60, 64, 67, 0.3), 0px 1px 3px 1px rgba(60, 64, 67, 0.15);\n",
              "      fill: #174EA6;\n",
              "    }\n",
              "\n",
              "    [theme=dark] .colab-df-convert {\n",
              "      background-color: #3B4455;\n",
              "      fill: #D2E3FC;\n",
              "    }\n",
              "\n",
              "    [theme=dark] .colab-df-convert:hover {\n",
              "      background-color: #434B5C;\n",
              "      box-shadow: 0px 1px 3px 1px rgba(0, 0, 0, 0.15);\n",
              "      filter: drop-shadow(0px 1px 2px rgba(0, 0, 0, 0.3));\n",
              "      fill: #FFFFFF;\n",
              "    }\n",
              "  </style>\n",
              "\n",
              "      <script>\n",
              "        const buttonEl =\n",
              "          document.querySelector('#df-c60ae3e4-068f-46ac-aac2-425b9aefe285 button.colab-df-convert');\n",
              "        buttonEl.style.display =\n",
              "          google.colab.kernel.accessAllowed ? 'block' : 'none';\n",
              "\n",
              "        async function convertToInteractive(key) {\n",
              "          const element = document.querySelector('#df-c60ae3e4-068f-46ac-aac2-425b9aefe285');\n",
              "          const dataTable =\n",
              "            await google.colab.kernel.invokeFunction('convertToInteractive',\n",
              "                                                     [key], {});\n",
              "          if (!dataTable) return;\n",
              "\n",
              "          const docLinkHtml = 'Like what you see? Visit the ' +\n",
              "            '<a target=\"_blank\" href=https://colab.research.google.com/notebooks/data_table.ipynb>data table notebook</a>'\n",
              "            + ' to learn more about interactive tables.';\n",
              "          element.innerHTML = '';\n",
              "          dataTable['output_type'] = 'display_data';\n",
              "          await google.colab.output.renderOutput(dataTable, element);\n",
              "          const docLink = document.createElement('div');\n",
              "          docLink.innerHTML = docLinkHtml;\n",
              "          element.appendChild(docLink);\n",
              "        }\n",
              "      </script>\n",
              "    </div>\n",
              "  </div>\n",
              "  "
            ]
          },
          "metadata": {},
          "execution_count": 16
        }
      ]
    },
    {
      "cell_type": "markdown",
      "source": [
        "##Analise tempo de contrato para Churn = sim, ou seja que sairam da empresa."
      ],
      "metadata": {
        "id": "PaKsgaTZERD-"
      }
    },
    {
      "cell_type": "code",
      "source": [
        "churn_sim.Tempo_de_Contrato.describe()\n",
        "\n"
      ],
      "metadata": {
        "colab": {
          "base_uri": "https://localhost:8080/"
        },
        "id": "sPopqxIfArvF",
        "outputId": "192cc801-2910-4a74-d697-5e08fbce3797"
      },
      "execution_count": null,
      "outputs": [
        {
          "output_type": "execute_result",
          "data": {
            "text/plain": [
              "count    1869.000000\n",
              "mean       17.979133\n",
              "std        19.531123\n",
              "min         1.000000\n",
              "25%         2.000000\n",
              "50%        10.000000\n",
              "75%        29.000000\n",
              "max        72.000000\n",
              "Name: Tempo_de_Contrato, dtype: float64"
            ]
          },
          "metadata": {},
          "execution_count": 17
        }
      ]
    },
    {
      "cell_type": "markdown",
      "source": [
        "###Grafico Tempo de contrato"
      ],
      "metadata": {
        "id": "l4J3fi3U2zRi"
      }
    },
    {
      "cell_type": "code",
      "source": [
        "churn_sim.Tempo_de_Contrato.value_counts().plot(kind = 'pie', autopct='%.2f%%')\n",
        "\n"
      ],
      "metadata": {
        "colab": {
          "base_uri": "https://localhost:8080/",
          "height": 265
        },
        "id": "kjyzW9A4JE_g",
        "outputId": "ee5fa452-d48c-42c0-841a-522b137b7d55"
      },
      "execution_count": null,
      "outputs": [
        {
          "output_type": "execute_result",
          "data": {
            "text/plain": [
              "<matplotlib.axes._subplots.AxesSubplot at 0x7ffa8088f190>"
            ]
          },
          "metadata": {},
          "execution_count": 18
        },
        {
          "output_type": "display_data",
          "data": {
            "text/plain": [
              "<Figure size 432x288 with 1 Axes>"
            ],
            "image/png": "[encoded data removed]"
          },
          "metadata": {}
        }
      ]
    },
    {
      "cell_type": "markdown",
      "source": [
        "> 20 % (maior valor dos qe sairam da empresa, tinham 1 mes de contratos quando resolveram sair)."
      ],
      "metadata": {
        "id": "I-xSQyMdVcVG"
      }
    },
    {
      "cell_type": "code",
      "source": [
        "cont_tempo_contrato = churn_sim.Tempo_de_Contrato.value_counts()\n",
        "cont_tempo_contrato\n"
      ],
      "metadata": {
        "colab": {
          "base_uri": "https://localhost:8080/"
        },
        "id": "yOF4wRvZCehA",
        "outputId": "d0d46e4d-dd19-4f6c-aa93-742d8fdc6cb7"
      },
      "execution_count": null,
      "outputs": [
        {
          "output_type": "execute_result",
          "data": {
            "text/plain": [
              "1     380\n",
              "2     123\n",
              "3      94\n",
              "4      83\n",
              "5      64\n",
              "     ... \n",
              "45      6\n",
              "44      6\n",
              "62      5\n",
              "63      4\n",
              "64      4\n",
              "Name: Tempo_de_Contrato, Length: 72, dtype: int64"
            ]
          },
          "metadata": {},
          "execution_count": 19
        }
      ]
    },
    {
      "cell_type": "code",
      "source": [
        "analise_contrato = cont_tempo_contrato / len(churn_sim.Tempo_de_Contrato)\n",
        "analise_contrato"
      ],
      "metadata": {
        "colab": {
          "base_uri": "https://localhost:8080/"
        },
        "id": "WpUGWfvwFu7d",
        "outputId": "dc7b2dbf-3d56-41c5-bdbc-b652eb22876a"
      },
      "execution_count": null,
      "outputs": [
        {
          "output_type": "execute_result",
          "data": {
            "text/plain": [
              "1     0.203317\n",
              "2     0.065811\n",
              "3     0.050294\n",
              "4     0.044409\n",
              "5     0.034243\n",
              "        ...   \n",
              "45    0.003210\n",
              "44    0.003210\n",
              "62    0.002675\n",
              "63    0.002140\n",
              "64    0.002140\n",
              "Name: Tempo_de_Contrato, Length: 72, dtype: float64"
            ]
          },
          "metadata": {},
          "execution_count": 20
        }
      ]
    },
    {
      "cell_type": "code",
      "source": [
        "analise_contrato = pd.DataFrame(analise_contrato)\n",
        "analise_contrato"
      ],
      "metadata": {
        "colab": {
          "base_uri": "https://localhost:8080/",
          "height": 424
        },
        "id": "O51tIwZjsZtj",
        "outputId": "ea505da2-e8f6-4f2d-ff29-a7f88b163cab"
      },
      "execution_count": null,
      "outputs": [
        {
          "output_type": "execute_result",
          "data": {
            "text/plain": [
              "    Tempo_de_Contrato\n",
              "1            0.203317\n",
              "2            0.065811\n",
              "3            0.050294\n",
              "4            0.044409\n",
              "5            0.034243\n",
              "..                ...\n",
              "45           0.003210\n",
              "44           0.003210\n",
              "62           0.002675\n",
              "63           0.002140\n",
              "64           0.002140\n",
              "\n",
              "[72 rows x 1 columns]"
            ],
            "text/html": [
              "\n",
              "  <div id=\"df-73bbebb5-6f52-4f02-8ac2-426314add8c6\">\n",
              "    <div class=\"colab-df-container\">\n",
              "      <div>\n",
              "<style scoped>\n",
              "    .dataframe tbody tr th:only-of-type {\n",
              "        vertical-align: middle;\n",
              "    }\n",
              "\n",
              "    .dataframe tbody tr th {\n",
              "        vertical-align: top;\n",
              "    }\n",
              "\n",
              "    .dataframe thead th {\n",
              "        text-align: right;\n",
              "    }\n",
              "</style>\n",
              "<table border=\"1\" class=\"dataframe\">\n",
              "  <thead>\n",
              "    <tr style=\"text-align: right;\">\n",
              "      <th></th>\n",
              "      <th>Tempo_de_Contrato</th>\n",
              "    </tr>\n",
              "  </thead>\n",
              "  <tbody>\n",
              "    <tr>\n",
              "      <th>1</th>\n",
              "      <td>0.203317</td>\n",
              "    </tr>\n",
              "    <tr>\n",
              "      <th>2</th>\n",
              "      <td>0.065811</td>\n",
              "    </tr>\n",
              "    <tr>\n",
              "      <th>3</th>\n",
              "      <td>0.050294</td>\n",
              "    </tr>\n",
              "    <tr>\n",
              "      <th>4</th>\n",
              "      <td>0.044409</td>\n",
              "    </tr>\n",
              "    <tr>\n",
              "      <th>5</th>\n",
              "      <td>0.034243</td>\n",
              "    </tr>\n",
              "    <tr>\n",
              "      <th>...</th>\n",
              "      <td>...</td>\n",
              "    </tr>\n",
              "    <tr>\n",
              "      <th>45</th>\n",
              "      <td>0.003210</td>\n",
              "    </tr>\n",
              "    <tr>\n",
              "      <th>44</th>\n",
              "      <td>0.003210</td>\n",
              "    </tr>\n",
              "    <tr>\n",
              "      <th>62</th>\n",
              "      <td>0.002675</td>\n",
              "    </tr>\n",
              "    <tr>\n",
              "      <th>63</th>\n",
              "      <td>0.002140</td>\n",
              "    </tr>\n",
              "    <tr>\n",
              "      <th>64</th>\n",
              "      <td>0.002140</td>\n",
              "    </tr>\n",
              "  </tbody>\n",
              "</table>\n",
              "<p>72 rows × 1 columns</p>\n",
              "</div>\n",
              "      <button class=\"colab-df-convert\" onclick=\"convertToInteractive('df-73bbebb5-6f52-4f02-8ac2-426314add8c6')\"\n",
              "              title=\"Convert this dataframe to an interactive table.\"\n",
              "              style=\"display:none;\">\n",
              "        \n",
              "  <svg xmlns=\"http://www.w3.org/2000/svg\" height=\"24px\"viewBox=\"0 0 24 24\"\n",
              "       width=\"24px\">\n",
              "    <path d=\"M0 0h24v24H0V0z\" fill=\"none\"/>\n",
              "    <path d=\"M18.56 5.44l.94 2.06.94-2.06 2.06-.94-2.06-.94-.94-2.06-.94 2.06-2.06.94zm-11 1L8.5 8.5l.94-2.06 2.06-.94-2.06-.94L8.5 2.5l-.94 2.06-2.06.94zm10 10l.94 2.06.94-2.06 2.06-.94-2.06-.94-.94-2.06-.94 2.06-2.06.94z\"/><path d=\"M17.41 7.96l-1.37-1.37c-.4-.4-.92-.59-1.43-.59-.52 0-1.04.2-1.43.59L10.3 9.45l-7.72 7.72c-.78.78-.78 2.05 0 2.83L4 21.41c.39.39.9.59 1.41.59.51 0 1.02-.2 1.41-.59l7.78-7.78 2.81-2.81c.8-.78.8-2.07 0-2.86zM5.41 20L4 18.59l7.72-7.72 1.47 1.35L5.41 20z\"/>\n",
              "  </svg>\n",
              "      </button>\n",
              "      \n",
              "  <style>\n",
              "    .colab-df-container {\n",
              "      display:flex;\n",
              "      flex-wrap:wrap;\n",
              "      gap: 12px;\n",
              "    }\n",
              "\n",
              "    .colab-df-convert {\n",
              "      background-color: #E8F0FE;\n",
              "      border: none;\n",
              "      border-radius: 50%;\n",
              "      cursor: pointer;\n",
              "      display: none;\n",
              "      fill: #1967D2;\n",
              "      height: 32px;\n",
              "      padding: 0 0 0 0;\n",
              "      width: 32px;\n",
              "    }\n",
              "\n",
              "    .colab-df-convert:hover {\n",
              "      background-color: #E2EBFA;\n",
              "      box-shadow: 0px 1px 2px rgba(60, 64, 67, 0.3), 0px 1px 3px 1px rgba(60, 64, 67, 0.15);\n",
              "      fill: #174EA6;\n",
              "    }\n",
              "\n",
              "    [theme=dark] .colab-df-convert {\n",
              "      background-color: #3B4455;\n",
              "      fill: #D2E3FC;\n",
              "    }\n",
              "\n",
              "    [theme=dark] .colab-df-convert:hover {\n",
              "      background-color: #434B5C;\n",
              "      box-shadow: 0px 1px 3px 1px rgba(0, 0, 0, 0.15);\n",
              "      filter: drop-shadow(0px 1px 2px rgba(0, 0, 0, 0.3));\n",
              "      fill: #FFFFFF;\n",
              "    }\n",
              "  </style>\n",
              "\n",
              "      <script>\n",
              "        const buttonEl =\n",
              "          document.querySelector('#df-73bbebb5-6f52-4f02-8ac2-426314add8c6 button.colab-df-convert');\n",
              "        buttonEl.style.display =\n",
              "          google.colab.kernel.accessAllowed ? 'block' : 'none';\n",
              "\n",
              "        async function convertToInteractive(key) {\n",
              "          const element = document.querySelector('#df-73bbebb5-6f52-4f02-8ac2-426314add8c6');\n",
              "          const dataTable =\n",
              "            await google.colab.kernel.invokeFunction('convertToInteractive',\n",
              "                                                     [key], {});\n",
              "          if (!dataTable) return;\n",
              "\n",
              "          const docLinkHtml = 'Like what you see? Visit the ' +\n",
              "            '<a target=\"_blank\" href=https://colab.research.google.com/notebooks/data_table.ipynb>data table notebook</a>'\n",
              "            + ' to learn more about interactive tables.';\n",
              "          element.innerHTML = '';\n",
              "          dataTable['output_type'] = 'display_data';\n",
              "          await google.colab.output.renderOutput(dataTable, element);\n",
              "          const docLink = document.createElement('div');\n",
              "          docLink.innerHTML = docLinkHtml;\n",
              "          element.appendChild(docLink);\n",
              "        }\n",
              "      </script>\n",
              "    </div>\n",
              "  </div>\n",
              "  "
            ]
          },
          "metadata": {},
          "execution_count": 21
        }
      ]
    },
    {
      "cell_type": "code",
      "source": [
        "cont_tempo_contrato = pd.DataFrame(cont_tempo_contrato)\n",
        "cont_tempo_contrato\n"
      ],
      "metadata": {
        "colab": {
          "base_uri": "https://localhost:8080/",
          "height": 424
        },
        "id": "xOTfSb9DtJYu",
        "outputId": "97c4e1a4-2836-489d-d385-24609402c8e3"
      },
      "execution_count": null,
      "outputs": [
        {
          "output_type": "execute_result",
          "data": {
            "text/plain": [
              "    Tempo_de_Contrato\n",
              "1                 380\n",
              "2                 123\n",
              "3                  94\n",
              "4                  83\n",
              "5                  64\n",
              "..                ...\n",
              "45                  6\n",
              "44                  6\n",
              "62                  5\n",
              "63                  4\n",
              "64                  4\n",
              "\n",
              "[72 rows x 1 columns]"
            ],
            "text/html": [
              "\n",
              "  <div id=\"df-7c51820f-0525-4c3e-96e2-c5b74ff6dc11\">\n",
              "    <div class=\"colab-df-container\">\n",
              "      <div>\n",
              "<style scoped>\n",
              "    .dataframe tbody tr th:only-of-type {\n",
              "        vertical-align: middle;\n",
              "    }\n",
              "\n",
              "    .dataframe tbody tr th {\n",
              "        vertical-align: top;\n",
              "    }\n",
              "\n",
              "    .dataframe thead th {\n",
              "        text-align: right;\n",
              "    }\n",
              "</style>\n",
              "<table border=\"1\" class=\"dataframe\">\n",
              "  <thead>\n",
              "    <tr style=\"text-align: right;\">\n",
              "      <th></th>\n",
              "      <th>Tempo_de_Contrato</th>\n",
              "    </tr>\n",
              "  </thead>\n",
              "  <tbody>\n",
              "    <tr>\n",
              "      <th>1</th>\n",
              "      <td>380</td>\n",
              "    </tr>\n",
              "    <tr>\n",
              "      <th>2</th>\n",
              "      <td>123</td>\n",
              "    </tr>\n",
              "    <tr>\n",
              "      <th>3</th>\n",
              "      <td>94</td>\n",
              "    </tr>\n",
              "    <tr>\n",
              "      <th>4</th>\n",
              "      <td>83</td>\n",
              "    </tr>\n",
              "    <tr>\n",
              "      <th>5</th>\n",
              "      <td>64</td>\n",
              "    </tr>\n",
              "    <tr>\n",
              "      <th>...</th>\n",
              "      <td>...</td>\n",
              "    </tr>\n",
              "    <tr>\n",
              "      <th>45</th>\n",
              "      <td>6</td>\n",
              "    </tr>\n",
              "    <tr>\n",
              "      <th>44</th>\n",
              "      <td>6</td>\n",
              "    </tr>\n",
              "    <tr>\n",
              "      <th>62</th>\n",
              "      <td>5</td>\n",
              "    </tr>\n",
              "    <tr>\n",
              "      <th>63</th>\n",
              "      <td>4</td>\n",
              "    </tr>\n",
              "    <tr>\n",
              "      <th>64</th>\n",
              "      <td>4</td>\n",
              "    </tr>\n",
              "  </tbody>\n",
              "</table>\n",
              "<p>72 rows × 1 columns</p>\n",
              "</div>\n",
              "      <button class=\"colab-df-convert\" onclick=\"convertToInteractive('df-7c51820f-0525-4c3e-96e2-c5b74ff6dc11')\"\n",
              "              title=\"Convert this dataframe to an interactive table.\"\n",
              "              style=\"display:none;\">\n",
              "        \n",
              "  <svg xmlns=\"http://www.w3.org/2000/svg\" height=\"24px\"viewBox=\"0 0 24 24\"\n",
              "       width=\"24px\">\n",
              "    <path d=\"M0 0h24v24H0V0z\" fill=\"none\"/>\n",
              "    <path d=\"M18.56 5.44l.94 2.06.94-2.06 2.06-.94-2.06-.94-.94-2.06-.94 2.06-2.06.94zm-11 1L8.5 8.5l.94-2.06 2.06-.94-2.06-.94L8.5 2.5l-.94 2.06-2.06.94zm10 10l.94 2.06.94-2.06 2.06-.94-2.06-.94-.94-2.06-.94 2.06-2.06.94z\"/><path d=\"M17.41 7.96l-1.37-1.37c-.4-.4-.92-.59-1.43-.59-.52 0-1.04.2-1.43.59L10.3 9.45l-7.72 7.72c-.78.78-.78 2.05 0 2.83L4 21.41c.39.39.9.59 1.41.59.51 0 1.02-.2 1.41-.59l7.78-7.78 2.81-2.81c.8-.78.8-2.07 0-2.86zM5.41 20L4 18.59l7.72-7.72 1.47 1.35L5.41 20z\"/>\n",
              "  </svg>\n",
              "      </button>\n",
              "      \n",
              "  <style>\n",
              "    .colab-df-container {\n",
              "      display:flex;\n",
              "      flex-wrap:wrap;\n",
              "      gap: 12px;\n",
              "    }\n",
              "\n",
              "    .colab-df-convert {\n",
              "      background-color: #E8F0FE;\n",
              "      border: none;\n",
              "      border-radius: 50%;\n",
              "      cursor: pointer;\n",
              "      display: none;\n",
              "      fill: #1967D2;\n",
              "      height: 32px;\n",
              "      padding: 0 0 0 0;\n",
              "      width: 32px;\n",
              "    }\n",
              "\n",
              "    .colab-df-convert:hover {\n",
              "      background-color: #E2EBFA;\n",
              "      box-shadow: 0px 1px 2px rgba(60, 64, 67, 0.3), 0px 1px 3px 1px rgba(60, 64, 67, 0.15);\n",
              "      fill: #174EA6;\n",
              "    }\n",
              "\n",
              "    [theme=dark] .colab-df-convert {\n",
              "      background-color: #3B4455;\n",
              "      fill: #D2E3FC;\n",
              "    }\n",
              "\n",
              "    [theme=dark] .colab-df-convert:hover {\n",
              "      background-color: #434B5C;\n",
              "      box-shadow: 0px 1px 3px 1px rgba(0, 0, 0, 0.15);\n",
              "      filter: drop-shadow(0px 1px 2px rgba(0, 0, 0, 0.3));\n",
              "      fill: #FFFFFF;\n",
              "    }\n",
              "  </style>\n",
              "\n",
              "      <script>\n",
              "        const buttonEl =\n",
              "          document.querySelector('#df-7c51820f-0525-4c3e-96e2-c5b74ff6dc11 button.colab-df-convert');\n",
              "        buttonEl.style.display =\n",
              "          google.colab.kernel.accessAllowed ? 'block' : 'none';\n",
              "\n",
              "        async function convertToInteractive(key) {\n",
              "          const element = document.querySelector('#df-7c51820f-0525-4c3e-96e2-c5b74ff6dc11');\n",
              "          const dataTable =\n",
              "            await google.colab.kernel.invokeFunction('convertToInteractive',\n",
              "                                                     [key], {});\n",
              "          if (!dataTable) return;\n",
              "\n",
              "          const docLinkHtml = 'Like what you see? Visit the ' +\n",
              "            '<a target=\"_blank\" href=https://colab.research.google.com/notebooks/data_table.ipynb>data table notebook</a>'\n",
              "            + ' to learn more about interactive tables.';\n",
              "          element.innerHTML = '';\n",
              "          dataTable['output_type'] = 'display_data';\n",
              "          await google.colab.output.renderOutput(dataTable, element);\n",
              "          const docLink = document.createElement('div');\n",
              "          docLink.innerHTML = docLinkHtml;\n",
              "          element.appendChild(docLink);\n",
              "        }\n",
              "      </script>\n",
              "    </div>\n",
              "  </div>\n",
              "  "
            ]
          },
          "metadata": {},
          "execution_count": 22
        }
      ]
    },
    {
      "cell_type": "code",
      "source": [
        "Contrato_analise = pd.concat([cont_tempo_contrato, analise_contrato],axis=1)\n",
        "Contrato_analise"
      ],
      "metadata": {
        "colab": {
          "base_uri": "https://localhost:8080/",
          "height": 424
        },
        "id": "m1sZRBMXtkNI",
        "outputId": "52c27d21-db42-454f-95a2-e033296feb8c"
      },
      "execution_count": null,
      "outputs": [
        {
          "output_type": "execute_result",
          "data": {
            "text/plain": [
              "    Tempo_de_Contrato  Tempo_de_Contrato\n",
              "1                 380           0.203317\n",
              "2                 123           0.065811\n",
              "3                  94           0.050294\n",
              "4                  83           0.044409\n",
              "5                  64           0.034243\n",
              "..                ...                ...\n",
              "45                  6           0.003210\n",
              "44                  6           0.003210\n",
              "62                  5           0.002675\n",
              "63                  4           0.002140\n",
              "64                  4           0.002140\n",
              "\n",
              "[72 rows x 2 columns]"
            ],
            "text/html": [
              "\n",
              "  <div id=\"df-dc31c7d7-608d-47f2-a883-7c1a074e2a43\">\n",
              "    <div class=\"colab-df-container\">\n",
              "      <div>\n",
              "<style scoped>\n",
              "    .dataframe tbody tr th:only-of-type {\n",
              "        vertical-align: middle;\n",
              "    }\n",
              "\n",
              "    .dataframe tbody tr th {\n",
              "        vertical-align: top;\n",
              "    }\n",
              "\n",
              "    .dataframe thead th {\n",
              "        text-align: right;\n",
              "    }\n",
              "</style>\n",
              "<table border=\"1\" class=\"dataframe\">\n",
              "  <thead>\n",
              "    <tr style=\"text-align: right;\">\n",
              "      <th></th>\n",
              "      <th>Tempo_de_Contrato</th>\n",
              "      <th>Tempo_de_Contrato</th>\n",
              "    </tr>\n",
              "  </thead>\n",
              "  <tbody>\n",
              "    <tr>\n",
              "      <th>1</th>\n",
              "      <td>380</td>\n",
              "      <td>0.203317</td>\n",
              "    </tr>\n",
              "    <tr>\n",
              "      <th>2</th>\n",
              "      <td>123</td>\n",
              "      <td>0.065811</td>\n",
              "    </tr>\n",
              "    <tr>\n",
              "      <th>3</th>\n",
              "      <td>94</td>\n",
              "      <td>0.050294</td>\n",
              "    </tr>\n",
              "    <tr>\n",
              "      <th>4</th>\n",
              "      <td>83</td>\n",
              "      <td>0.044409</td>\n",
              "    </tr>\n",
              "    <tr>\n",
              "      <th>5</th>\n",
              "      <td>64</td>\n",
              "      <td>0.034243</td>\n",
              "    </tr>\n",
              "    <tr>\n",
              "      <th>...</th>\n",
              "      <td>...</td>\n",
              "      <td>...</td>\n",
              "    </tr>\n",
              "    <tr>\n",
              "      <th>45</th>\n",
              "      <td>6</td>\n",
              "      <td>0.003210</td>\n",
              "    </tr>\n",
              "    <tr>\n",
              "      <th>44</th>\n",
              "      <td>6</td>\n",
              "      <td>0.003210</td>\n",
              "    </tr>\n",
              "    <tr>\n",
              "      <th>62</th>\n",
              "      <td>5</td>\n",
              "      <td>0.002675</td>\n",
              "    </tr>\n",
              "    <tr>\n",
              "      <th>63</th>\n",
              "      <td>4</td>\n",
              "      <td>0.002140</td>\n",
              "    </tr>\n",
              "    <tr>\n",
              "      <th>64</th>\n",
              "      <td>4</td>\n",
              "      <td>0.002140</td>\n",
              "    </tr>\n",
              "  </tbody>\n",
              "</table>\n",
              "<p>72 rows × 2 columns</p>\n",
              "</div>\n",
              "      <button class=\"colab-df-convert\" onclick=\"convertToInteractive('df-dc31c7d7-608d-47f2-a883-7c1a074e2a43')\"\n",
              "              title=\"Convert this dataframe to an interactive table.\"\n",
              "              style=\"display:none;\">\n",
              "        \n",
              "  <svg xmlns=\"http://www.w3.org/2000/svg\" height=\"24px\"viewBox=\"0 0 24 24\"\n",
              "       width=\"24px\">\n",
              "    <path d=\"M0 0h24v24H0V0z\" fill=\"none\"/>\n",
              "    <path d=\"M18.56 5.44l.94 2.06.94-2.06 2.06-.94-2.06-.94-.94-2.06-.94 2.06-2.06.94zm-11 1L8.5 8.5l.94-2.06 2.06-.94-2.06-.94L8.5 2.5l-.94 2.06-2.06.94zm10 10l.94 2.06.94-2.06 2.06-.94-2.06-.94-.94-2.06-.94 2.06-2.06.94z\"/><path d=\"M17.41 7.96l-1.37-1.37c-.4-.4-.92-.59-1.43-.59-.52 0-1.04.2-1.43.59L10.3 9.45l-7.72 7.72c-.78.78-.78 2.05 0 2.83L4 21.41c.39.39.9.59 1.41.59.51 0 1.02-.2 1.41-.59l7.78-7.78 2.81-2.81c.8-.78.8-2.07 0-2.86zM5.41 20L4 18.59l7.72-7.72 1.47 1.35L5.41 20z\"/>\n",
              "  </svg>\n",
              "      </button>\n",
              "      \n",
              "  <style>\n",
              "    .colab-df-container {\n",
              "      display:flex;\n",
              "      flex-wrap:wrap;\n",
              "      gap: 12px;\n",
              "    }\n",
              "\n",
              "    .colab-df-convert {\n",
              "      background-color: #E8F0FE;\n",
              "      border: none;\n",
              "      border-radius: 50%;\n",
              "      cursor: pointer;\n",
              "      display: none;\n",
              "      fill: #1967D2;\n",
              "      height: 32px;\n",
              "      padding: 0 0 0 0;\n",
              "      width: 32px;\n",
              "    }\n",
              "\n",
              "    .colab-df-convert:hover {\n",
              "      background-color: #E2EBFA;\n",
              "      box-shadow: 0px 1px 2px rgba(60, 64, 67, 0.3), 0px 1px 3px 1px rgba(60, 64, 67, 0.15);\n",
              "      fill: #174EA6;\n",
              "    }\n",
              "\n",
              "    [theme=dark] .colab-df-convert {\n",
              "      background-color: #3B4455;\n",
              "      fill: #D2E3FC;\n",
              "    }\n",
              "\n",
              "    [theme=dark] .colab-df-convert:hover {\n",
              "      background-color: #434B5C;\n",
              "      box-shadow: 0px 1px 3px 1px rgba(0, 0, 0, 0.15);\n",
              "      filter: drop-shadow(0px 1px 2px rgba(0, 0, 0, 0.3));\n",
              "      fill: #FFFFFF;\n",
              "    }\n",
              "  </style>\n",
              "\n",
              "      <script>\n",
              "        const buttonEl =\n",
              "          document.querySelector('#df-dc31c7d7-608d-47f2-a883-7c1a074e2a43 button.colab-df-convert');\n",
              "        buttonEl.style.display =\n",
              "          google.colab.kernel.accessAllowed ? 'block' : 'none';\n",
              "\n",
              "        async function convertToInteractive(key) {\n",
              "          const element = document.querySelector('#df-dc31c7d7-608d-47f2-a883-7c1a074e2a43');\n",
              "          const dataTable =\n",
              "            await google.colab.kernel.invokeFunction('convertToInteractive',\n",
              "                                                     [key], {});\n",
              "          if (!dataTable) return;\n",
              "\n",
              "          const docLinkHtml = 'Like what you see? Visit the ' +\n",
              "            '<a target=\"_blank\" href=https://colab.research.google.com/notebooks/data_table.ipynb>data table notebook</a>'\n",
              "            + ' to learn more about interactive tables.';\n",
              "          element.innerHTML = '';\n",
              "          dataTable['output_type'] = 'display_data';\n",
              "          await google.colab.output.renderOutput(dataTable, element);\n",
              "          const docLink = document.createElement('div');\n",
              "          docLink.innerHTML = docLinkHtml;\n",
              "          element.appendChild(docLink);\n",
              "        }\n",
              "      </script>\n",
              "    </div>\n",
              "  </div>\n",
              "  "
            ]
          },
          "metadata": {},
          "execution_count": 23
        }
      ]
    },
    {
      "cell_type": "code",
      "source": [
        "#Contrato_analise.rename(columns= {'Tempo_de_Contrato':'Tempo_de_Contrato', 'Tempo_de_Contrato':'Porcentagem'}, inplace=True)\n",
        "Contrato_analise.columns = ['Tempo_de_Contrato','Porcentagem']\n",
        "Contrato_analise.Porcentagem = Contrato_analise.Porcentagem.round(2)"
      ],
      "metadata": {
        "id": "qQkRJbCft-Bz"
      },
      "execution_count": null,
      "outputs": []
    },
    {
      "cell_type": "code",
      "source": [
        "Contrato_analise"
      ],
      "metadata": {
        "colab": {
          "base_uri": "https://localhost:8080/",
          "height": 424
        },
        "id": "WP9oAhq8Wpjz",
        "outputId": "8d2e76e1-ad06-44f2-dd01-118309ec4912"
      },
      "execution_count": null,
      "outputs": [
        {
          "output_type": "execute_result",
          "data": {
            "text/plain": [
              "    Tempo_de_Contrato  Porcentagem\n",
              "1                 380         0.20\n",
              "2                 123         0.07\n",
              "3                  94         0.05\n",
              "4                  83         0.04\n",
              "5                  64         0.03\n",
              "..                ...          ...\n",
              "45                  6         0.00\n",
              "44                  6         0.00\n",
              "62                  5         0.00\n",
              "63                  4         0.00\n",
              "64                  4         0.00\n",
              "\n",
              "[72 rows x 2 columns]"
            ],
            "text/html": [
              "\n",
              "  <div id=\"df-1170c709-d8b2-40f5-8d32-ee6929bad809\">\n",
              "    <div class=\"colab-df-container\">\n",
              "      <div>\n",
              "<style scoped>\n",
              "    .dataframe tbody tr th:only-of-type {\n",
              "        vertical-align: middle;\n",
              "    }\n",
              "\n",
              "    .dataframe tbody tr th {\n",
              "        vertical-align: top;\n",
              "    }\n",
              "\n",
              "    .dataframe thead th {\n",
              "        text-align: right;\n",
              "    }\n",
              "</style>\n",
              "<table border=\"1\" class=\"dataframe\">\n",
              "  <thead>\n",
              "    <tr style=\"text-align: right;\">\n",
              "      <th></th>\n",
              "      <th>Tempo_de_Contrato</th>\n",
              "      <th>Porcentagem</th>\n",
              "    </tr>\n",
              "  </thead>\n",
              "  <tbody>\n",
              "    <tr>\n",
              "      <th>1</th>\n",
              "      <td>380</td>\n",
              "      <td>0.20</td>\n",
              "    </tr>\n",
              "    <tr>\n",
              "      <th>2</th>\n",
              "      <td>123</td>\n",
              "      <td>0.07</td>\n",
              "    </tr>\n",
              "    <tr>\n",
              "      <th>3</th>\n",
              "      <td>94</td>\n",
              "      <td>0.05</td>\n",
              "    </tr>\n",
              "    <tr>\n",
              "      <th>4</th>\n",
              "      <td>83</td>\n",
              "      <td>0.04</td>\n",
              "    </tr>\n",
              "    <tr>\n",
              "      <th>5</th>\n",
              "      <td>64</td>\n",
              "      <td>0.03</td>\n",
              "    </tr>\n",
              "    <tr>\n",
              "      <th>...</th>\n",
              "      <td>...</td>\n",
              "      <td>...</td>\n",
              "    </tr>\n",
              "    <tr>\n",
              "      <th>45</th>\n",
              "      <td>6</td>\n",
              "      <td>0.00</td>\n",
              "    </tr>\n",
              "    <tr>\n",
              "      <th>44</th>\n",
              "      <td>6</td>\n",
              "      <td>0.00</td>\n",
              "    </tr>\n",
              "    <tr>\n",
              "      <th>62</th>\n",
              "      <td>5</td>\n",
              "      <td>0.00</td>\n",
              "    </tr>\n",
              "    <tr>\n",
              "      <th>63</th>\n",
              "      <td>4</td>\n",
              "      <td>0.00</td>\n",
              "    </tr>\n",
              "    <tr>\n",
              "      <th>64</th>\n",
              "      <td>4</td>\n",
              "      <td>0.00</td>\n",
              "    </tr>\n",
              "  </tbody>\n",
              "</table>\n",
              "<p>72 rows × 2 columns</p>\n",
              "</div>\n",
              "      <button class=\"colab-df-convert\" onclick=\"convertToInteractive('df-1170c709-d8b2-40f5-8d32-ee6929bad809')\"\n",
              "              title=\"Convert this dataframe to an interactive table.\"\n",
              "              style=\"display:none;\">\n",
              "        \n",
              "  <svg xmlns=\"http://www.w3.org/2000/svg\" height=\"24px\"viewBox=\"0 0 24 24\"\n",
              "       width=\"24px\">\n",
              "    <path d=\"M0 0h24v24H0V0z\" fill=\"none\"/>\n",
              "    <path d=\"M18.56 5.44l.94 2.06.94-2.06 2.06-.94-2.06-.94-.94-2.06-.94 2.06-2.06.94zm-11 1L8.5 8.5l.94-2.06 2.06-.94-2.06-.94L8.5 2.5l-.94 2.06-2.06.94zm10 10l.94 2.06.94-2.06 2.06-.94-2.06-.94-.94-2.06-.94 2.06-2.06.94z\"/><path d=\"M17.41 7.96l-1.37-1.37c-.4-.4-.92-.59-1.43-.59-.52 0-1.04.2-1.43.59L10.3 9.45l-7.72 7.72c-.78.78-.78 2.05 0 2.83L4 21.41c.39.39.9.59 1.41.59.51 0 1.02-.2 1.41-.59l7.78-7.78 2.81-2.81c.8-.78.8-2.07 0-2.86zM5.41 20L4 18.59l7.72-7.72 1.47 1.35L5.41 20z\"/>\n",
              "  </svg>\n",
              "      </button>\n",
              "      \n",
              "  <style>\n",
              "    .colab-df-container {\n",
              "      display:flex;\n",
              "      flex-wrap:wrap;\n",
              "      gap: 12px;\n",
              "    }\n",
              "\n",
              "    .colab-df-convert {\n",
              "      background-color: #E8F0FE;\n",
              "      border: none;\n",
              "      border-radius: 50%;\n",
              "      cursor: pointer;\n",
              "      display: none;\n",
              "      fill: #1967D2;\n",
              "      height: 32px;\n",
              "      padding: 0 0 0 0;\n",
              "      width: 32px;\n",
              "    }\n",
              "\n",
              "    .colab-df-convert:hover {\n",
              "      background-color: #E2EBFA;\n",
              "      box-shadow: 0px 1px 2px rgba(60, 64, 67, 0.3), 0px 1px 3px 1px rgba(60, 64, 67, 0.15);\n",
              "      fill: #174EA6;\n",
              "    }\n",
              "\n",
              "    [theme=dark] .colab-df-convert {\n",
              "      background-color: #3B4455;\n",
              "      fill: #D2E3FC;\n",
              "    }\n",
              "\n",
              "    [theme=dark] .colab-df-convert:hover {\n",
              "      background-color: #434B5C;\n",
              "      box-shadow: 0px 1px 3px 1px rgba(0, 0, 0, 0.15);\n",
              "      filter: drop-shadow(0px 1px 2px rgba(0, 0, 0, 0.3));\n",
              "      fill: #FFFFFF;\n",
              "    }\n",
              "  </style>\n",
              "\n",
              "      <script>\n",
              "        const buttonEl =\n",
              "          document.querySelector('#df-1170c709-d8b2-40f5-8d32-ee6929bad809 button.colab-df-convert');\n",
              "        buttonEl.style.display =\n",
              "          google.colab.kernel.accessAllowed ? 'block' : 'none';\n",
              "\n",
              "        async function convertToInteractive(key) {\n",
              "          const element = document.querySelector('#df-1170c709-d8b2-40f5-8d32-ee6929bad809');\n",
              "          const dataTable =\n",
              "            await google.colab.kernel.invokeFunction('convertToInteractive',\n",
              "                                                     [key], {});\n",
              "          if (!dataTable) return;\n",
              "\n",
              "          const docLinkHtml = 'Like what you see? Visit the ' +\n",
              "            '<a target=\"_blank\" href=https://colab.research.google.com/notebooks/data_table.ipynb>data table notebook</a>'\n",
              "            + ' to learn more about interactive tables.';\n",
              "          element.innerHTML = '';\n",
              "          dataTable['output_type'] = 'display_data';\n",
              "          await google.colab.output.renderOutput(dataTable, element);\n",
              "          const docLink = document.createElement('div');\n",
              "          docLink.innerHTML = docLinkHtml;\n",
              "          element.appendChild(docLink);\n",
              "        }\n",
              "      </script>\n",
              "    </div>\n",
              "  </div>\n",
              "  "
            ]
          },
          "metadata": {},
          "execution_count": 25
        }
      ]
    },
    {
      "cell_type": "markdown",
      "source": [
        "## Analise Genero"
      ],
      "metadata": {
        "id": "mroPFKX10EjK"
      }
    },
    {
      "cell_type": "code",
      "source": [
        "churn_sim"
      ],
      "metadata": {
        "colab": {
          "base_uri": "https://localhost:8080/",
          "height": 644
        },
        "id": "rOoE-U52hubg",
        "outputId": "7e6a0fb7-45cb-46f4-f766-f2007838f437"
      },
      "execution_count": null,
      "outputs": [
        {
          "output_type": "execute_result",
          "data": {
            "text/plain": [
              "      ID_Cliente Churn     Gênero Idoso Parceiro Dependentes  \\\n",
              "2     0004-TLHLJ   Sim  Masculino   Não      Não         Não   \n",
              "3     0011-IGKFF   Sim  Masculino   Sim      Sim         Não   \n",
              "4     0013-EXCHZ   Sim   Feminino   Sim      Sim         Não   \n",
              "18    0022-TCJCI   Sim  Masculino   Sim      Não         Não   \n",
              "19    0023-HGHWL   Sim  Masculino   Sim      Não         Não   \n",
              "...          ...   ...        ...   ...      ...         ...   \n",
              "7020  9961-JBNMK   Sim  Masculino   Sim      Não         Não   \n",
              "7023  9965-YOKZB   Sim  Masculino   Sim      Não         Não   \n",
              "7036  9985-MWVIX   Sim   Feminino   Não      Não         Não   \n",
              "7037  9986-BONCE   Sim   Feminino   Não      Não         Não   \n",
              "7039  9992-RRAMN   Sim  Masculino   Não      Sim         Não   \n",
              "\n",
              "      Tempo_de_Contrato Serviço_Telefônico        Linhas_Múltiplas  \\\n",
              "2                     4                Sim                     Não   \n",
              "3                    13                Sim                     Não   \n",
              "4                     3                Sim                     Não   \n",
              "18                   45                Sim                     Não   \n",
              "19                    1                Não  Sem serviço telefônico   \n",
              "...                 ...                ...                     ...   \n",
              "7020                 21                Sim                     Não   \n",
              "7023                  9                Sim                     Sim   \n",
              "7036                  1                Sim                     Não   \n",
              "7037                  4                Sim                     Não   \n",
              "7039                 22                Sim                     Sim   \n",
              "\n",
              "     Serviço_Internet  ... Proteção_de_Dispositivo      Suporte_Técnico  \\\n",
              "2        Fibra óptica  ...                     Sim                  Não   \n",
              "3        Fibra óptica  ...                     Sim                  Não   \n",
              "4        Fibra óptica  ...                     Não                  Sim   \n",
              "18                DSL  ...                     Sim                  Não   \n",
              "19                DSL  ...                     Não                  Não   \n",
              "...               ...  ...                     ...                  ...   \n",
              "7020     Fibra óptica  ...                     Sim                  Não   \n",
              "7023     Fibra óptica  ...                     Não                  Não   \n",
              "7036     Fibra óptica  ...                     Não                  Não   \n",
              "7037              Não  ...     No internet service  No internet service   \n",
              "7039     Fibra óptica  ...                     Não                  Não   \n",
              "\n",
              "             Streaming_TV  Streaming_de_Filmes Contrato Cobrança_Digital  \\\n",
              "2                     Não                  Não   Mensal              Sim   \n",
              "3                     Sim                  Sim   Mensal              Sim   \n",
              "4                     Sim                  Não   Mensal              Sim   \n",
              "18                    Não                  Sim    Anual              Não   \n",
              "19                    Não                  Não   Mensal              Sim   \n",
              "...                   ...                  ...      ...              ...   \n",
              "7020                  Sim                  Sim   Mensal              Sim   \n",
              "7023                  Não                  Sim   Mensal              Sim   \n",
              "7036                  Não                  Não   Mensal              Sim   \n",
              "7037  No internet service  No internet service   Mensal              Não   \n",
              "7039                  Não                  Sim   Mensal              Sim   \n",
              "\n",
              "                      Método_de_Pagamento Cobrança_Mensal Cobrança_Total  \\\n",
              "2                       Cheque eletrônico           73.90         280.85   \n",
              "3                       Cheque eletrônico           98.00        1237.85   \n",
              "4                          Cheque enviado           83.90         267.40   \n",
              "18         Cartão de crédito (automático)           62.70        2791.50   \n",
              "19                      Cheque eletrônico           25.10          25.10   \n",
              "...                                   ...             ...            ...   \n",
              "7020  Transferência bancária (automático)           96.80        2030.30   \n",
              "7023                    Cheque eletrônico           83.85         790.15   \n",
              "7036                       Cheque enviado           70.15          70.15   \n",
              "7037  Transferência bancária (automático)           20.95          85.50   \n",
              "7039                    Cheque eletrônico           85.10        1873.70   \n",
              "\n",
              "      Contas_Diárias  \n",
              "2               2.46  \n",
              "3               3.27  \n",
              "4               2.80  \n",
              "18              2.09  \n",
              "19              0.84  \n",
              "...              ...  \n",
              "7020            3.23  \n",
              "7023            2.80  \n",
              "7036            2.34  \n",
              "7037            0.70  \n",
              "7039            2.84  \n",
              "\n",
              "[1869 rows x 22 columns]"
            ],
            "text/html": [
              "\n",
              "  <div id=\"df-68c33839-c006-4b1c-bfa2-035e647a4e6e\">\n",
              "    <div class=\"colab-df-container\">\n",
              "      <div>\n",
              "<style scoped>\n",
              "    .dataframe tbody tr th:only-of-type {\n",
              "        vertical-align: middle;\n",
              "    }\n",
              "\n",
              "    .dataframe tbody tr th {\n",
              "        vertical-align: top;\n",
              "    }\n",
              "\n",
              "    .dataframe thead th {\n",
              "        text-align: right;\n",
              "    }\n",
              "</style>\n",
              "<table border=\"1\" class=\"dataframe\">\n",
              "  <thead>\n",
              "    <tr style=\"text-align: right;\">\n",
              "      <th></th>\n",
              "      <th>ID_Cliente</th>\n",
              "      <th>Churn</th>\n",
              "      <th>Gênero</th>\n",
              "      <th>Idoso</th>\n",
              "      <th>Parceiro</th>\n",
              "      <th>Dependentes</th>\n",
              "      <th>Tempo_de_Contrato</th>\n",
              "      <th>Serviço_Telefônico</th>\n",
              "      <th>Linhas_Múltiplas</th>\n",
              "      <th>Serviço_Internet</th>\n",
              "      <th>...</th>\n",
              "      <th>Proteção_de_Dispositivo</th>\n",
              "      <th>Suporte_Técnico</th>\n",
              "      <th>Streaming_TV</th>\n",
              "      <th>Streaming_de_Filmes</th>\n",
              "      <th>Contrato</th>\n",
              "      <th>Cobrança_Digital</th>\n",
              "      <th>Método_de_Pagamento</th>\n",
              "      <th>Cobrança_Mensal</th>\n",
              "      <th>Cobrança_Total</th>\n",
              "      <th>Contas_Diárias</th>\n",
              "    </tr>\n",
              "  </thead>\n",
              "  <tbody>\n",
              "    <tr>\n",
              "      <th>2</th>\n",
              "      <td>0004-TLHLJ</td>\n",
              "      <td>Sim</td>\n",
              "      <td>Masculino</td>\n",
              "      <td>Não</td>\n",
              "      <td>Não</td>\n",
              "      <td>Não</td>\n",
              "      <td>4</td>\n",
              "      <td>Sim</td>\n",
              "      <td>Não</td>\n",
              "      <td>Fibra óptica</td>\n",
              "      <td>...</td>\n",
              "      <td>Sim</td>\n",
              "      <td>Não</td>\n",
              "      <td>Não</td>\n",
              "      <td>Não</td>\n",
              "      <td>Mensal</td>\n",
              "      <td>Sim</td>\n",
              "      <td>Cheque eletrônico</td>\n",
              "      <td>73.90</td>\n",
              "      <td>280.85</td>\n",
              "      <td>2.46</td>\n",
              "    </tr>\n",
              "    <tr>\n",
              "      <th>3</th>\n",
              "      <td>0011-IGKFF</td>\n",
              "      <td>Sim</td>\n",
              "      <td>Masculino</td>\n",
              "      <td>Sim</td>\n",
              "      <td>Sim</td>\n",
              "      <td>Não</td>\n",
              "      <td>13</td>\n",
              "      <td>Sim</td>\n",
              "      <td>Não</td>\n",
              "      <td>Fibra óptica</td>\n",
              "      <td>...</td>\n",
              "      <td>Sim</td>\n",
              "      <td>Não</td>\n",
              "      <td>Sim</td>\n",
              "      <td>Sim</td>\n",
              "      <td>Mensal</td>\n",
              "      <td>Sim</td>\n",
              "      <td>Cheque eletrônico</td>\n",
              "      <td>98.00</td>\n",
              "      <td>1237.85</td>\n",
              "      <td>3.27</td>\n",
              "    </tr>\n",
              "    <tr>\n",
              "      <th>4</th>\n",
              "      <td>0013-EXCHZ</td>\n",
              "      <td>Sim</td>\n",
              "      <td>Feminino</td>\n",
              "      <td>Sim</td>\n",
              "      <td>Sim</td>\n",
              "      <td>Não</td>\n",
              "      <td>3</td>\n",
              "      <td>Sim</td>\n",
              "      <td>Não</td>\n",
              "      <td>Fibra óptica</td>\n",
              "      <td>...</td>\n",
              "      <td>Não</td>\n",
              "      <td>Sim</td>\n",
              "      <td>Sim</td>\n",
              "      <td>Não</td>\n",
              "      <td>Mensal</td>\n",
              "      <td>Sim</td>\n",
              "      <td>Cheque enviado</td>\n",
              "      <td>83.90</td>\n",
              "      <td>267.40</td>\n",
              "      <td>2.80</td>\n",
              "    </tr>\n",
              "    <tr>\n",
              "      <th>18</th>\n",
              "      <td>0022-TCJCI</td>\n",
              "      <td>Sim</td>\n",
              "      <td>Masculino</td>\n",
              "      <td>Sim</td>\n",
              "      <td>Não</td>\n",
              "      <td>Não</td>\n",
              "      <td>45</td>\n",
              "      <td>Sim</td>\n",
              "      <td>Não</td>\n",
              "      <td>DSL</td>\n",
              "      <td>...</td>\n",
              "      <td>Sim</td>\n",
              "      <td>Não</td>\n",
              "      <td>Não</td>\n",
              "      <td>Sim</td>\n",
              "      <td>Anual</td>\n",
              "      <td>Não</td>\n",
              "      <td>Cartão de crédito (automático)</td>\n",
              "      <td>62.70</td>\n",
              "      <td>2791.50</td>\n",
              "      <td>2.09</td>\n",
              "    </tr>\n",
              "    <tr>\n",
              "      <th>19</th>\n",
              "      <td>0023-HGHWL</td>\n",
              "      <td>Sim</td>\n",
              "      <td>Masculino</td>\n",
              "      <td>Sim</td>\n",
              "      <td>Não</td>\n",
              "      <td>Não</td>\n",
              "      <td>1</td>\n",
              "      <td>Não</td>\n",
              "      <td>Sem serviço telefônico</td>\n",
              "      <td>DSL</td>\n",
              "      <td>...</td>\n",
              "      <td>Não</td>\n",
              "      <td>Não</td>\n",
              "      <td>Não</td>\n",
              "      <td>Não</td>\n",
              "      <td>Mensal</td>\n",
              "      <td>Sim</td>\n",
              "      <td>Cheque eletrônico</td>\n",
              "      <td>25.10</td>\n",
              "      <td>25.10</td>\n",
              "      <td>0.84</td>\n",
              "    </tr>\n",
              "    <tr>\n",
              "      <th>...</th>\n",
              "      <td>...</td>\n",
              "      <td>...</td>\n",
              "      <td>...</td>\n",
              "      <td>...</td>\n",
              "      <td>...</td>\n",
              "      <td>...</td>\n",
              "      <td>...</td>\n",
              "      <td>...</td>\n",
              "      <td>...</td>\n",
              "      <td>...</td>\n",
              "      <td>...</td>\n",
              "      <td>...</td>\n",
              "      <td>...</td>\n",
              "      <td>...</td>\n",
              "      <td>...</td>\n",
              "      <td>...</td>\n",
              "      <td>...</td>\n",
              "      <td>...</td>\n",
              "      <td>...</td>\n",
              "      <td>...</td>\n",
              "      <td>...</td>\n",
              "    </tr>\n",
              "    <tr>\n",
              "      <th>7020</th>\n",
              "      <td>9961-JBNMK</td>\n",
              "      <td>Sim</td>\n",
              "      <td>Masculino</td>\n",
              "      <td>Sim</td>\n",
              "      <td>Não</td>\n",
              "      <td>Não</td>\n",
              "      <td>21</td>\n",
              "      <td>Sim</td>\n",
              "      <td>Não</td>\n",
              "      <td>Fibra óptica</td>\n",
              "      <td>...</td>\n",
              "      <td>Sim</td>\n",
              "      <td>Não</td>\n",
              "      <td>Sim</td>\n",
              "      <td>Sim</td>\n",
              "      <td>Mensal</td>\n",
              "      <td>Sim</td>\n",
              "      <td>Transferência bancária (automático)</td>\n",
              "      <td>96.80</td>\n",
              "      <td>2030.30</td>\n",
              "      <td>3.23</td>\n",
              "    </tr>\n",
              "    <tr>\n",
              "      <th>7023</th>\n",
              "      <td>9965-YOKZB</td>\n",
              "      <td>Sim</td>\n",
              "      <td>Masculino</td>\n",
              "      <td>Sim</td>\n",
              "      <td>Não</td>\n",
              "      <td>Não</td>\n",
              "      <td>9</td>\n",
              "      <td>Sim</td>\n",
              "      <td>Sim</td>\n",
              "      <td>Fibra óptica</td>\n",
              "      <td>...</td>\n",
              "      <td>Não</td>\n",
              "      <td>Não</td>\n",
              "      <td>Não</td>\n",
              "      <td>Sim</td>\n",
              "      <td>Mensal</td>\n",
              "      <td>Sim</td>\n",
              "      <td>Cheque eletrônico</td>\n",
              "      <td>83.85</td>\n",
              "      <td>790.15</td>\n",
              "      <td>2.80</td>\n",
              "    </tr>\n",
              "    <tr>\n",
              "      <th>7036</th>\n",
              "      <td>9985-MWVIX</td>\n",
              "      <td>Sim</td>\n",
              "      <td>Feminino</td>\n",
              "      <td>Não</td>\n",
              "      <td>Não</td>\n",
              "      <td>Não</td>\n",
              "      <td>1</td>\n",
              "      <td>Sim</td>\n",
              "      <td>Não</td>\n",
              "      <td>Fibra óptica</td>\n",
              "      <td>...</td>\n",
              "      <td>Não</td>\n",
              "      <td>Não</td>\n",
              "      <td>Não</td>\n",
              "      <td>Não</td>\n",
              "      <td>Mensal</td>\n",
              "      <td>Sim</td>\n",
              "      <td>Cheque enviado</td>\n",
              "      <td>70.15</td>\n",
              "      <td>70.15</td>\n",
              "      <td>2.34</td>\n",
              "    </tr>\n",
              "    <tr>\n",
              "      <th>7037</th>\n",
              "      <td>9986-BONCE</td>\n",
              "      <td>Sim</td>\n",
              "      <td>Feminino</td>\n",
              "      <td>Não</td>\n",
              "      <td>Não</td>\n",
              "      <td>Não</td>\n",
              "      <td>4</td>\n",
              "      <td>Sim</td>\n",
              "      <td>Não</td>\n",
              "      <td>Não</td>\n",
              "      <td>...</td>\n",
              "      <td>No internet service</td>\n",
              "      <td>No internet service</td>\n",
              "      <td>No internet service</td>\n",
              "      <td>No internet service</td>\n",
              "      <td>Mensal</td>\n",
              "      <td>Não</td>\n",
              "      <td>Transferência bancária (automático)</td>\n",
              "      <td>20.95</td>\n",
              "      <td>85.50</td>\n",
              "      <td>0.70</td>\n",
              "    </tr>\n",
              "    <tr>\n",
              "      <th>7039</th>\n",
              "      <td>9992-RRAMN</td>\n",
              "      <td>Sim</td>\n",
              "      <td>Masculino</td>\n",
              "      <td>Não</td>\n",
              "      <td>Sim</td>\n",
              "      <td>Não</td>\n",
              "      <td>22</td>\n",
              "      <td>Sim</td>\n",
              "      <td>Sim</td>\n",
              "      <td>Fibra óptica</td>\n",
              "      <td>...</td>\n",
              "      <td>Não</td>\n",
              "      <td>Não</td>\n",
              "      <td>Não</td>\n",
              "      <td>Sim</td>\n",
              "      <td>Mensal</td>\n",
              "      <td>Sim</td>\n",
              "      <td>Cheque eletrônico</td>\n",
              "      <td>85.10</td>\n",
              "      <td>1873.70</td>\n",
              "      <td>2.84</td>\n",
              "    </tr>\n",
              "  </tbody>\n",
              "</table>\n",
              "<p>1869 rows × 22 columns</p>\n",
              "</div>\n",
              "      <button class=\"colab-df-convert\" onclick=\"convertToInteractive('df-68c33839-c006-4b1c-bfa2-035e647a4e6e')\"\n",
              "              title=\"Convert this dataframe to an interactive table.\"\n",
              "              style=\"display:none;\">\n",
              "        \n",
              "  <svg xmlns=\"http://www.w3.org/2000/svg\" height=\"24px\"viewBox=\"0 0 24 24\"\n",
              "       width=\"24px\">\n",
              "    <path d=\"M0 0h24v24H0V0z\" fill=\"none\"/>\n",
              "    <path d=\"M18.56 5.44l.94 2.06.94-2.06 2.06-.94-2.06-.94-.94-2.06-.94 2.06-2.06.94zm-11 1L8.5 8.5l.94-2.06 2.06-.94-2.06-.94L8.5 2.5l-.94 2.06-2.06.94zm10 10l.94 2.06.94-2.06 2.06-.94-2.06-.94-.94-2.06-.94 2.06-2.06.94z\"/><path d=\"M17.41 7.96l-1.37-1.37c-.4-.4-.92-.59-1.43-.59-.52 0-1.04.2-1.43.59L10.3 9.45l-7.72 7.72c-.78.78-.78 2.05 0 2.83L4 21.41c.39.39.9.59 1.41.59.51 0 1.02-.2 1.41-.59l7.78-7.78 2.81-2.81c.8-.78.8-2.07 0-2.86zM5.41 20L4 18.59l7.72-7.72 1.47 1.35L5.41 20z\"/>\n",
              "  </svg>\n",
              "      </button>\n",
              "      \n",
              "  <style>\n",
              "    .colab-df-container {\n",
              "      display:flex;\n",
              "      flex-wrap:wrap;\n",
              "      gap: 12px;\n",
              "    }\n",
              "\n",
              "    .colab-df-convert {\n",
              "      background-color: #E8F0FE;\n",
              "      border: none;\n",
              "      border-radius: 50%;\n",
              "      cursor: pointer;\n",
              "      display: none;\n",
              "      fill: #1967D2;\n",
              "      height: 32px;\n",
              "      padding: 0 0 0 0;\n",
              "      width: 32px;\n",
              "    }\n",
              "\n",
              "    .colab-df-convert:hover {\n",
              "      background-color: #E2EBFA;\n",
              "      box-shadow: 0px 1px 2px rgba(60, 64, 67, 0.3), 0px 1px 3px 1px rgba(60, 64, 67, 0.15);\n",
              "      fill: #174EA6;\n",
              "    }\n",
              "\n",
              "    [theme=dark] .colab-df-convert {\n",
              "      background-color: #3B4455;\n",
              "      fill: #D2E3FC;\n",
              "    }\n",
              "\n",
              "    [theme=dark] .colab-df-convert:hover {\n",
              "      background-color: #434B5C;\n",
              "      box-shadow: 0px 1px 3px 1px rgba(0, 0, 0, 0.15);\n",
              "      filter: drop-shadow(0px 1px 2px rgba(0, 0, 0, 0.3));\n",
              "      fill: #FFFFFF;\n",
              "    }\n",
              "  </style>\n",
              "\n",
              "      <script>\n",
              "        const buttonEl =\n",
              "          document.querySelector('#df-68c33839-c006-4b1c-bfa2-035e647a4e6e button.colab-df-convert');\n",
              "        buttonEl.style.display =\n",
              "          google.colab.kernel.accessAllowed ? 'block' : 'none';\n",
              "\n",
              "        async function convertToInteractive(key) {\n",
              "          const element = document.querySelector('#df-68c33839-c006-4b1c-bfa2-035e647a4e6e');\n",
              "          const dataTable =\n",
              "            await google.colab.kernel.invokeFunction('convertToInteractive',\n",
              "                                                     [key], {});\n",
              "          if (!dataTable) return;\n",
              "\n",
              "          const docLinkHtml = 'Like what you see? Visit the ' +\n",
              "            '<a target=\"_blank\" href=https://colab.research.google.com/notebooks/data_table.ipynb>data table notebook</a>'\n",
              "            + ' to learn more about interactive tables.';\n",
              "          element.innerHTML = '';\n",
              "          dataTable['output_type'] = 'display_data';\n",
              "          await google.colab.output.renderOutput(dataTable, element);\n",
              "          const docLink = document.createElement('div');\n",
              "          docLink.innerHTML = docLinkHtml;\n",
              "          element.appendChild(docLink);\n",
              "        }\n",
              "      </script>\n",
              "    </div>\n",
              "  </div>\n",
              "  "
            ]
          },
          "metadata": {},
          "execution_count": 26
        }
      ]
    },
    {
      "cell_type": "markdown",
      "source": [
        "### Grafico Genero dos que sairam"
      ],
      "metadata": {
        "id": "ApmLUF9n4mO7"
      }
    },
    {
      "cell_type": "code",
      "source": [
        "churn_sim.Gênero.value_counts().plot(kind = 'pie', autopct='%.2f%%')"
      ],
      "metadata": {
        "colab": {
          "base_uri": "https://localhost:8080/",
          "height": 265
        },
        "id": "ncOaXtIOzm6L",
        "outputId": "76094223-888d-46ac-9530-0b65eba63ae4"
      },
      "execution_count": null,
      "outputs": [
        {
          "output_type": "execute_result",
          "data": {
            "text/plain": [
              "<matplotlib.axes._subplots.AxesSubplot at 0x7ffa71a79490>"
            ]
          },
          "metadata": {},
          "execution_count": 27
        },
        {
          "output_type": "display_data",
          "data": {
            "text/plain": [
              "<Figure size 432x288 with 1 Axes>"
            ],
            "image/png": "[encoded data removed]"
          },
          "metadata": {}
        }
      ]
    },
    {
      "cell_type": "markdown",
      "source": [
        "A porcentagem entre homens e mulheres são praticamente a mesma."
      ],
      "metadata": {
        "id": "5Ugjp2F31P2Q"
      }
    },
    {
      "cell_type": "markdown",
      "source": [
        "## Analise Dos Idosos que deixaram a empresa"
      ],
      "metadata": {
        "id": "AK8lVXzB5Mud"
      }
    },
    {
      "cell_type": "markdown",
      "source": [
        "### Grafico dos Idosos (maiores de 65 anos) que sairam da empresa"
      ],
      "metadata": {
        "id": "Q8Yz9DAd6rsM"
      }
    },
    {
      "cell_type": "code",
      "source": [
        "churn_sim.Idoso.value_counts().plot(kind = 'pie', autopct='%.2f%%')"
      ],
      "metadata": {
        "colab": {
          "base_uri": "https://localhost:8080/",
          "height": 265
        },
        "id": "1vLEw9Lg5chR",
        "outputId": "a569db3b-a3cd-4c0c-e8d1-1da86254110d"
      },
      "execution_count": null,
      "outputs": [
        {
          "output_type": "execute_result",
          "data": {
            "text/plain": [
              "<matplotlib.axes._subplots.AxesSubplot at 0x7ffa712c0790>"
            ]
          },
          "metadata": {},
          "execution_count": 28
        },
        {
          "output_type": "display_data",
          "data": {
            "text/plain": [
              "<Figure size 432x288 with 1 Axes>"
            ],
            "image/png": "[encoded data removed]"
          },
          "metadata": {}
        }
      ]
    },
    {
      "cell_type": "markdown",
      "source": [
        "> Os Idosos sao 75 % dos que sairam da empresa"
      ],
      "metadata": {
        "id": "66O-C9sw7Ynk"
      }
    },
    {
      "cell_type": "markdown",
      "source": [
        "## Analise dos Clientes com Conjugues que deixaram a empresa"
      ],
      "metadata": {
        "id": "DSLBicNH7skG"
      }
    },
    {
      "cell_type": "markdown",
      "source": [
        "### Grafico dos Clientes com Conjugues ou Parceiros"
      ],
      "metadata": {
        "id": "VhholzSv88-c"
      }
    },
    {
      "cell_type": "code",
      "source": [
        "churn_sim.Parceiro.value_counts().plot(kind = 'pie', autopct='%.2f%%')"
      ],
      "metadata": {
        "colab": {
          "base_uri": "https://localhost:8080/",
          "height": 265
        },
        "id": "c3xaxjFf6gkp",
        "outputId": "7af6e5df-cf6e-4f5d-aef6-643d934300b1"
      },
      "execution_count": null,
      "outputs": [
        {
          "output_type": "execute_result",
          "data": {
            "text/plain": [
              "<matplotlib.axes._subplots.AxesSubplot at 0x7ffa6fa0c450>"
            ]
          },
          "metadata": {},
          "execution_count": 29
        },
        {
          "output_type": "display_data",
          "data": {
            "text/plain": [
              "<Figure size 432x288 with 1 Axes>"
            ],
            "image/png": "[encoded data removed]"
          },
          "metadata": {}
        }
      ]
    },
    {
      "cell_type": "markdown",
      "source": [
        "> A maioria 64% dos que sairam não possuem conjugues ou parceiro."
      ],
      "metadata": {
        "id": "3gxA7ku79wQi"
      }
    },
    {
      "cell_type": "markdown",
      "source": [
        "## Analise dos que possuem dependentes"
      ],
      "metadata": {
        "id": "UjalbJYO-ixC"
      }
    },
    {
      "cell_type": "code",
      "source": [
        "churn_sim.Dependentes.value_counts().plot(kind = 'pie', autopct='%.2f%%')"
      ],
      "metadata": {
        "colab": {
          "base_uri": "https://localhost:8080/",
          "height": 265
        },
        "id": "_MDUeJ1--nPq",
        "outputId": "e31934c3-f38d-48c0-b833-85220956896f"
      },
      "execution_count": null,
      "outputs": [
        {
          "output_type": "execute_result",
          "data": {
            "text/plain": [
              "<matplotlib.axes._subplots.AxesSubplot at 0x7ffa6f9e01d0>"
            ]
          },
          "metadata": {},
          "execution_count": 30
        },
        {
          "output_type": "display_data",
          "data": {
            "text/plain": [
              "<Figure size 432x288 with 1 Axes>"
            ],
            "image/png": "[encoded data removed]"
          },
          "metadata": {}
        }
      ]
    },
    {
      "cell_type": "markdown",
      "source": [
        "> A maioria 83 % não possuem dependentes"
      ],
      "metadata": {
        "id": "3XBg9ads_FHJ"
      }
    },
    {
      "cell_type": "markdown",
      "source": [
        "## Analise de Serviços que as pessoas possuiam"
      ],
      "metadata": {
        "id": "EEL8EvQ1GSWX"
      }
    },
    {
      "cell_type": "code",
      "source": [
        "churn_sim.columns"
      ],
      "metadata": {
        "colab": {
          "base_uri": "https://localhost:8080/"
        },
        "id": "shInYQAmE0Q4",
        "outputId": "e8681375-aabf-44e5-d3c4-9694df0f21b8"
      },
      "execution_count": null,
      "outputs": [
        {
          "output_type": "execute_result",
          "data": {
            "text/plain": [
              "Index(['ID_Cliente', 'Churn', 'Gênero', 'Idoso', 'Parceiro', 'Dependentes',\n",
              "       'Tempo_de_Contrato', 'Serviço_Telefônico', 'Linhas_Múltiplas',\n",
              "       'Serviço_Internet', 'Segurança_Online', 'Backup_Online',\n",
              "       'Proteção_de_Dispositivo', 'Suporte_Técnico', 'Streaming_TV',\n",
              "       'Streaming_de_Filmes', 'Contrato', 'Cobrança_Digital',\n",
              "       'Método_de_Pagamento', 'Cobrança_Mensal', 'Cobrança_Total',\n",
              "       'Contas_Diárias'],\n",
              "      dtype='object')"
            ]
          },
          "metadata": {},
          "execution_count": 31
        }
      ]
    },
    {
      "cell_type": "code",
      "source": [
        "analise_servicos = churn_sim.loc[:, ['Serviço_Telefônico','Linhas_Múltiplas','Serviço_Internet','Segurança_Online', 'Backup_Online',\n",
        "       'Proteção_de_Dispositivo', 'Suporte_Técnico', 'Streaming_TV',\n",
        "       'Streaming_de_Filmes']]\n",
        "analise_servicos"
      ],
      "metadata": {
        "colab": {
          "base_uri": "https://localhost:8080/",
          "height": 522
        },
        "id": "GLYq-CLrD7r3",
        "outputId": "e0ec44d3-f77c-4975-93bd-b441c75e2908"
      },
      "execution_count": null,
      "outputs": [
        {
          "output_type": "execute_result",
          "data": {
            "text/plain": [
              "     Serviço_Telefônico        Linhas_Múltiplas Serviço_Internet  \\\n",
              "2                   Sim                     Não     Fibra óptica   \n",
              "3                   Sim                     Não     Fibra óptica   \n",
              "4                   Sim                     Não     Fibra óptica   \n",
              "18                  Sim                     Não              DSL   \n",
              "19                  Não  Sem serviço telefônico              DSL   \n",
              "...                 ...                     ...              ...   \n",
              "7020                Sim                     Não     Fibra óptica   \n",
              "7023                Sim                     Sim     Fibra óptica   \n",
              "7036                Sim                     Não     Fibra óptica   \n",
              "7037                Sim                     Não              Não   \n",
              "7039                Sim                     Sim     Fibra óptica   \n",
              "\n",
              "         Segurança_Online        Backup_Online Proteção_de_Dispositivo  \\\n",
              "2                      No                  Não                     Sim   \n",
              "3                      No                  Sim                     Sim   \n",
              "4                      No                  Não                     Não   \n",
              "18                    Yes                  Não                     Sim   \n",
              "19                     No                  Não                     Não   \n",
              "...                   ...                  ...                     ...   \n",
              "7020                   No                  Não                     Sim   \n",
              "7023                   No                  Não                     Não   \n",
              "7036                   No                  Não                     Não   \n",
              "7037  No internet service  No internet service     No internet service   \n",
              "7039                   No                  Não                     Não   \n",
              "\n",
              "          Suporte_Técnico         Streaming_TV  Streaming_de_Filmes  \n",
              "2                     Não                  Não                  Não  \n",
              "3                     Não                  Sim                  Sim  \n",
              "4                     Sim                  Sim                  Não  \n",
              "18                    Não                  Não                  Sim  \n",
              "19                    Não                  Não                  Não  \n",
              "...                   ...                  ...                  ...  \n",
              "7020                  Não                  Sim                  Sim  \n",
              "7023                  Não                  Não                  Sim  \n",
              "7036                  Não                  Não                  Não  \n",
              "7037  No internet service  No internet service  No internet service  \n",
              "7039                  Não                  Não                  Sim  \n",
              "\n",
              "[1869 rows x 9 columns]"
            ],
            "text/html": [
              "\n",
              "  <div id=\"df-bad537dd-c711-4446-90a0-f7b2d052abec\">\n",
              "    <div class=\"colab-df-container\">\n",
              "      <div>\n",
              "<style scoped>\n",
              "    .dataframe tbody tr th:only-of-type {\n",
              "        vertical-align: middle;\n",
              "    }\n",
              "\n",
              "    .dataframe tbody tr th {\n",
              "        vertical-align: top;\n",
              "    }\n",
              "\n",
              "    .dataframe thead th {\n",
              "        text-align: right;\n",
              "    }\n",
              "</style>\n",
              "<table border=\"1\" class=\"dataframe\">\n",
              "  <thead>\n",
              "    <tr style=\"text-align: right;\">\n",
              "      <th></th>\n",
              "      <th>Serviço_Telefônico</th>\n",
              "      <th>Linhas_Múltiplas</th>\n",
              "      <th>Serviço_Internet</th>\n",
              "      <th>Segurança_Online</th>\n",
              "      <th>Backup_Online</th>\n",
              "      <th>Proteção_de_Dispositivo</th>\n",
              "      <th>Suporte_Técnico</th>\n",
              "      <th>Streaming_TV</th>\n",
              "      <th>Streaming_de_Filmes</th>\n",
              "    </tr>\n",
              "  </thead>\n",
              "  <tbody>\n",
              "    <tr>\n",
              "      <th>2</th>\n",
              "      <td>Sim</td>\n",
              "      <td>Não</td>\n",
              "      <td>Fibra óptica</td>\n",
              "      <td>No</td>\n",
              "      <td>Não</td>\n",
              "      <td>Sim</td>\n",
              "      <td>Não</td>\n",
              "      <td>Não</td>\n",
              "      <td>Não</td>\n",
              "    </tr>\n",
              "    <tr>\n",
              "      <th>3</th>\n",
              "      <td>Sim</td>\n",
              "      <td>Não</td>\n",
              "      <td>Fibra óptica</td>\n",
              "      <td>No</td>\n",
              "      <td>Sim</td>\n",
              "      <td>Sim</td>\n",
              "      <td>Não</td>\n",
              "      <td>Sim</td>\n",
              "      <td>Sim</td>\n",
              "    </tr>\n",
              "    <tr>\n",
              "      <th>4</th>\n",
              "      <td>Sim</td>\n",
              "      <td>Não</td>\n",
              "      <td>Fibra óptica</td>\n",
              "      <td>No</td>\n",
              "      <td>Não</td>\n",
              "      <td>Não</td>\n",
              "      <td>Sim</td>\n",
              "      <td>Sim</td>\n",
              "      <td>Não</td>\n",
              "    </tr>\n",
              "    <tr>\n",
              "      <th>18</th>\n",
              "      <td>Sim</td>\n",
              "      <td>Não</td>\n",
              "      <td>DSL</td>\n",
              "      <td>Yes</td>\n",
              "      <td>Não</td>\n",
              "      <td>Sim</td>\n",
              "      <td>Não</td>\n",
              "      <td>Não</td>\n",
              "      <td>Sim</td>\n",
              "    </tr>\n",
              "    <tr>\n",
              "      <th>19</th>\n",
              "      <td>Não</td>\n",
              "      <td>Sem serviço telefônico</td>\n",
              "      <td>DSL</td>\n",
              "      <td>No</td>\n",
              "      <td>Não</td>\n",
              "      <td>Não</td>\n",
              "      <td>Não</td>\n",
              "      <td>Não</td>\n",
              "      <td>Não</td>\n",
              "    </tr>\n",
              "    <tr>\n",
              "      <th>...</th>\n",
              "      <td>...</td>\n",
              "      <td>...</td>\n",
              "      <td>...</td>\n",
              "      <td>...</td>\n",
              "      <td>...</td>\n",
              "      <td>...</td>\n",
              "      <td>...</td>\n",
              "      <td>...</td>\n",
              "      <td>...</td>\n",
              "    </tr>\n",
              "    <tr>\n",
              "      <th>7020</th>\n",
              "      <td>Sim</td>\n",
              "      <td>Não</td>\n",
              "      <td>Fibra óptica</td>\n",
              "      <td>No</td>\n",
              "      <td>Não</td>\n",
              "      <td>Sim</td>\n",
              "      <td>Não</td>\n",
              "      <td>Sim</td>\n",
              "      <td>Sim</td>\n",
              "    </tr>\n",
              "    <tr>\n",
              "      <th>7023</th>\n",
              "      <td>Sim</td>\n",
              "      <td>Sim</td>\n",
              "      <td>Fibra óptica</td>\n",
              "      <td>No</td>\n",
              "      <td>Não</td>\n",
              "      <td>Não</td>\n",
              "      <td>Não</td>\n",
              "      <td>Não</td>\n",
              "      <td>Sim</td>\n",
              "    </tr>\n",
              "    <tr>\n",
              "      <th>7036</th>\n",
              "      <td>Sim</td>\n",
              "      <td>Não</td>\n",
              "      <td>Fibra óptica</td>\n",
              "      <td>No</td>\n",
              "      <td>Não</td>\n",
              "      <td>Não</td>\n",
              "      <td>Não</td>\n",
              "      <td>Não</td>\n",
              "      <td>Não</td>\n",
              "    </tr>\n",
              "    <tr>\n",
              "      <th>7037</th>\n",
              "      <td>Sim</td>\n",
              "      <td>Não</td>\n",
              "      <td>Não</td>\n",
              "      <td>No internet service</td>\n",
              "      <td>No internet service</td>\n",
              "      <td>No internet service</td>\n",
              "      <td>No internet service</td>\n",
              "      <td>No internet service</td>\n",
              "      <td>No internet service</td>\n",
              "    </tr>\n",
              "    <tr>\n",
              "      <th>7039</th>\n",
              "      <td>Sim</td>\n",
              "      <td>Sim</td>\n",
              "      <td>Fibra óptica</td>\n",
              "      <td>No</td>\n",
              "      <td>Não</td>\n",
              "      <td>Não</td>\n",
              "      <td>Não</td>\n",
              "      <td>Não</td>\n",
              "      <td>Sim</td>\n",
              "    </tr>\n",
              "  </tbody>\n",
              "</table>\n",
              "<p>1869 rows × 9 columns</p>\n",
              "</div>\n",
              "      <button class=\"colab-df-convert\" onclick=\"convertToInteractive('df-bad537dd-c711-4446-90a0-f7b2d052abec')\"\n",
              "              title=\"Convert this dataframe to an interactive table.\"\n",
              "              style=\"display:none;\">\n",
              "        \n",
              "  <svg xmlns=\"http://www.w3.org/2000/svg\" height=\"24px\"viewBox=\"0 0 24 24\"\n",
              "       width=\"24px\">\n",
              "    <path d=\"M0 0h24v24H0V0z\" fill=\"none\"/>\n",
              "    <path d=\"M18.56 5.44l.94 2.06.94-2.06 2.06-.94-2.06-.94-.94-2.06-.94 2.06-2.06.94zm-11 1L8.5 8.5l.94-2.06 2.06-.94-2.06-.94L8.5 2.5l-.94 2.06-2.06.94zm10 10l.94 2.06.94-2.06 2.06-.94-2.06-.94-.94-2.06-.94 2.06-2.06.94z\"/><path d=\"M17.41 7.96l-1.37-1.37c-.4-.4-.92-.59-1.43-.59-.52 0-1.04.2-1.43.59L10.3 9.45l-7.72 7.72c-.78.78-.78 2.05 0 2.83L4 21.41c.39.39.9.59 1.41.59.51 0 1.02-.2 1.41-.59l7.78-7.78 2.81-2.81c.8-.78.8-2.07 0-2.86zM5.41 20L4 18.59l7.72-7.72 1.47 1.35L5.41 20z\"/>\n",
              "  </svg>\n",
              "      </button>\n",
              "      \n",
              "  <style>\n",
              "    .colab-df-container {\n",
              "      display:flex;\n",
              "      flex-wrap:wrap;\n",
              "      gap: 12px;\n",
              "    }\n",
              "\n",
              "    .colab-df-convert {\n",
              "      background-color: #E8F0FE;\n",
              "      border: none;\n",
              "      border-radius: 50%;\n",
              "      cursor: pointer;\n",
              "      display: none;\n",
              "      fill: #1967D2;\n",
              "      height: 32px;\n",
              "      padding: 0 0 0 0;\n",
              "      width: 32px;\n",
              "    }\n",
              "\n",
              "    .colab-df-convert:hover {\n",
              "      background-color: #E2EBFA;\n",
              "      box-shadow: 0px 1px 2px rgba(60, 64, 67, 0.3), 0px 1px 3px 1px rgba(60, 64, 67, 0.15);\n",
              "      fill: #174EA6;\n",
              "    }\n",
              "\n",
              "    [theme=dark] .colab-df-convert {\n",
              "      background-color: #3B4455;\n",
              "      fill: #D2E3FC;\n",
              "    }\n",
              "\n",
              "    [theme=dark] .colab-df-convert:hover {\n",
              "      background-color: #434B5C;\n",
              "      box-shadow: 0px 1px 3px 1px rgba(0, 0, 0, 0.15);\n",
              "      filter: drop-shadow(0px 1px 2px rgba(0, 0, 0, 0.3));\n",
              "      fill: #FFFFFF;\n",
              "    }\n",
              "  </style>\n",
              "\n",
              "      <script>\n",
              "        const buttonEl =\n",
              "          document.querySelector('#df-bad537dd-c711-4446-90a0-f7b2d052abec button.colab-df-convert');\n",
              "        buttonEl.style.display =\n",
              "          google.colab.kernel.accessAllowed ? 'block' : 'none';\n",
              "\n",
              "        async function convertToInteractive(key) {\n",
              "          const element = document.querySelector('#df-bad537dd-c711-4446-90a0-f7b2d052abec');\n",
              "          const dataTable =\n",
              "            await google.colab.kernel.invokeFunction('convertToInteractive',\n",
              "                                                     [key], {});\n",
              "          if (!dataTable) return;\n",
              "\n",
              "          const docLinkHtml = 'Like what you see? Visit the ' +\n",
              "            '<a target=\"_blank\" href=https://colab.research.google.com/notebooks/data_table.ipynb>data table notebook</a>'\n",
              "            + ' to learn more about interactive tables.';\n",
              "          element.innerHTML = '';\n",
              "          dataTable['output_type'] = 'display_data';\n",
              "          await google.colab.output.renderOutput(dataTable, element);\n",
              "          const docLink = document.createElement('div');\n",
              "          docLink.innerHTML = docLinkHtml;\n",
              "          element.appendChild(docLink);\n",
              "        }\n",
              "      </script>\n",
              "    </div>\n",
              "  </div>\n",
              "  "
            ]
          },
          "metadata": {},
          "execution_count": 32
        }
      ]
    },
    {
      "cell_type": "code",
      "source": [
        "analise_servicos.Serviço_Telefônico.value_counts().plot(kind = 'pie', autopct='%.2f%%')"
      ],
      "metadata": {
        "colab": {
          "base_uri": "https://localhost:8080/",
          "height": 265
        },
        "id": "XWtfFWEkHd2c",
        "outputId": "05f8a8ce-8922-48f9-abbf-a068955aef67"
      },
      "execution_count": null,
      "outputs": [
        {
          "output_type": "execute_result",
          "data": {
            "text/plain": [
              "<matplotlib.axes._subplots.AxesSubplot at 0x7ffa6f9b4ad0>"
            ]
          },
          "metadata": {},
          "execution_count": 33
        },
        {
          "output_type": "display_data",
          "data": {
            "text/plain": [
              "<Figure size 432x288 with 1 Axes>"
            ],
            "image/png": "[encoded data removed]"
          },
          "metadata": {}
        }
      ]
    },
    {
      "cell_type": "markdown",
      "source": [
        "A Maioria dos que sairam possuem serviço Telefônico"
      ],
      "metadata": {
        "id": "Nch2bN_CHu1V"
      }
    },
    {
      "cell_type": "markdown",
      "source": [
        "### Grafico dos clientes que possuiam multiplas linhas telefonicas"
      ],
      "metadata": {
        "id": "bdMeNGJZJFzm"
      }
    },
    {
      "cell_type": "code",
      "source": [
        "analise_servicos.query('Serviço_Telefônico == \"Sim\"').Linhas_Múltiplas.value_counts().plot(kind = 'pie', autopct='%.2f%%')\n",
        "#analise_servicos.Serviço_Telefônico.value_counts().plot(kind = 'pie', autopct='%.2f%%')\n"
      ],
      "metadata": {
        "colab": {
          "base_uri": "https://localhost:8080/",
          "height": 265
        },
        "id": "_Pajb_5D-8Z-",
        "outputId": "997fa391-9dba-4efa-ca74-24acd0a5c583"
      },
      "execution_count": null,
      "outputs": [
        {
          "output_type": "execute_result",
          "data": {
            "text/plain": [
              "<matplotlib.axes._subplots.AxesSubplot at 0x7ffa6f907390>"
            ]
          },
          "metadata": {},
          "execution_count": 34
        },
        {
          "output_type": "display_data",
          "data": {
            "text/plain": [
              "<Figure size 432x288 with 1 Axes>"
            ],
            "image/png": "[encoded data removed]"
          },
          "metadata": {}
        }
      ]
    },
    {
      "cell_type": "markdown",
      "source": [
        "> Metade das pessoas possuiam linhas multiplas 50,03%"
      ],
      "metadata": {
        "id": "macqeQJtI4fz"
      }
    },
    {
      "cell_type": "markdown",
      "source": [
        "## Grafico linha telefonica e serviços de internet"
      ],
      "metadata": {
        "id": "ml7594Q9Vnmc"
      }
    },
    {
      "cell_type": "code",
      "source": [
        "analise_servicos.query('Serviço_Telefônico == \"Sim\"').Serviço_Internet.value_counts().plot(kind = 'pie', autopct='%.2f%%')\n",
        "\n",
        "\n",
        "\n",
        "\n"
      ],
      "metadata": {
        "colab": {
          "base_uri": "https://localhost:8080/",
          "height": 265
        },
        "id": "0vmmeb_sLXgp",
        "outputId": "c6f6e2d4-3055-4108-f5fc-864d31361b72"
      },
      "execution_count": null,
      "outputs": [
        {
          "output_type": "execute_result",
          "data": {
            "text/plain": [
              "<matplotlib.axes._subplots.AxesSubplot at 0x7ffa6f84ecd0>"
            ]
          },
          "metadata": {},
          "execution_count": 37
        },
        {
          "output_type": "display_data",
          "data": {
            "text/plain": [
              "<Figure size 432x288 with 1 Axes>"
            ],
            "image/png": "[encoded data removed]"
          },
          "metadata": {}
        }
      ]
    },
    {
      "cell_type": "markdown",
      "source": [
        ">76 % dos que possuiam linha telefonica tbm possuiam fibra optica"
      ],
      "metadata": {
        "id": "sU8Bo7q3VXdf"
      }
    },
    {
      "cell_type": "code",
      "source": [
        ""
      ],
      "metadata": {
        "id": "HIUNf92VTM_R"
      },
      "execution_count": null,
      "outputs": []
    },
    {
      "cell_type": "code",
      "execution_count": null,
      "metadata": {
        "colab": {
          "base_uri": "https://localhost:8080/"
        },
        "id": "QjdYuYOiylTH",
        "outputId": "9b6a6ceb-19ef-48c3-b262-e647c3988271"
      },
      "outputs": [
        {
          "output_type": "stream",
          "name": "stdout",
          "text": [
            "Python 3.7.13\n"
          ]
        }
      ],
      "source": [
        "!python --version\n"
      ]
    }
  ]
}