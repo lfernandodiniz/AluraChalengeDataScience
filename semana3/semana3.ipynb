{
  "nbformat": 4,
  "nbformat_minor": 0,
  "metadata": {
    "colab": {
      "name": "semana3.ipynb",
      "provenance": [],
      "authorship_tag": "ABX9TyMvyz+f0Ne9ZhgseBb6KwKV",
      "include_colab_link": true
    },
    "kernelspec": {
      "name": "python3",
      "display_name": "Python 3"
    },
    "language_info": {
      "name": "python"
    }
  },
  "cells": [
    {
      "cell_type": "markdown",
      "metadata": {
        "id": "view-in-github",
        "colab_type": "text"
      },
      "source": [
        "<a href=\"https://colab.research.google.com/github/lfernandodiniz/alura_vox_challengedatascience/blob/master/semana3/semana3.ipynb\" target=\"_parent\"><img src=\"https://colab.research.google.com/assets/colab-badge.svg\" alt=\"Open In Colab\"/></a>"
      ]
    },
    {
      "cell_type": "markdown",
      "source": [
        "Tendo feito o tratamento e análise dos dados, agora podemos construir modelos de classificação que serão úteis para o Alura Voz, entre os modelos que podemos criar estão o SVC, Decision Tree e Random Forest.\n",
        "\n",
        "### Importando bibliotecas\n",
        "\n",
        "Para a aplicação utilizaremos `pandas`, `seaborn`, `sklearn`, `imblearn` e `sys`. Para saber mais sobre as bibliotecas sklearn e imblearn, acesse a documentação:\n",
        "- [Scikit Learn](https://scikit-learn.org/stable/); e\n",
        "- [Imbalanced Learn](https://imbalanced-learn.org/stable/)."
      ],
      "metadata": {
        "id": "WD02ffh-_m8h"
      }
    },
    {
      "cell_type": "code",
      "execution_count": null,
      "metadata": {
        "id": "3yB3bMO9_jFD"
      },
      "outputs": [],
      "source": [
        ""
      ]
    }
  ]
}